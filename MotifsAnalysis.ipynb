{
 "cells": [
  {
   "cell_type": "code",
   "outputs": [],
   "source": [
    "import pandas as pd\n",
    "import numpy as np\n",
    "import matplotlib.pyplot as plt\n",
    "import os"
   ],
   "metadata": {
    "collapsed": false,
    "ExecuteTime": {
     "end_time": "2024-04-13T14:18:50.236360Z",
     "start_time": "2024-04-13T14:18:50.234884Z"
    }
   },
   "id": "b8a771078ad003e5",
   "execution_count": 1
  },
  {
   "cell_type": "code",
   "execution_count": 3,
   "id": "initial_id",
   "metadata": {
    "collapsed": true,
    "ExecuteTime": {
     "end_time": "2024-04-13T14:18:57.412023Z",
     "start_time": "2024-04-13T14:18:56.873515Z"
    }
   },
   "outputs": [],
   "source": [
    "def load_npy(filename):\n",
    "    return np.load(filename)\n",
    "\n",
    "\n",
    "dir_path = 'dataset/cleaned_time_series/'\n",
    "len_threshold = 1280\n",
    "X, y, ids = [], [], []\n",
    "\n",
    "for file in os.listdir(dir_path):\n",
    "    if os.path.splitext(file)[1] != '.npy':\n",
    "        continue\n",
    "\n",
    "    split = file.split(\"_\")\n",
    "    ids.append(split[0])  # track_id\n",
    "    y.append(split[1][:-4])  # genre\n",
    "    ts = load_npy(dir_path + file)\n",
    "\n",
    "    if len(ts) > len_threshold:\n",
    "        ts = ts[0:len_threshold]\n",
    "    else:\n",
    "        # pad = [np.mean(ts[:-5])] * (len_threshold-len(ts)) # fill by mean value of last n observations\n",
    "        pad = [ts[-1]] * (len_threshold - len(ts))  # fill with last observation\n",
    "        ts = np.append(ts, pad)\n",
    "\n",
    "    X.append([ts])\n",
    "\n",
    "X, y, ids = np.array(X), np.array(y), np.array(ids)"
   ]
  },
  {
   "cell_type": "markdown",
   "source": [
    "**Analysis of the dataset to find motifs and/or anomalies**"
   ],
   "metadata": {
    "collapsed": false
   },
   "id": "84909554f45f5e1f"
  },
  {
   "cell_type": "code",
   "outputs": [],
   "source": [],
   "metadata": {
    "collapsed": false
   },
   "id": "711280257d2b51e3"
  }
 ],
 "metadata": {
  "kernelspec": {
   "display_name": "Python 3",
   "language": "python",
   "name": "python3"
  },
  "language_info": {
   "codemirror_mode": {
    "name": "ipython",
    "version": 2
   },
   "file_extension": ".py",
   "mimetype": "text/x-python",
   "name": "python",
   "nbconvert_exporter": "python",
   "pygments_lexer": "ipython2",
   "version": "2.7.6"
  }
 },
 "nbformat": 4,
 "nbformat_minor": 5
}
