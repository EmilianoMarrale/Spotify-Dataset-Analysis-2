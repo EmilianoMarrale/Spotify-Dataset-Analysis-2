{
 "cells": [
  {
   "cell_type": "code",
   "outputs": [],
   "source": [
    "import pandas as pd\n",
    "import numpy as np\n",
    "import matplotlib.pyplot as plt\n",
    "import os\n",
    "from matrixprofile import *\n",
    "import seaborn as sns\n",
    "import stumpy\n",
    "from matrixprofile.discords import discords\n",
    "import ast  # For parsing strings back to lists"
   ],
   "metadata": {
    "collapsed": false
   },
   "id": "b8a771078ad003e5",
   "execution_count": null
  },
  {
   "cell_type": "code",
   "execution_count": 161,
   "id": "initial_id",
   "metadata": {
    "collapsed": true,
    "ExecuteTime": {
     "end_time": "2024-04-16T18:07:53.685396Z",
     "start_time": "2024-04-16T18:07:51.898383Z"
    }
   },
   "outputs": [
    {
     "name": "stdout",
     "output_type": "stream",
     "text": [
      "10000\n"
     ]
    }
   ],
   "source": [
    "def load_npy(filename):\n",
    "    return np.load(filename)\n",
    "\n",
    "\n",
    "dir_path = 'cleaned_time_series/'\n",
    "len_threshold = 1280\n",
    "X, y, ids = [], [], []\n",
    "\n",
    "for file in os.listdir(dir_path):\n",
    "    if os.path.splitext(file)[1] != '.npy':\n",
    "        continue\n",
    "\n",
    "    split = file.split(\"_\")\n",
    "    ids.append(split[0])  # track_id\n",
    "    y.append(split[1][:-4])  # genre\n",
    "    ts = load_npy(dir_path + file)\n",
    "\n",
    "    if len(ts) > len_threshold:\n",
    "        ts = ts[0:len_threshold]\n",
    "    else:\n",
    "        # pad = [np.mean(ts[:-5])] * (len_threshold-len(ts)) # fill by mean value of last n observations\n",
    "        pad = [ts[-1]] * (len_threshold - len(ts))  # fill with last observation\n",
    "        ts = np.append(ts, pad)\n",
    "\n",
    "    X.append([ts])\n",
    "\n",
    "X, y, ids = np.array(X), np.array(y), np.array(ids)\n",
    "print(len(X))"
   ]
  },
  {
   "cell_type": "markdown",
   "source": [
    "**Analysis of the dataset to find motifs and/or anomalies**"
   ],
   "metadata": {
    "collapsed": false
   },
   "id": "84909554f45f5e1f"
  },
  {
   "cell_type": "markdown",
   "source": [
    "# Matrix Profile (Overview)\n",
    "• The Matrix Profile (MP) is a data structure that annotates a TS and\n",
    "can be exploited for many purposed: e.g. efficient Motif Discovery."
   ],
   "metadata": {
    "collapsed": false
   },
   "id": "7e4745d33a13f06c"
  },
  {
   "cell_type": "markdown",
   "source": [
    "## Here using matrixprofile library (the one given by the professor)"
   ],
   "metadata": {
    "collapsed": false
   },
   "id": "3244febdd86a8b46"
  },
  {
   "cell_type": "code",
   "outputs": [],
   "source": [
    "plt.plot(X[0,-1].T)\n",
    "plt.show()"
   ],
   "metadata": {
    "collapsed": false
   },
   "id": "8259d859a9f9b20",
   "execution_count": null
  },
  {
   "cell_type": "code",
   "outputs": [],
   "source": [
    "w = 50\n",
    "ts = pd.Series(X[0,-1].T)\n",
    "mp, mpi = matrixProfile.stomp(ts.values, w)\n",
    "'''\n",
    "The function *stomp* returns two arrays:\n",
    "mp (Matrix Profile): An array where each element represents the smallest distance between a subsequence in the time series and its nearest, non-trivial matching subsequence.\n",
    "mpi (Matrix Profile Index): An array of the indices where these minimum distances occur.\n",
    "'''\n",
    "plt.plot(mp)\n",
    "plt.show()"
   ],
   "metadata": {
    "collapsed": false
   },
   "id": "fdd2e8e512dbb0d5",
   "execution_count": null
  },
  {
   "cell_type": "markdown",
   "source": [
    "## Here using stumpy library"
   ],
   "metadata": {
    "collapsed": false
   },
   "id": "f24ec59ce6f02e50"
  },
  {
   "cell_type": "code",
   "outputs": [],
   "source": [
    "X[0,-1].T"
   ],
   "metadata": {
    "collapsed": false
   },
   "id": "7cc0cee5b0beffd",
   "execution_count": null
  },
  {
   "cell_type": "code",
   "outputs": [],
   "source": [
    "m = 50\n",
    "y = X[0,-1].T\n",
    "x = range(0,1280)\n",
    "matrix_profile = stumpy.stump(y, m)"
   ],
   "metadata": {
    "collapsed": false
   },
   "id": "58c93b489e7bb721",
   "execution_count": null
  },
  {
   "cell_type": "code",
   "outputs": [],
   "source": [
    "matrix_profile"
   ],
   "metadata": {
    "collapsed": false
   },
   "id": "58ecf0f4cf87f551",
   "execution_count": null
  },
  {
   "cell_type": "code",
   "outputs": [],
   "source": [
    "matrix_profile_df = pd.DataFrame(matrix_profile, columns=['profile', 'profile index', 'left profile index', 'right profile index'])"
   ],
   "metadata": {
    "collapsed": false
   },
   "id": "10ff15563d2f2330",
   "execution_count": null
  },
  {
   "cell_type": "code",
   "outputs": [],
   "source": [
    "matrix_profile_df"
   ],
   "metadata": {
    "collapsed": false
   },
   "id": "406070d1d6db6f88",
   "execution_count": null
  },
  {
   "cell_type": "markdown",
   "source": [
    "# Motif discovery (Overview)"
   ],
   "metadata": {
    "collapsed": false
   },
   "id": "103be9df615d1f83"
  },
  {
   "cell_type": "markdown",
   "source": [
    "## Using the matrix profile calculated by stumpy"
   ],
   "metadata": {
    "collapsed": false
   },
   "id": "eaa92da5ca8cff57"
  },
  {
   "cell_type": "markdown",
   "source": [
    "The best motif is the one where the profile is the smallest (since the profile is the distance value)\n",
    "\n",
    "Checking for the minimum will give us two matches, each of these should refer to each other which can be see by looking at the profile index:"
   ],
   "metadata": {
    "collapsed": false
   },
   "id": "f94f1b4dbff74a76"
  },
  {
   "cell_type": "code",
   "outputs": [],
   "source": [
    "best_motif = matrix_profile_df[matrix_profile_df['profile'] == matrix_profile_df['profile'].min()]\n",
    "best_motif"
   ],
   "metadata": {
    "collapsed": false
   },
   "id": "a8d6116a72a3fa7f",
   "execution_count": null
  },
  {
   "cell_type": "markdown",
   "source": [
    "We can plot this motif:"
   ],
   "metadata": {
    "collapsed": false
   },
   "id": "72144ee842d56421"
  },
  {
   "cell_type": "code",
   "outputs": [],
   "source": [
    "from matplotlib.patches import Rectangle\n",
    "\n",
    "profile_df = matrix_profile_df[['profile']]\n",
    "\n",
    "fig, ax = plt.subplots(2, figsize=(16,8), sharex=True)\n",
    "g1 = sns.lineplot(y=y, x=x, ax=ax[0])\n",
    "g2 = sns.lineplot(data=profile_df, ax=ax[1])\n",
    "\n",
    "for idx in best_motif.index.to_list():\n",
    "    g1.axvline(x=idx, color=\"green\")\n",
    "    g2.axvline(x=idx, color=\"green\")\n",
    "    rect = Rectangle((idx, 0), m, 40, facecolor=\"lightgrey\")\n",
    "    g1.add_patch(rect)"
   ],
   "metadata": {
    "collapsed": false
   },
   "id": "dc31a9191dae13d4",
   "execution_count": null
  },
  {
   "cell_type": "markdown",
   "source": [
    "We can also see the above zoomed in:"
   ],
   "metadata": {
    "collapsed": false
   },
   "id": "742a13073417da7d"
  },
  {
   "cell_type": "code",
   "outputs": [],
   "source": [
    "fig, ax = plt.subplots(figsize=(16,4))\n",
    "\n",
    "for idx in best_motif.index.to_list():\n",
    "    plot_y = y.iloc[idx:(idx+m)].to_list()\n",
    "    sns.lineplot(data=plot_y, ax=ax)"
   ],
   "metadata": {
    "collapsed": false
   },
   "id": "2f03d5b05e115ac2",
   "execution_count": null
  },
  {
   "cell_type": "markdown",
   "source": [
    "Comparatively, we can compare two random subsequences which don't have any specific relation\n",
    "\n"
   ],
   "metadata": {
    "collapsed": false
   },
   "id": "1fc8c18ed3434c1d"
  },
  {
   "cell_type": "code",
   "outputs": [],
   "source": [
    "fig, ax = plt.subplots(figsize=(16,4))\n",
    "\n",
    "for idx in [0, 1000]:\n",
    "    plot_y = y.iloc[idx:(idx+m)].to_list()\n",
    "    sns.lineplot(data=plot_y, ax=ax)"
   ],
   "metadata": {
    "collapsed": false
   },
   "id": "541846a6b5567f42",
   "execution_count": null
  },
  {
   "cell_type": "markdown",
   "source": [
    "## Find a discord/anomaly"
   ],
   "metadata": {
    "collapsed": false
   },
   "id": "28ec5427e38f1b21"
  },
  {
   "cell_type": "markdown",
   "source": [
    "Potential **discords/anomalies** can be located as data that's most different to any existing datapoints, this can be found by finding the max profile distance. We can find the anomaly segment by getting this value and plotting it below:"
   ],
   "metadata": {
    "collapsed": false
   },
   "id": "fd7eded2306d96b2"
  },
  {
   "cell_type": "code",
   "outputs": [],
   "source": [
    "discord = matrix_profile_df[matrix_profile_df['profile'] == matrix_profile_df['profile'].max()]\n",
    "discord"
   ],
   "metadata": {
    "collapsed": false
   },
   "id": "2f9432e9b3a3197e",
   "execution_count": null
  },
  {
   "cell_type": "code",
   "outputs": [],
   "source": [
    "fig, ax = plt.subplots(2, figsize=(16,8), sharex=True)\n",
    "g1 = sns.lineplot(y=y, x=x, ax=ax[0])\n",
    "g2 = sns.lineplot(data=profile_df, ax=ax[1])\n",
    "\n",
    "\n",
    "rect = Rectangle((discord.index[0], 0), m, 40, facecolor=\"lightgrey\")\n",
    "g1.add_patch(rect)\n",
    "g2.axvline(x=[discord.index[0]], color='C1')"
   ],
   "metadata": {
    "collapsed": false
   },
   "id": "f74a9e984f3873d6",
   "execution_count": null
  },
  {
   "cell_type": "markdown",
   "source": [
    "## Using the matrix profile calculated by matrixprofile library (the one given by the professor)"
   ],
   "metadata": {
    "collapsed": false
   },
   "id": "86a342cec4efa4ac"
  },
  {
   "cell_type": "code",
   "outputs": [],
   "source": [
    "mo, mod  = motifs.motifs(ts.values, (mp, mpi), max_motifs=1)"
   ],
   "metadata": {
    "collapsed": false
   },
   "id": "d9ce057de729d052",
   "execution_count": null
  },
  {
   "cell_type": "markdown",
   "source": [
    "Parameters\n",
    "- max_motifs: stop finding new motifs once we have max_motifs\n",
    "- radius: For each motif found, find neighbors that are within radius*motif_mp of the first.\n",
    "- n_neighbors: number of neighbors from the first to find. If it is None, find all.\n",
    "- ex_zone: minimum distance between indices for after each subsequence is identified. Defaults to m/2 where m is the subsequence length. If ex_zone = 0, only the found index is exclude, if ex_zone = 1 then if idx is found as a motif idx-1, idx, idx+1 are excluded."
   ],
   "metadata": {
    "collapsed": false
   },
   "id": "e1207de3af80407a"
  },
  {
   "cell_type": "markdown",
   "source": [
    "Returns\n",
    "The function returns a tuple (top_motifs, distances) which are lists of the same length.\n",
    "\n",
    "- top_motifs: This is a list of the indices found for each motif. The first index is the nth motif followed by all nearest neighbors found sorted by distances.\n",
    "- distances: Minimum Matrix profile value for each motif set.\n"
   ],
   "metadata": {
    "collapsed": false
   },
   "id": "1b633c7bff02e36d"
  },
  {
   "cell_type": "code",
   "outputs": [],
   "source": [
    "mo"
   ],
   "metadata": {
    "collapsed": false
   },
   "id": "6e3fba844a4de578",
   "execution_count": null
  },
  {
   "cell_type": "code",
   "outputs": [],
   "source": [
    "mod"
   ],
   "metadata": {
    "collapsed": false
   },
   "id": "f88a7aa9e3152fc3",
   "execution_count": null
  },
  {
   "cell_type": "code",
   "outputs": [],
   "source": [
    "plt.plot(ts.values)\n",
    "colors = ['r', 'g', 'k', 'b', 'y'][:len(mo)]\n",
    "for m, d, c in zip(mo, mod, colors):\n",
    "    for i in m:\n",
    "        m_shape = ts.values[i:i+w]\n",
    "        plt.plot(range(i,i+w), m_shape, color=c, lw=3)\n",
    "\n",
    "plt.show()"
   ],
   "metadata": {
    "collapsed": false
   },
   "id": "4b75d257d9db90f1",
   "execution_count": null
  },
  {
   "cell_type": "code",
   "outputs": [],
   "source": [
    "for m, d, c in zip(mo, mod, colors):\n",
    "    for i in m:\n",
    "        m_shape = ts.values[i:i+w]\n",
    "        plt.plot(range(i,i+w), m_shape, color=c, lw=3)\n",
    "    plt.show()"
   ],
   "metadata": {
    "collapsed": false
   },
   "id": "17ab6abacfff58bc",
   "execution_count": null
  },
  {
   "cell_type": "markdown",
   "source": [
    "## find a discord/anomaly (using matrixprofile library) (the one given by the professor)"
   ],
   "metadata": {
    "collapsed": false
   },
   "id": "d61c46f9281b0b56"
  },
  {
   "cell_type": "markdown",
   "source": [
    "Parameters  \n",
    "- mp: matrix profile numpy array\n",
    "- k: the number of discords to discover\n",
    "- ex_zone: the number of samples to exclude and set to Inf on either side of a found discord    "
   ],
   "metadata": {
    "collapsed": false
   },
   "id": "f206b8f1176ed644"
  },
  {
   "cell_type": "markdown",
   "source": [
    "Returns \n",
    " - a list of indexes represent the discord starting locations. MaxInt indicates there were no more discords that could be found due to too many exclusions or profile being too small. Discord start indices are sorted by highest matrix profile value."
   ],
   "metadata": {
    "collapsed": false
   },
   "id": "86a4cf5fe44e23e8"
  },
  {
   "cell_type": "code",
   "outputs": [],
   "source": [
    "anoms = discords(mp, ex_zone=3, k=1)"
   ],
   "metadata": {
    "collapsed": false
   },
   "id": "aa2f571e121e1e6b",
   "execution_count": null
  },
  {
   "cell_type": "code",
   "outputs": [],
   "source": [
    "anoms"
   ],
   "metadata": {
    "collapsed": false
   },
   "id": "c55325396b2f349f",
   "execution_count": null
  },
  {
   "cell_type": "code",
   "outputs": [],
   "source": [
    "plt.plot(ts.values)\n",
    "colors = ['r', 'g', 'k', 'b', 'y'][:len(mo)]\n",
    "for a, c in zip(anoms, colors):\n",
    "    a_shape = ts.values[a:a+w]\n",
    "    plt.plot(range(a, a+w), a_shape, color=c, lw=3)\n",
    "\n",
    "plt.show()"
   ],
   "metadata": {
    "collapsed": false
   },
   "id": "d02c7dc5a11a3f1a",
   "execution_count": null
  },
  {
   "cell_type": "code",
   "outputs": [],
   "source": [
    "plt.figure(figsize=(8, 3))\n",
    "x = ts.values\n",
    "plt.plot(range(len(x)), x, marker='o', color='r')\n",
    "plt.xticks(range(len(x)))\n",
    "plt.grid()\n",
    "plt.show()"
   ],
   "metadata": {
    "collapsed": false
   },
   "id": "43472b99d633c1",
   "execution_count": null
  },
  {
   "cell_type": "code",
   "outputs": [],
   "source": [
    "w = 3\n",
    "mp = np.array([np.inf] * (len(x) - w + 1))\n",
    "for i in range(len(x) - w + 1):\n",
    "    #print('a', x[i:i+w])\n",
    "    for j in range(len(x) - w + 1):\n",
    "        if i == j:\n",
    "            continue\n",
    "        #print('b', x[j:j+w])\n",
    "        val = 0\n",
    "        for k in range(w):\n",
    "            val += np.abs(x[i + k] - x[j + k])\n",
    "        #print(val)\n",
    "        mp[i] = min(mp[i], val)\n",
    "    #print('')\n",
    "        "
   ],
   "metadata": {
    "collapsed": false
   },
   "id": "97ea3fabe214bcea",
   "execution_count": null
  },
  {
   "cell_type": "code",
   "outputs": [],
   "source": [
    "mp"
   ],
   "metadata": {
    "collapsed": false
   },
   "id": "c0efb8addaf4be0a",
   "execution_count": null
  },
  {
   "cell_type": "code",
   "outputs": [],
   "source": [
    "plt.figure(figsize=(8, 3))\n",
    "plt.plot(mp, marker='o', color='b')\n",
    "plt.xticks(range(len(mp)))\n",
    "plt.grid()\n",
    "plt.show()"
   ],
   "metadata": {
    "collapsed": false
   },
   "id": "53bacf5a231c74cc",
   "execution_count": null
  },
  {
   "cell_type": "code",
   "outputs": [],
   "source": [
    "mp, mpi = matrixProfile.naiveMP(ts.values, m=12)"
   ],
   "metadata": {
    "collapsed": false
   },
   "id": "2b7d8da337dddce",
   "execution_count": null
  },
  {
   "cell_type": "markdown",
   "source": [
    "# Matrix Profile in entire dataset"
   ],
   "metadata": {
    "collapsed": false
   },
   "id": "69db60091001f5a5"
  },
  {
   "cell_type": "markdown",
   "source": [
    "## Using stumpy library"
   ],
   "metadata": {
    "collapsed": false
   },
   "id": "d610d59f65994083"
  },
  {
   "cell_type": "markdown",
   "source": [
    "## Using matrixprofile library (the one given by the professor)"
   ],
   "metadata": {
    "collapsed": false
   },
   "id": "9e18cdf0043fc28f"
  },
  {
   "cell_type": "markdown",
   "source": [],
   "metadata": {
    "collapsed": false
   },
   "id": "3fa706c3f4c3dd33"
  },
  {
   "cell_type": "markdown",
   "source": [
    "This code will find the best motif and discord for each time series in the dataset and save them to CSV files.\n",
    "\n",
    "It's possibile to change the window size, number of motifs and number of discords to find by changing the values of `w`, `n_motifs` and `n_discords` respectively."
   ],
   "metadata": {
    "collapsed": false
   },
   "id": "47b833ae7c9be40d"
  },
  {
   "cell_type": "code",
   "outputs": [],
   "source": [
    "# Initialize the directory paths\n",
    "best_motif_dir = 'best_motifs'\n",
    "best_discord_dir = 'best_discord'\n",
    "\n",
    "# Create directories if they don't exist\n",
    "os.makedirs(best_motif_dir, exist_ok=True)\n",
    "os.makedirs(best_discord_dir, exist_ok=True)\n",
    "\n",
    "w = 40 # window size\n",
    "n_motifs = 3 # number of motifs to find\n",
    "n_discords = 2 # number of discords to find\n",
    "\n",
    "for i in range(len(X)):\n",
    "    ts = pd.Series(X[i,-1].T)\n",
    "    mp, mpi = matrixProfile.stomp(ts.values, w)\n",
    "    mo, mod  = motifs.motifs(ts.values, (mp, mpi), max_motifs=n_motifs)\n",
    "    anoms = discords(mp, ex_zone=3, k=n_discords)\n",
    "\n",
    "\n",
    "    motif_df = pd.DataFrame({'Motifs': [str(m) for m in mo]})\n",
    "    motif_df.to_csv(os.path.join(best_motif_dir, f'best_motif_series_{i}.csv'), index=False)\n",
    "\n",
    "    print(f\"Best motif for {i}: {mo}\")\n",
    "    print(f\"Discord for {i}: {anoms}\")\n",
    "\n",
    "    #best_motif.to_csv(f'best_motifs/best_motif_series_{i}.csv', index=False)\n",
    "    discord_df = pd.DataFrame({'Discords': anoms})\n",
    "    discord_df.to_csv(os.path.join(best_discord_dir, f'discord_series_{i}.csv'), index=False)"
   ],
   "metadata": {
    "collapsed": false
   },
   "id": "43b86183fdeb3f6f",
   "execution_count": null
  },
  {
   "cell_type": "markdown",
   "source": [
    "This code will load the best motifs and discords for each time series from the CSV files and combine them into two DataFrames: one for motifs and one for discords."
   ],
   "metadata": {
    "collapsed": false
   },
   "id": "b5a3a8fe7b19072f"
  },
  {
   "cell_type": "code",
   "outputs": [],
   "source": [
    "# Number of time series\n",
    "num_series = 3\n",
    "\n",
    "# Initialize empty DataFrames for motifs and discords\n",
    "all_motifs = pd.DataFrame()\n",
    "all_discords = pd.DataFrame()\n",
    "\n",
    "# Loop through each time series to gather motifs and discords\n",
    "for i in range(len(X)):\n",
    "    # Load motifs and discords from CSV\n",
    "    best_motif = pd.read_csv(f'best_motifs/best_motif_series_{i}.csv')\n",
    "    discord = pd.read_csv(f'best_discord/discord_series_{i}.csv')\n",
    "\n",
    "    # Add a column for series identifier\n",
    "    best_motif['index'] = i\n",
    "    best_motif['id'] = ids[i]\n",
    "    discord['index'] = i\n",
    "    discord['id'] = ids[i]\n",
    "    \n",
    "    # Append the motifs and discords to the respective data frames\n",
    "    all_motifs = pd.concat([all_motifs, best_motif], ignore_index=True)\n",
    "    all_discords = pd.concat([all_discords, discord], ignore_index=True)\n",
    "\n",
    "# Reset index of the final data frames\n",
    "all_motifs.reset_index(drop=True, inplace=True)\n",
    "all_discords.reset_index(drop=True, inplace=True)\n",
    "\n",
    "# Now 'all_motifs' and 'all_discords' DataFrames contain all motifs and discords from all series respectively"
   ],
   "metadata": {
    "collapsed": false
   },
   "id": "3dc83d69aa030751",
   "execution_count": null
  },
  {
   "cell_type": "markdown",
   "source": [
    "Now that we have found the best motifs and discords for each time series, we can plot them. First of all we have to load the motifs and discords from the CSV files and then plot them."
   ],
   "metadata": {
    "collapsed": false
   },
   "id": "c956fd7c9d20cc8b"
  },
  {
   "cell_type": "code",
   "outputs": [],
   "source": [
    "# Number of time series\n",
    "num_series = 3\n",
    "\n",
    "colors = ['g', 'k', 'b', 'y']\n",
    "# Plotting each series' motifs and discords\n",
    "for i in range(num_series):\n",
    "    # Load motifs and discords from CSV\n",
    "    best_motif = pd.read_csv(f'best_motifs/best_motif_series_{i}.csv')\n",
    "    discord = pd.read_csv(f'best_discord/discord_series_{i}.csv')\n",
    "\n",
    "    # Assuming you have the original time series data in 'X'\n",
    "    y = X[i, -1].T\n",
    "    \n",
    "\n",
    "    # Create a plot for the time series and its motifs/discords\n",
    "    plt.figure(figsize=(14, 5))\n",
    "    plt.title(f\"Time Series {i} - Motifs and Discords\")\n",
    "    plt.plot(y, label='Time Series', color='lightgray')\n",
    "\n",
    "    # Highlight motifs and discords\n",
    "    color_index = 0\n",
    "    for index, motif in enumerate(best_motif['Motifs']):\n",
    "        motif_indices = ast.literal_eval(motif)  # Convert string back to list\n",
    "        color = colors[color_index % len(colors)]  # Cycle through colors if there are more motifs than colors\n",
    "        for start_index in motif_indices:\n",
    "            plt.plot(range(start_index, start_index + w), y[start_index:start_index + w], label=f'Motif {index + 1}', color=color)\n",
    "        plt.plot([], [], color=color, label=f'Motif {index + 1}', linewidth=3)  # Add legend entry\n",
    "        color_index += 1\n",
    "\n",
    "\n",
    "# Highlight discords\n",
    "    for discord_index in discord['Discords']:\n",
    "        start_index = int(discord_index)\n",
    "        plt.plot(range(start_index, start_index + w), y[start_index:start_index + w], label='Discord', color='red')\n",
    "\n",
    "\n",
    "    # Ensure legends are not repeatedly added\n",
    "    handles, labels = plt.gca().get_legend_handles_labels()\n",
    "    by_label = dict(zip(labels, handles))\n",
    "    plt.legend(by_label.values(), by_label.keys())\n",
    "    plt.show()\n"
   ],
   "metadata": {
    "collapsed": false
   },
   "id": "2dd353c8e66b338e",
   "execution_count": null
  },
  {
   "cell_type": "markdown",
   "source": [
    "Now we create a new column in the all_motifs dataframe that contains the number of times each motif is duplicated in the dataframe. We then sort the motifs by the number of duplicates and plot the motifs for each series."
   ],
   "metadata": {
    "collapsed": false
   },
   "id": "2c4461890ab747da"
  },
  {
   "cell_type": "code",
   "outputs": [],
   "source": [
    "# In the all_motifs dataframe, create a new column 'n_duplicated' that contains the number of times each motif is duplicated in the dataframe\n",
    "all_motifs['n_duplicated'] = all_motifs.duplicated(subset='Motifs', keep=False).groupby(all_motifs['Motifs']).transform('sum')\n",
    "\n",
    "# Sort the motifs by the number of duplicates\n",
    "all_motifs.sort_values('n_duplicated', ascending=False, inplace=True)\n",
    "\n",
    "all_motifs.sort_values(by=['Motifs','n_duplicated', 'index'], ascending=[True,False, True], inplace=True)"
   ],
   "metadata": {
    "collapsed": false
   },
   "id": "c0bb8783b7adede9",
   "execution_count": null
  },
  {
   "cell_type": "code",
   "outputs": [],
   "source": [
    "motif_copy = all_motifs[all_motifs['n_duplicated'] > 1]\n",
    "len(motif_copy)"
   ],
   "metadata": {
    "collapsed": false
   },
   "id": "211686676c8b8133",
   "execution_count": null
  },
  {
   "cell_type": "code",
   "outputs": [],
   "source": [
    "# Number of time series\n",
    "num_series = 3\n",
    "\n",
    "motif_copy = all_motifs[all_motifs['n_duplicated'] > 2]\n",
    "# drop duplicated ids from motif_copy\n",
    "motif_copy = motif_copy.drop_duplicates(subset='id', keep='first')\n",
    "\n",
    "colors = ['g', 'k', 'b', 'y']\n",
    "# Plotting each series' motifs and discords\n",
    "for series_id in motif_copy['index'].unique():\n",
    "    # Load motifs and discords from CSV\n",
    "    best_motif = motif_copy[motif_copy['index'] == series_id]\n",
    "\n",
    "    # Assuming you have the original time series data in 'X'\n",
    "    ts = X[series_id, -1].T\n",
    "    \n",
    "    print(ids[series_id])\n",
    "    print(y[series_id])\n",
    "\n",
    "\n",
    "# Create a plot for the time series and its motifs/discords\n",
    "    plt.figure(figsize=(14, 5))\n",
    "    plt.title(f\"Time Series {series_id} - Motifs\")\n",
    "    plt.plot(ts, label='Time Series', color='lightgray')\n",
    "\n",
    "    # Highlight motifs and discords\n",
    "    color_index = 0\n",
    "    for index, motif in enumerate(best_motif['Motifs']):\n",
    "        motif_indices = ast.literal_eval(motif)  # Convert string back to list\n",
    "        color = colors[color_index % len(colors)]  # Cycle through colors\n",
    "        for start_index in motif_indices:\n",
    "            plt.plot(range(start_index, start_index + w), ts[start_index:start_index + w], label=f'Motif {index + 1} {motif_indices}', color=color)\n",
    "        plt.plot([], [], color=color, label=f'Motif {index + 1}', linewidth=3)  # Add legend entry\n",
    "        color_index += 1\n",
    "\n",
    "\n",
    "    # Ensure legends are not repeatedly added\n",
    "    handles, labels = plt.gca().get_legend_handles_labels()\n",
    "    by_label = dict(zip(labels, handles))\n",
    "    plt.legend(by_label.values(), by_label.keys())\n",
    "    plt.show()\n"
   ],
   "metadata": {
    "collapsed": false
   },
   "id": "1eed5a528dff627e",
   "execution_count": null
  },
  {
   "cell_type": "markdown",
   "source": [
    "# Shapelets"
   ],
   "metadata": {
    "collapsed": false
   },
   "id": "7a504e75edaff092"
  },
  {
   "cell_type": "code",
   "outputs": [],
   "source": [
    "from tslearn.shapelets import ShapeletModel\n",
    "from tslearn.shapelets import grabocka_params_to_shapelet_size_dict\n",
    "from tslearn.utils import to_time_series_dataset\n",
    "from sklearn.model_selection import train_test_split\n",
    "from tensorflow.keras.optimizers import Adam\n",
    "from tslearn.shapelets import LearningShapelets, grabocka_params_to_shapelet_size_dict\n",
    "from tslearn.datasets import CachedDatasets\n",
    "from tslearn.preprocessing import TimeSeriesScalerMinMax\n",
    "from sklearn.preprocessing import LabelEncoder"
   ],
   "metadata": {
    "collapsed": false,
    "ExecuteTime": {
     "end_time": "2024-04-16T18:08:01.688956Z",
     "start_time": "2024-04-16T18:08:01.686484Z"
    }
   },
   "id": "5db81ec25d35500e",
   "execution_count": 162
  },
  {
   "cell_type": "markdown",
   "source": [
    "Shapelets are subsequences that can be used to represent a class. Matrix profiles make it possibile to identify these shapelets."
   ],
   "metadata": {
    "collapsed": false
   },
   "id": "e8c873956837858b"
  },
  {
   "cell_type": "code",
   "outputs": [],
   "source": [
    "# I need to convert the data genres in y to numerical values\n",
    "le = LabelEncoder()\n",
    "y = le.fit_transform(y)"
   ],
   "metadata": {
    "collapsed": false,
    "ExecuteTime": {
     "end_time": "2024-04-16T18:08:04.138878Z",
     "start_time": "2024-04-16T18:08:04.135368Z"
    }
   },
   "id": "4a4d7e0eef107919",
   "execution_count": 163
  },
  {
   "cell_type": "code",
   "outputs": [
    {
     "data": {
      "text/plain": "array(['opera'], dtype='<U17')"
     },
     "execution_count": 164,
     "metadata": {},
     "output_type": "execute_result"
    }
   ],
   "source": [
    "# And that's how we can convert them back\n",
    "le.inverse_transform([y[0]])"
   ],
   "metadata": {
    "collapsed": false,
    "ExecuteTime": {
     "end_time": "2024-04-16T18:08:07.005361Z",
     "start_time": "2024-04-16T18:08:07.002227Z"
    }
   },
   "id": "6158c9178c4f28c",
   "execution_count": 164
  },
  {
   "cell_type": "code",
   "outputs": [
    {
     "data": {
      "text/plain": "(10000, 1, 1280)"
     },
     "execution_count": 230,
     "metadata": {},
     "output_type": "execute_result"
    }
   ],
   "source": [
    "X.shape"
   ],
   "metadata": {
    "collapsed": false,
    "ExecuteTime": {
     "end_time": "2024-04-16T18:41:21.127011Z",
     "start_time": "2024-04-16T18:41:21.124767Z"
    }
   },
   "id": "e69a60fdb25e8d1f",
   "execution_count": 230
  },
  {
   "cell_type": "code",
   "outputs": [
    {
     "data": {
      "text/plain": "(10000, 1280, 1)"
     },
     "execution_count": 232,
     "metadata": {},
     "output_type": "execute_result"
    }
   ],
   "source": [
    "# To work with the tslearn library, we need to reshape the data where the first dimension is the number of time series, the second dimension is the number of points in each time series, and the third dimension is the number of dimensions (in this case, 1 since we have univariate time series).\n",
    "X_reshaped = X.reshape(X.shape[0], X.shape[2], X.shape[1])\n",
    "\n",
    "X_reshaped.shape"
   ],
   "metadata": {
    "collapsed": false,
    "ExecuteTime": {
     "end_time": "2024-04-16T18:42:02.959761Z",
     "start_time": "2024-04-16T18:42:02.957028Z"
    }
   },
   "id": "45683eb376f9aaad",
   "execution_count": 232
  },
  {
   "cell_type": "code",
   "outputs": [],
   "source": [
    "formatted_dataset = to_time_series_dataset(X_reshaped)"
   ],
   "metadata": {
    "collapsed": false,
    "ExecuteTime": {
     "end_time": "2024-04-16T18:42:20.685488Z",
     "start_time": "2024-04-16T18:42:20.341471Z"
    }
   },
   "id": "3b9d35ae9ac7c916",
   "execution_count": 233
  },
  {
   "cell_type": "code",
   "outputs": [
    {
     "data": {
      "text/plain": "(10000, 1280, 1)"
     },
     "execution_count": 234,
     "metadata": {},
     "output_type": "execute_result"
    }
   ],
   "source": [
    "formatted_dataset.shape"
   ],
   "metadata": {
    "collapsed": false,
    "ExecuteTime": {
     "end_time": "2024-04-16T18:42:21.250547Z",
     "start_time": "2024-04-16T18:42:21.248267Z"
    }
   },
   "id": "7889cdc2b6ad002b",
   "execution_count": 234
  },
  {
   "cell_type": "code",
   "outputs": [],
   "source": [
    "X_train, X_test, y_train, y_test = train_test_split(formatted_dataset, y, test_size=0.2, random_state=42, stratify=y)"
   ],
   "metadata": {
    "collapsed": false,
    "ExecuteTime": {
     "end_time": "2024-04-16T18:42:27.317958Z",
     "start_time": "2024-04-16T18:42:27.299027Z"
    }
   },
   "id": "506b87c6791490c7",
   "execution_count": 235
  },
  {
   "cell_type": "code",
   "outputs": [
    {
     "data": {
      "text/plain": "((8000, 1280, 1), (2000, 1280, 1), (8000,), (2000,))"
     },
     "execution_count": 236,
     "metadata": {},
     "output_type": "execute_result"
    }
   ],
   "source": [
    "X_train.shape, X_test.shape, y_train.shape, y_test.shape"
   ],
   "metadata": {
    "collapsed": false,
    "ExecuteTime": {
     "end_time": "2024-04-16T18:42:28.321359Z",
     "start_time": "2024-04-16T18:42:28.319140Z"
    }
   },
   "id": "e6617bb50d718224",
   "execution_count": 236
  },
  {
   "cell_type": "code",
   "outputs": [],
   "source": [
    "adam = Adam(learning_rate=0.01)"
   ],
   "metadata": {
    "collapsed": false,
    "ExecuteTime": {
     "end_time": "2024-04-16T18:43:14.580233Z",
     "start_time": "2024-04-16T18:43:14.574828Z"
    }
   },
   "id": "c6ed701187ecf5d8",
   "execution_count": 240
  },
  {
   "cell_type": "code",
   "outputs": [
    {
     "name": "stderr",
     "output_type": "stream",
     "text": [
      "/Library/Frameworks/Python.framework/Versions/3.11/lib/python3.11/site-packages/tslearn/shapelets/shapelets.py:354: FutureWarning: The default value for 'scale' is set to False in version 0.4 to ensure backward compatibility, but is likely to change in a future version.\n",
      "  warnings.warn(\"The default value for 'scale' is set to False \"\n"
     ]
    },
    {
     "name": "stdout",
     "output_type": "stream",
     "text": [
      "CPU times: user 7.27 s, sys: 2.61 s, total: 9.88 s\n",
      "Wall time: 8.16 s\n"
     ]
    },
    {
     "data": {
      "text/plain": "LearningShapelets(max_iter=250, n_shapelets_per_size={40: 1},\n                  optimizer=<keras.src.optimizers.adam.Adam object at 0x33062d7d0>,\n                  random_state=42, weight_regularizer=0.001)",
      "text/html": "<style>#sk-container-id-2 {\n  /* Definition of color scheme common for light and dark mode */\n  --sklearn-color-text: black;\n  --sklearn-color-line: gray;\n  /* Definition of color scheme for unfitted estimators */\n  --sklearn-color-unfitted-level-0: #fff5e6;\n  --sklearn-color-unfitted-level-1: #f6e4d2;\n  --sklearn-color-unfitted-level-2: #ffe0b3;\n  --sklearn-color-unfitted-level-3: chocolate;\n  /* Definition of color scheme for fitted estimators */\n  --sklearn-color-fitted-level-0: #f0f8ff;\n  --sklearn-color-fitted-level-1: #d4ebff;\n  --sklearn-color-fitted-level-2: #b3dbfd;\n  --sklearn-color-fitted-level-3: cornflowerblue;\n\n  /* Specific color for light theme */\n  --sklearn-color-text-on-default-background: var(--sg-text-color, var(--theme-code-foreground, var(--jp-content-font-color1, black)));\n  --sklearn-color-background: var(--sg-background-color, var(--theme-background, var(--jp-layout-color0, white)));\n  --sklearn-color-border-box: var(--sg-text-color, var(--theme-code-foreground, var(--jp-content-font-color1, black)));\n  --sklearn-color-icon: #696969;\n\n  @media (prefers-color-scheme: dark) {\n    /* Redefinition of color scheme for dark theme */\n    --sklearn-color-text-on-default-background: var(--sg-text-color, var(--theme-code-foreground, var(--jp-content-font-color1, white)));\n    --sklearn-color-background: var(--sg-background-color, var(--theme-background, var(--jp-layout-color0, #111)));\n    --sklearn-color-border-box: var(--sg-text-color, var(--theme-code-foreground, var(--jp-content-font-color1, white)));\n    --sklearn-color-icon: #878787;\n  }\n}\n\n#sk-container-id-2 {\n  color: var(--sklearn-color-text);\n}\n\n#sk-container-id-2 pre {\n  padding: 0;\n}\n\n#sk-container-id-2 input.sk-hidden--visually {\n  border: 0;\n  clip: rect(1px 1px 1px 1px);\n  clip: rect(1px, 1px, 1px, 1px);\n  height: 1px;\n  margin: -1px;\n  overflow: hidden;\n  padding: 0;\n  position: absolute;\n  width: 1px;\n}\n\n#sk-container-id-2 div.sk-dashed-wrapped {\n  border: 1px dashed var(--sklearn-color-line);\n  margin: 0 0.4em 0.5em 0.4em;\n  box-sizing: border-box;\n  padding-bottom: 0.4em;\n  background-color: var(--sklearn-color-background);\n}\n\n#sk-container-id-2 div.sk-container {\n  /* jupyter's `normalize.less` sets `[hidden] { display: none; }`\n     but bootstrap.min.css set `[hidden] { display: none !important; }`\n     so we also need the `!important` here to be able to override the\n     default hidden behavior on the sphinx rendered scikit-learn.org.\n     See: https://github.com/scikit-learn/scikit-learn/issues/21755 */\n  display: inline-block !important;\n  position: relative;\n}\n\n#sk-container-id-2 div.sk-text-repr-fallback {\n  display: none;\n}\n\ndiv.sk-parallel-item,\ndiv.sk-serial,\ndiv.sk-item {\n  /* draw centered vertical line to link estimators */\n  background-image: linear-gradient(var(--sklearn-color-text-on-default-background), var(--sklearn-color-text-on-default-background));\n  background-size: 2px 100%;\n  background-repeat: no-repeat;\n  background-position: center center;\n}\n\n/* Parallel-specific style estimator block */\n\n#sk-container-id-2 div.sk-parallel-item::after {\n  content: \"\";\n  width: 100%;\n  border-bottom: 2px solid var(--sklearn-color-text-on-default-background);\n  flex-grow: 1;\n}\n\n#sk-container-id-2 div.sk-parallel {\n  display: flex;\n  align-items: stretch;\n  justify-content: center;\n  background-color: var(--sklearn-color-background);\n  position: relative;\n}\n\n#sk-container-id-2 div.sk-parallel-item {\n  display: flex;\n  flex-direction: column;\n}\n\n#sk-container-id-2 div.sk-parallel-item:first-child::after {\n  align-self: flex-end;\n  width: 50%;\n}\n\n#sk-container-id-2 div.sk-parallel-item:last-child::after {\n  align-self: flex-start;\n  width: 50%;\n}\n\n#sk-container-id-2 div.sk-parallel-item:only-child::after {\n  width: 0;\n}\n\n/* Serial-specific style estimator block */\n\n#sk-container-id-2 div.sk-serial {\n  display: flex;\n  flex-direction: column;\n  align-items: center;\n  background-color: var(--sklearn-color-background);\n  padding-right: 1em;\n  padding-left: 1em;\n}\n\n\n/* Toggleable style: style used for estimator/Pipeline/ColumnTransformer box that is\nclickable and can be expanded/collapsed.\n- Pipeline and ColumnTransformer use this feature and define the default style\n- Estimators will overwrite some part of the style using the `sk-estimator` class\n*/\n\n/* Pipeline and ColumnTransformer style (default) */\n\n#sk-container-id-2 div.sk-toggleable {\n  /* Default theme specific background. It is overwritten whether we have a\n  specific estimator or a Pipeline/ColumnTransformer */\n  background-color: var(--sklearn-color-background);\n}\n\n/* Toggleable label */\n#sk-container-id-2 label.sk-toggleable__label {\n  cursor: pointer;\n  display: block;\n  width: 100%;\n  margin-bottom: 0;\n  padding: 0.5em;\n  box-sizing: border-box;\n  text-align: center;\n}\n\n#sk-container-id-2 label.sk-toggleable__label-arrow:before {\n  /* Arrow on the left of the label */\n  content: \"▸\";\n  float: left;\n  margin-right: 0.25em;\n  color: var(--sklearn-color-icon);\n}\n\n#sk-container-id-2 label.sk-toggleable__label-arrow:hover:before {\n  color: var(--sklearn-color-text);\n}\n\n/* Toggleable content - dropdown */\n\n#sk-container-id-2 div.sk-toggleable__content {\n  max-height: 0;\n  max-width: 0;\n  overflow: hidden;\n  text-align: left;\n  /* unfitted */\n  background-color: var(--sklearn-color-unfitted-level-0);\n}\n\n#sk-container-id-2 div.sk-toggleable__content.fitted {\n  /* fitted */\n  background-color: var(--sklearn-color-fitted-level-0);\n}\n\n#sk-container-id-2 div.sk-toggleable__content pre {\n  margin: 0.2em;\n  border-radius: 0.25em;\n  color: var(--sklearn-color-text);\n  /* unfitted */\n  background-color: var(--sklearn-color-unfitted-level-0);\n}\n\n#sk-container-id-2 div.sk-toggleable__content.fitted pre {\n  /* unfitted */\n  background-color: var(--sklearn-color-fitted-level-0);\n}\n\n#sk-container-id-2 input.sk-toggleable__control:checked~div.sk-toggleable__content {\n  /* Expand drop-down */\n  max-height: 200px;\n  max-width: 100%;\n  overflow: auto;\n}\n\n#sk-container-id-2 input.sk-toggleable__control:checked~label.sk-toggleable__label-arrow:before {\n  content: \"▾\";\n}\n\n/* Pipeline/ColumnTransformer-specific style */\n\n#sk-container-id-2 div.sk-label input.sk-toggleable__control:checked~label.sk-toggleable__label {\n  color: var(--sklearn-color-text);\n  background-color: var(--sklearn-color-unfitted-level-2);\n}\n\n#sk-container-id-2 div.sk-label.fitted input.sk-toggleable__control:checked~label.sk-toggleable__label {\n  background-color: var(--sklearn-color-fitted-level-2);\n}\n\n/* Estimator-specific style */\n\n/* Colorize estimator box */\n#sk-container-id-2 div.sk-estimator input.sk-toggleable__control:checked~label.sk-toggleable__label {\n  /* unfitted */\n  background-color: var(--sklearn-color-unfitted-level-2);\n}\n\n#sk-container-id-2 div.sk-estimator.fitted input.sk-toggleable__control:checked~label.sk-toggleable__label {\n  /* fitted */\n  background-color: var(--sklearn-color-fitted-level-2);\n}\n\n#sk-container-id-2 div.sk-label label.sk-toggleable__label,\n#sk-container-id-2 div.sk-label label {\n  /* The background is the default theme color */\n  color: var(--sklearn-color-text-on-default-background);\n}\n\n/* On hover, darken the color of the background */\n#sk-container-id-2 div.sk-label:hover label.sk-toggleable__label {\n  color: var(--sklearn-color-text);\n  background-color: var(--sklearn-color-unfitted-level-2);\n}\n\n/* Label box, darken color on hover, fitted */\n#sk-container-id-2 div.sk-label.fitted:hover label.sk-toggleable__label.fitted {\n  color: var(--sklearn-color-text);\n  background-color: var(--sklearn-color-fitted-level-2);\n}\n\n/* Estimator label */\n\n#sk-container-id-2 div.sk-label label {\n  font-family: monospace;\n  font-weight: bold;\n  display: inline-block;\n  line-height: 1.2em;\n}\n\n#sk-container-id-2 div.sk-label-container {\n  text-align: center;\n}\n\n/* Estimator-specific */\n#sk-container-id-2 div.sk-estimator {\n  font-family: monospace;\n  border: 1px dotted var(--sklearn-color-border-box);\n  border-radius: 0.25em;\n  box-sizing: border-box;\n  margin-bottom: 0.5em;\n  /* unfitted */\n  background-color: var(--sklearn-color-unfitted-level-0);\n}\n\n#sk-container-id-2 div.sk-estimator.fitted {\n  /* fitted */\n  background-color: var(--sklearn-color-fitted-level-0);\n}\n\n/* on hover */\n#sk-container-id-2 div.sk-estimator:hover {\n  /* unfitted */\n  background-color: var(--sklearn-color-unfitted-level-2);\n}\n\n#sk-container-id-2 div.sk-estimator.fitted:hover {\n  /* fitted */\n  background-color: var(--sklearn-color-fitted-level-2);\n}\n\n/* Specification for estimator info (e.g. \"i\" and \"?\") */\n\n/* Common style for \"i\" and \"?\" */\n\n.sk-estimator-doc-link,\na:link.sk-estimator-doc-link,\na:visited.sk-estimator-doc-link {\n  float: right;\n  font-size: smaller;\n  line-height: 1em;\n  font-family: monospace;\n  background-color: var(--sklearn-color-background);\n  border-radius: 1em;\n  height: 1em;\n  width: 1em;\n  text-decoration: none !important;\n  margin-left: 1ex;\n  /* unfitted */\n  border: var(--sklearn-color-unfitted-level-1) 1pt solid;\n  color: var(--sklearn-color-unfitted-level-1);\n}\n\n.sk-estimator-doc-link.fitted,\na:link.sk-estimator-doc-link.fitted,\na:visited.sk-estimator-doc-link.fitted {\n  /* fitted */\n  border: var(--sklearn-color-fitted-level-1) 1pt solid;\n  color: var(--sklearn-color-fitted-level-1);\n}\n\n/* On hover */\ndiv.sk-estimator:hover .sk-estimator-doc-link:hover,\n.sk-estimator-doc-link:hover,\ndiv.sk-label-container:hover .sk-estimator-doc-link:hover,\n.sk-estimator-doc-link:hover {\n  /* unfitted */\n  background-color: var(--sklearn-color-unfitted-level-3);\n  color: var(--sklearn-color-background);\n  text-decoration: none;\n}\n\ndiv.sk-estimator.fitted:hover .sk-estimator-doc-link.fitted:hover,\n.sk-estimator-doc-link.fitted:hover,\ndiv.sk-label-container:hover .sk-estimator-doc-link.fitted:hover,\n.sk-estimator-doc-link.fitted:hover {\n  /* fitted */\n  background-color: var(--sklearn-color-fitted-level-3);\n  color: var(--sklearn-color-background);\n  text-decoration: none;\n}\n\n/* Span, style for the box shown on hovering the info icon */\n.sk-estimator-doc-link span {\n  display: none;\n  z-index: 9999;\n  position: relative;\n  font-weight: normal;\n  right: .2ex;\n  padding: .5ex;\n  margin: .5ex;\n  width: min-content;\n  min-width: 20ex;\n  max-width: 50ex;\n  color: var(--sklearn-color-text);\n  box-shadow: 2pt 2pt 4pt #999;\n  /* unfitted */\n  background: var(--sklearn-color-unfitted-level-0);\n  border: .5pt solid var(--sklearn-color-unfitted-level-3);\n}\n\n.sk-estimator-doc-link.fitted span {\n  /* fitted */\n  background: var(--sklearn-color-fitted-level-0);\n  border: var(--sklearn-color-fitted-level-3);\n}\n\n.sk-estimator-doc-link:hover span {\n  display: block;\n}\n\n/* \"?\"-specific style due to the `<a>` HTML tag */\n\n#sk-container-id-2 a.estimator_doc_link {\n  float: right;\n  font-size: 1rem;\n  line-height: 1em;\n  font-family: monospace;\n  background-color: var(--sklearn-color-background);\n  border-radius: 1rem;\n  height: 1rem;\n  width: 1rem;\n  text-decoration: none;\n  /* unfitted */\n  color: var(--sklearn-color-unfitted-level-1);\n  border: var(--sklearn-color-unfitted-level-1) 1pt solid;\n}\n\n#sk-container-id-2 a.estimator_doc_link.fitted {\n  /* fitted */\n  border: var(--sklearn-color-fitted-level-1) 1pt solid;\n  color: var(--sklearn-color-fitted-level-1);\n}\n\n/* On hover */\n#sk-container-id-2 a.estimator_doc_link:hover {\n  /* unfitted */\n  background-color: var(--sklearn-color-unfitted-level-3);\n  color: var(--sklearn-color-background);\n  text-decoration: none;\n}\n\n#sk-container-id-2 a.estimator_doc_link.fitted:hover {\n  /* fitted */\n  background-color: var(--sklearn-color-fitted-level-3);\n}\n</style><div id=\"sk-container-id-2\" class=\"sk-top-container\"><div class=\"sk-text-repr-fallback\"><pre>LearningShapelets(max_iter=250, n_shapelets_per_size={40: 1},\n                  optimizer=&lt;keras.src.optimizers.adam.Adam object at 0x33062d7d0&gt;,\n                  random_state=42, weight_regularizer=0.001)</pre><b>In a Jupyter environment, please rerun this cell to show the HTML representation or trust the notebook. <br />On GitHub, the HTML representation is unable to render, please try loading this page with nbviewer.org.</b></div><div class=\"sk-container\" hidden><div class=\"sk-item\"><div class=\"sk-estimator fitted sk-toggleable\"><input class=\"sk-toggleable__control sk-hidden--visually\" id=\"sk-estimator-id-2\" type=\"checkbox\" checked><label for=\"sk-estimator-id-2\" class=\"sk-toggleable__label fitted sk-toggleable__label-arrow fitted\">&nbsp;LearningShapelets<span class=\"sk-estimator-doc-link fitted\">i<span>Fitted</span></span></label><div class=\"sk-toggleable__content fitted\"><pre>LearningShapelets(max_iter=250, n_shapelets_per_size={40: 1},\n                  optimizer=&lt;keras.src.optimizers.adam.Adam object at 0x33062d7d0&gt;,\n                  random_state=42, weight_regularizer=0.001)</pre></div> </div></div></div></div>"
     },
     "execution_count": 241,
     "metadata": {},
     "output_type": "execute_result"
    }
   ],
   "source": [
    "%%time\n",
    "# We will extract 1 shapelet and align it with a time series\n",
    "shapelet_sizes = {40: 1}\n",
    "\n",
    "# Define the model and fit it using the training data\n",
    "shp_clf = LearningShapelets(n_shapelets_per_size=shapelet_sizes,\n",
    "                            weight_regularizer=0.001,\n",
    "                            optimizer=adam,\n",
    "                            max_iter=250,\n",
    "                            verbose=0,\n",
    "                            scale=False,\n",
    "                            random_state=42)\n",
    "shp_clf.fit(X_train[:5], y_train[:5])"
   ],
   "metadata": {
    "collapsed": false,
    "ExecuteTime": {
     "end_time": "2024-04-16T18:43:23.344241Z",
     "start_time": "2024-04-16T18:43:15.177359Z"
    }
   },
   "id": "11e1a8d7655f6e5b",
   "execution_count": 241
  },
  {
   "cell_type": "code",
   "outputs": [
    {
     "data": {
      "text/plain": "array([array([[ 0.09760165],\n              [ 0.09742235],\n              [ 0.10213374],\n              [ 0.34835377],\n              [ 0.0039369 ],\n              [ 0.13306189],\n              [ 0.06537931],\n              [ 0.00611399],\n              [-0.03769759],\n              [-0.13045375],\n              [-0.30814815],\n              [-0.25300485],\n              [-0.43169528],\n              [-0.62533832],\n              [-0.72372705],\n              [-0.76944077],\n              [-0.74592543],\n              [-0.45441568],\n              [-0.47513548],\n              [-0.31887195],\n              [-0.24783155],\n              [-0.18667558],\n              [-0.16192733],\n              [-0.27676496],\n              [-0.17637439],\n              [ 0.15752938],\n              [ 0.0337313 ],\n              [-0.15565577],\n              [ 0.09166205],\n              [ 0.61208141],\n              [ 0.59461826],\n              [ 0.53897452],\n              [ 0.263881  ],\n              [ 0.11792707],\n              [ 0.22779264],\n              [ 0.0152698 ],\n              [-0.37420502],\n              [-0.41539893],\n              [-0.17521316],\n              [-0.33140403]])], dtype=object)"
     },
     "execution_count": 242,
     "metadata": {},
     "output_type": "execute_result"
    }
   ],
   "source": [
    "# We can extract the shapelets from the model\n",
    "shapelets = shp_clf.shapelets_\n",
    "shapelets"
   ],
   "metadata": {
    "collapsed": false,
    "ExecuteTime": {
     "end_time": "2024-04-16T18:43:38.688658Z",
     "start_time": "2024-04-16T18:43:38.684502Z"
    }
   },
   "id": "23274f6a785fd6b2",
   "execution_count": 242
  },
  {
   "cell_type": "code",
   "outputs": [],
   "source": [],
   "metadata": {
    "collapsed": false
   },
   "id": "13599954c080f826"
  }
 ],
 "metadata": {
  "kernelspec": {
   "display_name": "Python 3",
   "language": "python",
   "name": "python3"
  },
  "language_info": {
   "codemirror_mode": {
    "name": "ipython",
    "version": 2
   },
   "file_extension": ".py",
   "mimetype": "text/x-python",
   "name": "python",
   "nbconvert_exporter": "python",
   "pygments_lexer": "ipython2",
   "version": "2.7.6"
  }
 },
 "nbformat": 4,
 "nbformat_minor": 5
}
