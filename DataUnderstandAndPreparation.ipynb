{
 "cells": [
  {
   "cell_type": "code",
   "execution_count": 2,
   "id": "initial_id",
   "metadata": {
    "collapsed": true,
    "ExecuteTime": {
     "end_time": "2024-03-14T22:26:23.993029Z",
     "start_time": "2024-03-14T22:26:22.104135Z"
    }
   },
   "outputs": [],
   "source": [
    "import pandas as pd\n",
    "import numpy as np"
   ]
  },
  {
   "cell_type": "code",
   "outputs": [],
   "source": [
    "artists_dataset = pd.read_csv('dataset/tabular/artists.csv')\n",
    "tracks_dataset = pd.read_csv('dataset/tabular/tracks.csv')"
   ],
   "metadata": {
    "collapsed": false,
    "ExecuteTime": {
     "end_time": "2024-03-14T23:23:40.824694Z",
     "start_time": "2024-03-14T23:23:40.534383Z"
    }
   },
   "id": "976293b7640715d3",
   "execution_count": 12
  },
  {
   "cell_type": "code",
   "outputs": [
    {
     "data": {
      "text/plain": "                            id                                        name  \\\n0       4rjA5kJJWbwU1prXCvg6Fk                                        Grey   \n1       6xzpUzzIquIyUzTLbbgSdI                                      Thrown   \n2       56tXgHlSHCfgmGhwVXNizc                                     Routine   \n3       0s3wIBczp6TdSJ2y8cveJl  Confronted - Anfisa Letyago Stranger Remix   \n4       4PSbDDd1LRYMhqPXvza6I2                             Jupiter Sunrise   \n...                        ...                                         ...   \n109542  0wiDjWz3U1WfwXSrWHXe2b     I'm Good (Blue) - REAPER Extended Remix   \n109543  46n9OJc7LOIVdj8t2l5WA5                            End Of The Night   \n109544  127uq83uGFapbddqiMUKky                     Sexy Bitch (feat. Akon)   \n109545  0ZdUHFxifUJNqo7G4aJzoF                                    Savannah   \n109546  0M4HcGtxIWVVH4rSNp6XhQ                                      Dejalo   \n\n        disc_number  duration_ms  explicit  popularity  track_number  \\\n0                 1       290479     False          52             5   \n1                 1       539229     False          45             5   \n2                 1       264200     False          39             5   \n3                 1       387413     False           0             6   \n4                 1       248956     False           0             1   \n...             ...          ...       ...         ...           ...   \n109542            1       209655      True          23             2   \n109543            1       205724      True          56             1   \n109544            1       195853      True          80             3   \n109545            1       208698     False          60             1   \n109546            1       202826     False          57             5   \n\n                               artists   album_type  \\\n0                               Kölsch        album   \n1                              Kiasmos        album   \n2                      Joris Delacroix        album   \n3               Pan-Pot;Anfisa Letyago       single   \n4                Kollektiv Turmstrasse  compilation   \n...                                ...          ...   \n109542  David Guetta;Bebe Rexha;REAPER       single   \n109543                     Danny Avila       single   \n109544               David Guetta;Akon        album   \n109545              Diviners;Philly K.       single   \n109546                            King        album   \n\n                            album_name  ... features_duration_ms  \\\n0                                 1989  ...               290479   \n1                              Kiasmos  ...               539229   \n2                        Night Visions  ...               264200   \n3                   Confronted Remixes  ...               387414   \n4                    10 Years Diynamic  ...               248957   \n...                                ...  ...                  ...   \n109542  I'm Good (Blue) [REAPER Remix]  ...               209655   \n109543                End Of The Night  ...               205724   \n109544                   One More Love  ...               195853   \n109545                        Savannah  ...               208698   \n109546                  Champagne Talk  ...               202826   \n\n       time_signature  start_of_fade_out  tempo_confidence  \\\n0                   3          275.90530             0.020   \n1                   4          517.28253             0.678   \n2                   3          259.04180             0.847   \n3                   4          387.41360             0.882   \n4                   4          239.63574             0.882   \n...               ...                ...               ...   \n109542              4          200.10376             0.729   \n109543              4          200.98611             0.712   \n109544              4          189.48643             0.814   \n109545              4          197.41605             0.650   \n109546              4          196.73688             0.428   \n\n        time_signature_confidence  key_confidence  mode_confidence  n_beats  \\\n0                           1.000           0.500            0.525    705.0   \n1                           0.326           0.410            0.589   1074.0   \n2                           0.457           0.904            0.760    516.0   \n3                           0.498           0.512            0.503    826.0   \n4                           1.000           0.474            0.459    493.0   \n...                           ...             ...              ...      ...   \n109542                      1.000           0.088            0.182    585.0   \n109543                      1.000           0.395            0.535    339.0   \n109544                      0.990           0.097            0.330    417.0   \n109545                      1.000           0.545            0.604    359.0   \n109546                      1.000           0.847            0.710    304.0   \n\n        n_bars           genre  \n0        234.0  minimal-techno  \n1        269.0  minimal-techno  \n2        171.0  minimal-techno  \n3        207.0  minimal-techno  \n4        123.0  minimal-techno  \n...        ...             ...  \n109542   145.0             edm  \n109543    84.0             edm  \n109544   106.0             edm  \n109545    89.0             edm  \n109546    75.0         hip-hop  \n\n[109547 rows x 34 columns]",
      "text/html": "<div>\n<style scoped>\n    .dataframe tbody tr th:only-of-type {\n        vertical-align: middle;\n    }\n\n    .dataframe tbody tr th {\n        vertical-align: top;\n    }\n\n    .dataframe thead th {\n        text-align: right;\n    }\n</style>\n<table border=\"1\" class=\"dataframe\">\n  <thead>\n    <tr style=\"text-align: right;\">\n      <th></th>\n      <th>id</th>\n      <th>name</th>\n      <th>disc_number</th>\n      <th>duration_ms</th>\n      <th>explicit</th>\n      <th>popularity</th>\n      <th>track_number</th>\n      <th>artists</th>\n      <th>album_type</th>\n      <th>album_name</th>\n      <th>...</th>\n      <th>features_duration_ms</th>\n      <th>time_signature</th>\n      <th>start_of_fade_out</th>\n      <th>tempo_confidence</th>\n      <th>time_signature_confidence</th>\n      <th>key_confidence</th>\n      <th>mode_confidence</th>\n      <th>n_beats</th>\n      <th>n_bars</th>\n      <th>genre</th>\n    </tr>\n  </thead>\n  <tbody>\n    <tr>\n      <th>0</th>\n      <td>4rjA5kJJWbwU1prXCvg6Fk</td>\n      <td>Grey</td>\n      <td>1</td>\n      <td>290479</td>\n      <td>False</td>\n      <td>52</td>\n      <td>5</td>\n      <td>Kölsch</td>\n      <td>album</td>\n      <td>1989</td>\n      <td>...</td>\n      <td>290479</td>\n      <td>3</td>\n      <td>275.90530</td>\n      <td>0.020</td>\n      <td>1.000</td>\n      <td>0.500</td>\n      <td>0.525</td>\n      <td>705.0</td>\n      <td>234.0</td>\n      <td>minimal-techno</td>\n    </tr>\n    <tr>\n      <th>1</th>\n      <td>6xzpUzzIquIyUzTLbbgSdI</td>\n      <td>Thrown</td>\n      <td>1</td>\n      <td>539229</td>\n      <td>False</td>\n      <td>45</td>\n      <td>5</td>\n      <td>Kiasmos</td>\n      <td>album</td>\n      <td>Kiasmos</td>\n      <td>...</td>\n      <td>539229</td>\n      <td>4</td>\n      <td>517.28253</td>\n      <td>0.678</td>\n      <td>0.326</td>\n      <td>0.410</td>\n      <td>0.589</td>\n      <td>1074.0</td>\n      <td>269.0</td>\n      <td>minimal-techno</td>\n    </tr>\n    <tr>\n      <th>2</th>\n      <td>56tXgHlSHCfgmGhwVXNizc</td>\n      <td>Routine</td>\n      <td>1</td>\n      <td>264200</td>\n      <td>False</td>\n      <td>39</td>\n      <td>5</td>\n      <td>Joris Delacroix</td>\n      <td>album</td>\n      <td>Night Visions</td>\n      <td>...</td>\n      <td>264200</td>\n      <td>3</td>\n      <td>259.04180</td>\n      <td>0.847</td>\n      <td>0.457</td>\n      <td>0.904</td>\n      <td>0.760</td>\n      <td>516.0</td>\n      <td>171.0</td>\n      <td>minimal-techno</td>\n    </tr>\n    <tr>\n      <th>3</th>\n      <td>0s3wIBczp6TdSJ2y8cveJl</td>\n      <td>Confronted - Anfisa Letyago Stranger Remix</td>\n      <td>1</td>\n      <td>387413</td>\n      <td>False</td>\n      <td>0</td>\n      <td>6</td>\n      <td>Pan-Pot;Anfisa Letyago</td>\n      <td>single</td>\n      <td>Confronted Remixes</td>\n      <td>...</td>\n      <td>387414</td>\n      <td>4</td>\n      <td>387.41360</td>\n      <td>0.882</td>\n      <td>0.498</td>\n      <td>0.512</td>\n      <td>0.503</td>\n      <td>826.0</td>\n      <td>207.0</td>\n      <td>minimal-techno</td>\n    </tr>\n    <tr>\n      <th>4</th>\n      <td>4PSbDDd1LRYMhqPXvza6I2</td>\n      <td>Jupiter Sunrise</td>\n      <td>1</td>\n      <td>248956</td>\n      <td>False</td>\n      <td>0</td>\n      <td>1</td>\n      <td>Kollektiv Turmstrasse</td>\n      <td>compilation</td>\n      <td>10 Years Diynamic</td>\n      <td>...</td>\n      <td>248957</td>\n      <td>4</td>\n      <td>239.63574</td>\n      <td>0.882</td>\n      <td>1.000</td>\n      <td>0.474</td>\n      <td>0.459</td>\n      <td>493.0</td>\n      <td>123.0</td>\n      <td>minimal-techno</td>\n    </tr>\n    <tr>\n      <th>...</th>\n      <td>...</td>\n      <td>...</td>\n      <td>...</td>\n      <td>...</td>\n      <td>...</td>\n      <td>...</td>\n      <td>...</td>\n      <td>...</td>\n      <td>...</td>\n      <td>...</td>\n      <td>...</td>\n      <td>...</td>\n      <td>...</td>\n      <td>...</td>\n      <td>...</td>\n      <td>...</td>\n      <td>...</td>\n      <td>...</td>\n      <td>...</td>\n      <td>...</td>\n      <td>...</td>\n    </tr>\n    <tr>\n      <th>109542</th>\n      <td>0wiDjWz3U1WfwXSrWHXe2b</td>\n      <td>I'm Good (Blue) - REAPER Extended Remix</td>\n      <td>1</td>\n      <td>209655</td>\n      <td>True</td>\n      <td>23</td>\n      <td>2</td>\n      <td>David Guetta;Bebe Rexha;REAPER</td>\n      <td>single</td>\n      <td>I'm Good (Blue) [REAPER Remix]</td>\n      <td>...</td>\n      <td>209655</td>\n      <td>4</td>\n      <td>200.10376</td>\n      <td>0.729</td>\n      <td>1.000</td>\n      <td>0.088</td>\n      <td>0.182</td>\n      <td>585.0</td>\n      <td>145.0</td>\n      <td>edm</td>\n    </tr>\n    <tr>\n      <th>109543</th>\n      <td>46n9OJc7LOIVdj8t2l5WA5</td>\n      <td>End Of The Night</td>\n      <td>1</td>\n      <td>205724</td>\n      <td>True</td>\n      <td>56</td>\n      <td>1</td>\n      <td>Danny Avila</td>\n      <td>single</td>\n      <td>End Of The Night</td>\n      <td>...</td>\n      <td>205724</td>\n      <td>4</td>\n      <td>200.98611</td>\n      <td>0.712</td>\n      <td>1.000</td>\n      <td>0.395</td>\n      <td>0.535</td>\n      <td>339.0</td>\n      <td>84.0</td>\n      <td>edm</td>\n    </tr>\n    <tr>\n      <th>109544</th>\n      <td>127uq83uGFapbddqiMUKky</td>\n      <td>Sexy Bitch (feat. Akon)</td>\n      <td>1</td>\n      <td>195853</td>\n      <td>True</td>\n      <td>80</td>\n      <td>3</td>\n      <td>David Guetta;Akon</td>\n      <td>album</td>\n      <td>One More Love</td>\n      <td>...</td>\n      <td>195853</td>\n      <td>4</td>\n      <td>189.48643</td>\n      <td>0.814</td>\n      <td>0.990</td>\n      <td>0.097</td>\n      <td>0.330</td>\n      <td>417.0</td>\n      <td>106.0</td>\n      <td>edm</td>\n    </tr>\n    <tr>\n      <th>109545</th>\n      <td>0ZdUHFxifUJNqo7G4aJzoF</td>\n      <td>Savannah</td>\n      <td>1</td>\n      <td>208698</td>\n      <td>False</td>\n      <td>60</td>\n      <td>1</td>\n      <td>Diviners;Philly K.</td>\n      <td>single</td>\n      <td>Savannah</td>\n      <td>...</td>\n      <td>208698</td>\n      <td>4</td>\n      <td>197.41605</td>\n      <td>0.650</td>\n      <td>1.000</td>\n      <td>0.545</td>\n      <td>0.604</td>\n      <td>359.0</td>\n      <td>89.0</td>\n      <td>edm</td>\n    </tr>\n    <tr>\n      <th>109546</th>\n      <td>0M4HcGtxIWVVH4rSNp6XhQ</td>\n      <td>Dejalo</td>\n      <td>1</td>\n      <td>202826</td>\n      <td>False</td>\n      <td>57</td>\n      <td>5</td>\n      <td>King</td>\n      <td>album</td>\n      <td>Champagne Talk</td>\n      <td>...</td>\n      <td>202826</td>\n      <td>4</td>\n      <td>196.73688</td>\n      <td>0.428</td>\n      <td>1.000</td>\n      <td>0.847</td>\n      <td>0.710</td>\n      <td>304.0</td>\n      <td>75.0</td>\n      <td>hip-hop</td>\n    </tr>\n  </tbody>\n</table>\n<p>109547 rows × 34 columns</p>\n</div>"
     },
     "execution_count": 13,
     "metadata": {},
     "output_type": "execute_result"
    }
   ],
   "source": [
    "tracks_dataset"
   ],
   "metadata": {
    "collapsed": false,
    "ExecuteTime": {
     "end_time": "2024-03-14T23:23:41.236937Z",
     "start_time": "2024-03-14T23:23:41.203158Z"
    }
   },
   "id": "b257f05a7a41c200",
   "execution_count": 13
  },
  {
   "cell_type": "code",
   "outputs": [
    {
     "data": {
      "text/plain": "                           id                      name  popularity  \\\n0      19slOlozrbxkEIMD8L3Qsv                Fast Eddie        28.0   \n1      4BIamAD25vwYldaOWTEsXd                Joe Smooth        38.0   \n2      0B9P7RXrukgIdmutz9XMVN  Farley \"Jackmaster\" Funk        21.0   \n3      09xC3MewWz48F1OpYckXTZ                   Jomanda        20.0   \n4      0RBnTX5xoVa1bDYt9Qbies                 Floorplan        37.0   \n...                       ...                       ...         ...   \n30136  2KjxvxgJvbwweNVRMSuIRG                     Hoang        49.0   \n30137  6FPDULwgllPquFdqdzj5gi              Robin Hustin        45.0   \n30138  7CSAJPH9eLCOvPc9jn1I6e                TobiMorrow        44.0   \n30139  22lnnGKlaDxk8sfzCNRJuA                  Diviners        47.0   \n30140  1v8lhkt5jZgHT8xi1wYNUS                 Philly K.        38.0   \n\n       followers                                             genres  \n0         9904.0  ['acid house', 'chicago house', 'chicago rap',...  \n1        13047.0                 ['chicago house', 'classic house']  \n2        11933.0   ['acid house', 'chicago house', 'classic house']  \n3         4724.0                  ['chicago house', 'garage house']  \n4        42515.0  ['chicago house', 'deep house', 'float house',...  \n...          ...                                                ...  \n30136    22134.0                                                 []  \n30137    14198.0                        ['dutch edm', 'gaming edm']  \n30138     2339.0                                       ['sky room']  \n30139    74955.0                                     ['gaming edm']  \n30140     2152.0                                                 []  \n\n[30141 rows x 5 columns]",
      "text/html": "<div>\n<style scoped>\n    .dataframe tbody tr th:only-of-type {\n        vertical-align: middle;\n    }\n\n    .dataframe tbody tr th {\n        vertical-align: top;\n    }\n\n    .dataframe thead th {\n        text-align: right;\n    }\n</style>\n<table border=\"1\" class=\"dataframe\">\n  <thead>\n    <tr style=\"text-align: right;\">\n      <th></th>\n      <th>id</th>\n      <th>name</th>\n      <th>popularity</th>\n      <th>followers</th>\n      <th>genres</th>\n    </tr>\n  </thead>\n  <tbody>\n    <tr>\n      <th>0</th>\n      <td>19slOlozrbxkEIMD8L3Qsv</td>\n      <td>Fast Eddie</td>\n      <td>28.0</td>\n      <td>9904.0</td>\n      <td>['acid house', 'chicago house', 'chicago rap',...</td>\n    </tr>\n    <tr>\n      <th>1</th>\n      <td>4BIamAD25vwYldaOWTEsXd</td>\n      <td>Joe Smooth</td>\n      <td>38.0</td>\n      <td>13047.0</td>\n      <td>['chicago house', 'classic house']</td>\n    </tr>\n    <tr>\n      <th>2</th>\n      <td>0B9P7RXrukgIdmutz9XMVN</td>\n      <td>Farley \"Jackmaster\" Funk</td>\n      <td>21.0</td>\n      <td>11933.0</td>\n      <td>['acid house', 'chicago house', 'classic house']</td>\n    </tr>\n    <tr>\n      <th>3</th>\n      <td>09xC3MewWz48F1OpYckXTZ</td>\n      <td>Jomanda</td>\n      <td>20.0</td>\n      <td>4724.0</td>\n      <td>['chicago house', 'garage house']</td>\n    </tr>\n    <tr>\n      <th>4</th>\n      <td>0RBnTX5xoVa1bDYt9Qbies</td>\n      <td>Floorplan</td>\n      <td>37.0</td>\n      <td>42515.0</td>\n      <td>['chicago house', 'deep house', 'float house',...</td>\n    </tr>\n    <tr>\n      <th>...</th>\n      <td>...</td>\n      <td>...</td>\n      <td>...</td>\n      <td>...</td>\n      <td>...</td>\n    </tr>\n    <tr>\n      <th>30136</th>\n      <td>2KjxvxgJvbwweNVRMSuIRG</td>\n      <td>Hoang</td>\n      <td>49.0</td>\n      <td>22134.0</td>\n      <td>[]</td>\n    </tr>\n    <tr>\n      <th>30137</th>\n      <td>6FPDULwgllPquFdqdzj5gi</td>\n      <td>Robin Hustin</td>\n      <td>45.0</td>\n      <td>14198.0</td>\n      <td>['dutch edm', 'gaming edm']</td>\n    </tr>\n    <tr>\n      <th>30138</th>\n      <td>7CSAJPH9eLCOvPc9jn1I6e</td>\n      <td>TobiMorrow</td>\n      <td>44.0</td>\n      <td>2339.0</td>\n      <td>['sky room']</td>\n    </tr>\n    <tr>\n      <th>30139</th>\n      <td>22lnnGKlaDxk8sfzCNRJuA</td>\n      <td>Diviners</td>\n      <td>47.0</td>\n      <td>74955.0</td>\n      <td>['gaming edm']</td>\n    </tr>\n    <tr>\n      <th>30140</th>\n      <td>1v8lhkt5jZgHT8xi1wYNUS</td>\n      <td>Philly K.</td>\n      <td>38.0</td>\n      <td>2152.0</td>\n      <td>[]</td>\n    </tr>\n  </tbody>\n</table>\n<p>30141 rows × 5 columns</p>\n</div>"
     },
     "execution_count": 14,
     "metadata": {},
     "output_type": "execute_result"
    }
   ],
   "source": [
    "artists_dataset"
   ],
   "metadata": {
    "collapsed": false,
    "ExecuteTime": {
     "end_time": "2024-03-14T23:23:41.896278Z",
     "start_time": "2024-03-14T23:23:41.894511Z"
    }
   },
   "id": "2391e05171047c90",
   "execution_count": 14
  },
  {
   "cell_type": "markdown",
   "source": [
    "# Data Exploration and Cleaning"
   ],
   "metadata": {
    "collapsed": false
   },
   "id": "b303e08a050ad1"
  },
  {
   "cell_type": "markdown",
   "source": [
    "## Artists Dataset"
   ],
   "metadata": {
    "collapsed": false
   },
   "id": "7620d12ff170a567"
  },
  {
   "cell_type": "code",
   "outputs": [
    {
     "data": {
      "text/plain": "         popularity     followers\ncount  30140.000000  3.014000e+04\nmean      36.659788  4.168663e+05\nstd       17.229059  2.484219e+06\nmin        0.000000  0.000000e+00\n25%       24.000000  1.472000e+03\n50%       37.000000  1.581450e+04\n75%       49.000000  1.186392e+05\nmax      100.000000  1.141635e+08",
      "text/html": "<div>\n<style scoped>\n    .dataframe tbody tr th:only-of-type {\n        vertical-align: middle;\n    }\n\n    .dataframe tbody tr th {\n        vertical-align: top;\n    }\n\n    .dataframe thead th {\n        text-align: right;\n    }\n</style>\n<table border=\"1\" class=\"dataframe\">\n  <thead>\n    <tr style=\"text-align: right;\">\n      <th></th>\n      <th>popularity</th>\n      <th>followers</th>\n    </tr>\n  </thead>\n  <tbody>\n    <tr>\n      <th>count</th>\n      <td>30140.000000</td>\n      <td>3.014000e+04</td>\n    </tr>\n    <tr>\n      <th>mean</th>\n      <td>36.659788</td>\n      <td>4.168663e+05</td>\n    </tr>\n    <tr>\n      <th>std</th>\n      <td>17.229059</td>\n      <td>2.484219e+06</td>\n    </tr>\n    <tr>\n      <th>min</th>\n      <td>0.000000</td>\n      <td>0.000000e+00</td>\n    </tr>\n    <tr>\n      <th>25%</th>\n      <td>24.000000</td>\n      <td>1.472000e+03</td>\n    </tr>\n    <tr>\n      <th>50%</th>\n      <td>37.000000</td>\n      <td>1.581450e+04</td>\n    </tr>\n    <tr>\n      <th>75%</th>\n      <td>49.000000</td>\n      <td>1.186392e+05</td>\n    </tr>\n    <tr>\n      <th>max</th>\n      <td>100.000000</td>\n      <td>1.141635e+08</td>\n    </tr>\n  </tbody>\n</table>\n</div>"
     },
     "execution_count": 16,
     "metadata": {},
     "output_type": "execute_result"
    }
   ],
   "source": [
    "artists_dataset.describe()"
   ],
   "metadata": {
    "collapsed": false,
    "ExecuteTime": {
     "end_time": "2024-03-14T23:33:13.003719Z",
     "start_time": "2024-03-14T23:33:12.992292Z"
    }
   },
   "id": "5cdd09ca530e46e6",
   "execution_count": 16
  },
  {
   "cell_type": "markdown",
   "source": [
    "#### Checking and handling missing values"
   ],
   "metadata": {
    "collapsed": false
   },
   "id": "1fbfad954623c590"
  },
  {
   "cell_type": "code",
   "outputs": [
    {
     "data": {
      "text/plain": "id            1\nname          2\npopularity    1\nfollowers     1\ngenres        1\ndtype: int64"
     },
     "execution_count": 17,
     "metadata": {},
     "output_type": "execute_result"
    }
   ],
   "source": [
    "# Check for missing values\n",
    "artists_dataset.isnull().sum()"
   ],
   "metadata": {
    "collapsed": false,
    "ExecuteTime": {
     "end_time": "2024-03-14T23:33:33.576865Z",
     "start_time": "2024-03-14T23:33:33.573072Z"
    }
   },
   "id": "e8955eabcd6b3be8",
   "execution_count": 17
  },
  {
   "cell_type": "code",
   "outputs": [
    {
     "data": {
      "text/plain": "                           id name  popularity  followers genres\n11872                     NaN  NaN         NaN        NaN    NaN\n21223  4oPYazJJ1o4rWBrTw9lm40  NaN        47.0    35655.0     []",
      "text/html": "<div>\n<style scoped>\n    .dataframe tbody tr th:only-of-type {\n        vertical-align: middle;\n    }\n\n    .dataframe tbody tr th {\n        vertical-align: top;\n    }\n\n    .dataframe thead th {\n        text-align: right;\n    }\n</style>\n<table border=\"1\" class=\"dataframe\">\n  <thead>\n    <tr style=\"text-align: right;\">\n      <th></th>\n      <th>id</th>\n      <th>name</th>\n      <th>popularity</th>\n      <th>followers</th>\n      <th>genres</th>\n    </tr>\n  </thead>\n  <tbody>\n    <tr>\n      <th>11872</th>\n      <td>NaN</td>\n      <td>NaN</td>\n      <td>NaN</td>\n      <td>NaN</td>\n      <td>NaN</td>\n    </tr>\n    <tr>\n      <th>21223</th>\n      <td>4oPYazJJ1o4rWBrTw9lm40</td>\n      <td>NaN</td>\n      <td>47.0</td>\n      <td>35655.0</td>\n      <td>[]</td>\n    </tr>\n  </tbody>\n</table>\n</div>"
     },
     "execution_count": 18,
     "metadata": {},
     "output_type": "execute_result"
    }
   ],
   "source": [
    "# print the rows with missing values\n",
    "artists_dataset[artists_dataset.isnull().any(axis=1)]"
   ],
   "metadata": {
    "collapsed": false,
    "ExecuteTime": {
     "end_time": "2024-03-14T23:33:52.092457Z",
     "start_time": "2024-03-14T23:33:52.084030Z"
    }
   },
   "id": "a10e4355ed0b0e7f",
   "execution_count": 18
  },
  {
   "cell_type": "code",
   "outputs": [],
   "source": [
    "# Drop the rows with missing values\n",
    "artists_dataset = artists_dataset.dropna()"
   ],
   "metadata": {
    "collapsed": false,
    "ExecuteTime": {
     "end_time": "2024-03-14T23:34:31.537517Z",
     "start_time": "2024-03-14T23:34:31.531512Z"
    }
   },
   "id": "b794695db41113d5",
   "execution_count": 19
  },
  {
   "cell_type": "code",
   "outputs": [],
   "source": [],
   "metadata": {
    "collapsed": false
   },
   "id": "d58de98b8f512c20"
  },
  {
   "cell_type": "code",
   "outputs": [],
   "source": [],
   "metadata": {
    "collapsed": false
   },
   "id": "1a1c6fcf738b2858"
  },
  {
   "cell_type": "markdown",
   "source": [
    "A way to join the datasets could be to merge the datasets on the 'name' column in the 'artists' dataset and the 'artists' column in the 'tracks' dataset. However, the 'artists' column in the 'tracks' dataset contains multiple artists separated by a semicolon. To join the datasets on the 'artists' column, we need to extract the primary artist's name from the 'artists' column in the 'tracks' dataset. We can then merge the datasets on the primary artist's name."
   ],
   "metadata": {
    "collapsed": false
   },
   "id": "b0ebbe21112eb81c"
  },
  {
   "cell_type": "code",
   "outputs": [
    {
     "data": {
      "text/plain": "                      id_track                                  name_track  \\\n0       4rjA5kJJWbwU1prXCvg6Fk                                        Grey   \n1       6xzpUzzIquIyUzTLbbgSdI                                      Thrown   \n2       56tXgHlSHCfgmGhwVXNizc                                     Routine   \n3       0s3wIBczp6TdSJ2y8cveJl  Confronted - Anfisa Letyago Stranger Remix   \n4       4PSbDDd1LRYMhqPXvza6I2                             Jupiter Sunrise   \n...                        ...                                         ...   \n110721  46n9OJc7LOIVdj8t2l5WA5                            End Of The Night   \n110722  127uq83uGFapbddqiMUKky                     Sexy Bitch (feat. Akon)   \n110723  0ZdUHFxifUJNqo7G4aJzoF                                    Savannah   \n110724  0M4HcGtxIWVVH4rSNp6XhQ                                      Dejalo   \n110725  0M4HcGtxIWVVH4rSNp6XhQ                                      Dejalo   \n\n        disc_number  duration_ms  explicit  popularity_track  track_number  \\\n0                 1       290479     False                52             5   \n1                 1       539229     False                45             5   \n2                 1       264200     False                39             5   \n3                 1       387413     False                 0             6   \n4                 1       248956     False                 0             1   \n...             ...          ...       ...               ...           ...   \n110721            1       205724      True                56             1   \n110722            1       195853      True                80             3   \n110723            1       208698     False                60             1   \n110724            1       202826     False                57             5   \n110725            1       202826     False                57             5   \n\n                       artists   album_type          album_name  ...  \\\n0                       Kölsch        album                1989  ...   \n1                      Kiasmos        album             Kiasmos  ...   \n2              Joris Delacroix        album       Night Visions  ...   \n3       Pan-Pot;Anfisa Letyago       single  Confronted Remixes  ...   \n4        Kollektiv Turmstrasse  compilation   10 Years Diynamic  ...   \n...                        ...          ...                 ...  ...   \n110721             Danny Avila       single    End Of The Night  ...   \n110722       David Guetta;Akon        album       One More Love  ...   \n110723      Diviners;Philly K.       single            Savannah  ...   \n110724                    King        album      Champagne Talk  ...   \n110725                    King        album      Champagne Talk  ...   \n\n       key_confidence mode_confidence  n_beats  n_bars           genre  \\\n0               0.500           0.525    705.0   234.0  minimal-techno   \n1               0.410           0.589   1074.0   269.0  minimal-techno   \n2               0.904           0.760    516.0   171.0  minimal-techno   \n3               0.512           0.503    826.0   207.0  minimal-techno   \n4               0.474           0.459    493.0   123.0  minimal-techno   \n...               ...             ...      ...     ...             ...   \n110721          0.395           0.535    339.0    84.0             edm   \n110722          0.097           0.330    417.0   106.0             edm   \n110723          0.545           0.604    359.0    89.0             edm   \n110724          0.847           0.710    304.0    75.0         hip-hop   \n110725          0.847           0.710    304.0    75.0         hip-hop   \n\n               primary_artist               id_artist  popularity_artist  \\\n0                      Kölsch  2D9Oe8R9UhbMvFAsMJpXj0               51.0   \n1                     Kiasmos  6X8lhZ7YaRUBlOsOYimlyD               47.0   \n2             Joris Delacroix  3HRRzIZNQFus3xlUx2xKy1               44.0   \n3                     Pan-Pot  6OQOvP7RAdmAKVXXQqD0Se               36.0   \n4       Kollektiv Turmstrasse  1oXiuCd5F0DcnmXH5KaM6N               45.0   \n...                       ...                     ...                ...   \n110721            Danny Avila  5y3G1B8cpCTaoq0uDgjwzH               47.0   \n110722           David Guetta  1Cs0zKBU1kc0i8ypK3B9ai               86.0   \n110723               Diviners  22lnnGKlaDxk8sfzCNRJuA               47.0   \n110724                   King  5NHm4TU5Twz7owibYxJfFU               71.0   \n110725                   King  2lJZQdSeHa06k9sYmQ3V1Z                8.0   \n\n         followers                                             genres  \n0         218818.0  ['danish electronic', 'danish techno', 'deep e...  \n1         231613.0            ['electronica', 'icelandic electronic']  \n2         100828.0  ['deep euro house', 'minimal melodic techno', ...  \n3         209027.0  ['german techno', 'minimal techno', 'raw techno']  \n4         245839.0  ['german techno', 'hamburg electronic', 'minim...  \n...            ...                                                ...  \n110721     46184.0                                                 []  \n110722  26445596.0  ['big room', 'dance pop', 'edm', 'pop', 'pop d...  \n110723     74955.0                                     ['gaming edm']  \n110724   5284466.0      ['desi hip hop', 'desi pop', 'hindi hip hop']  \n110725        41.0                                                 []  \n\n[110726 rows x 39 columns]",
      "text/html": "<div>\n<style scoped>\n    .dataframe tbody tr th:only-of-type {\n        vertical-align: middle;\n    }\n\n    .dataframe tbody tr th {\n        vertical-align: top;\n    }\n\n    .dataframe thead th {\n        text-align: right;\n    }\n</style>\n<table border=\"1\" class=\"dataframe\">\n  <thead>\n    <tr style=\"text-align: right;\">\n      <th></th>\n      <th>id_track</th>\n      <th>name_track</th>\n      <th>disc_number</th>\n      <th>duration_ms</th>\n      <th>explicit</th>\n      <th>popularity_track</th>\n      <th>track_number</th>\n      <th>artists</th>\n      <th>album_type</th>\n      <th>album_name</th>\n      <th>...</th>\n      <th>key_confidence</th>\n      <th>mode_confidence</th>\n      <th>n_beats</th>\n      <th>n_bars</th>\n      <th>genre</th>\n      <th>primary_artist</th>\n      <th>id_artist</th>\n      <th>popularity_artist</th>\n      <th>followers</th>\n      <th>genres</th>\n    </tr>\n  </thead>\n  <tbody>\n    <tr>\n      <th>0</th>\n      <td>4rjA5kJJWbwU1prXCvg6Fk</td>\n      <td>Grey</td>\n      <td>1</td>\n      <td>290479</td>\n      <td>False</td>\n      <td>52</td>\n      <td>5</td>\n      <td>Kölsch</td>\n      <td>album</td>\n      <td>1989</td>\n      <td>...</td>\n      <td>0.500</td>\n      <td>0.525</td>\n      <td>705.0</td>\n      <td>234.0</td>\n      <td>minimal-techno</td>\n      <td>Kölsch</td>\n      <td>2D9Oe8R9UhbMvFAsMJpXj0</td>\n      <td>51.0</td>\n      <td>218818.0</td>\n      <td>['danish electronic', 'danish techno', 'deep e...</td>\n    </tr>\n    <tr>\n      <th>1</th>\n      <td>6xzpUzzIquIyUzTLbbgSdI</td>\n      <td>Thrown</td>\n      <td>1</td>\n      <td>539229</td>\n      <td>False</td>\n      <td>45</td>\n      <td>5</td>\n      <td>Kiasmos</td>\n      <td>album</td>\n      <td>Kiasmos</td>\n      <td>...</td>\n      <td>0.410</td>\n      <td>0.589</td>\n      <td>1074.0</td>\n      <td>269.0</td>\n      <td>minimal-techno</td>\n      <td>Kiasmos</td>\n      <td>6X8lhZ7YaRUBlOsOYimlyD</td>\n      <td>47.0</td>\n      <td>231613.0</td>\n      <td>['electronica', 'icelandic electronic']</td>\n    </tr>\n    <tr>\n      <th>2</th>\n      <td>56tXgHlSHCfgmGhwVXNizc</td>\n      <td>Routine</td>\n      <td>1</td>\n      <td>264200</td>\n      <td>False</td>\n      <td>39</td>\n      <td>5</td>\n      <td>Joris Delacroix</td>\n      <td>album</td>\n      <td>Night Visions</td>\n      <td>...</td>\n      <td>0.904</td>\n      <td>0.760</td>\n      <td>516.0</td>\n      <td>171.0</td>\n      <td>minimal-techno</td>\n      <td>Joris Delacroix</td>\n      <td>3HRRzIZNQFus3xlUx2xKy1</td>\n      <td>44.0</td>\n      <td>100828.0</td>\n      <td>['deep euro house', 'minimal melodic techno', ...</td>\n    </tr>\n    <tr>\n      <th>3</th>\n      <td>0s3wIBczp6TdSJ2y8cveJl</td>\n      <td>Confronted - Anfisa Letyago Stranger Remix</td>\n      <td>1</td>\n      <td>387413</td>\n      <td>False</td>\n      <td>0</td>\n      <td>6</td>\n      <td>Pan-Pot;Anfisa Letyago</td>\n      <td>single</td>\n      <td>Confronted Remixes</td>\n      <td>...</td>\n      <td>0.512</td>\n      <td>0.503</td>\n      <td>826.0</td>\n      <td>207.0</td>\n      <td>minimal-techno</td>\n      <td>Pan-Pot</td>\n      <td>6OQOvP7RAdmAKVXXQqD0Se</td>\n      <td>36.0</td>\n      <td>209027.0</td>\n      <td>['german techno', 'minimal techno', 'raw techno']</td>\n    </tr>\n    <tr>\n      <th>4</th>\n      <td>4PSbDDd1LRYMhqPXvza6I2</td>\n      <td>Jupiter Sunrise</td>\n      <td>1</td>\n      <td>248956</td>\n      <td>False</td>\n      <td>0</td>\n      <td>1</td>\n      <td>Kollektiv Turmstrasse</td>\n      <td>compilation</td>\n      <td>10 Years Diynamic</td>\n      <td>...</td>\n      <td>0.474</td>\n      <td>0.459</td>\n      <td>493.0</td>\n      <td>123.0</td>\n      <td>minimal-techno</td>\n      <td>Kollektiv Turmstrasse</td>\n      <td>1oXiuCd5F0DcnmXH5KaM6N</td>\n      <td>45.0</td>\n      <td>245839.0</td>\n      <td>['german techno', 'hamburg electronic', 'minim...</td>\n    </tr>\n    <tr>\n      <th>...</th>\n      <td>...</td>\n      <td>...</td>\n      <td>...</td>\n      <td>...</td>\n      <td>...</td>\n      <td>...</td>\n      <td>...</td>\n      <td>...</td>\n      <td>...</td>\n      <td>...</td>\n      <td>...</td>\n      <td>...</td>\n      <td>...</td>\n      <td>...</td>\n      <td>...</td>\n      <td>...</td>\n      <td>...</td>\n      <td>...</td>\n      <td>...</td>\n      <td>...</td>\n      <td>...</td>\n    </tr>\n    <tr>\n      <th>110721</th>\n      <td>46n9OJc7LOIVdj8t2l5WA5</td>\n      <td>End Of The Night</td>\n      <td>1</td>\n      <td>205724</td>\n      <td>True</td>\n      <td>56</td>\n      <td>1</td>\n      <td>Danny Avila</td>\n      <td>single</td>\n      <td>End Of The Night</td>\n      <td>...</td>\n      <td>0.395</td>\n      <td>0.535</td>\n      <td>339.0</td>\n      <td>84.0</td>\n      <td>edm</td>\n      <td>Danny Avila</td>\n      <td>5y3G1B8cpCTaoq0uDgjwzH</td>\n      <td>47.0</td>\n      <td>46184.0</td>\n      <td>[]</td>\n    </tr>\n    <tr>\n      <th>110722</th>\n      <td>127uq83uGFapbddqiMUKky</td>\n      <td>Sexy Bitch (feat. Akon)</td>\n      <td>1</td>\n      <td>195853</td>\n      <td>True</td>\n      <td>80</td>\n      <td>3</td>\n      <td>David Guetta;Akon</td>\n      <td>album</td>\n      <td>One More Love</td>\n      <td>...</td>\n      <td>0.097</td>\n      <td>0.330</td>\n      <td>417.0</td>\n      <td>106.0</td>\n      <td>edm</td>\n      <td>David Guetta</td>\n      <td>1Cs0zKBU1kc0i8ypK3B9ai</td>\n      <td>86.0</td>\n      <td>26445596.0</td>\n      <td>['big room', 'dance pop', 'edm', 'pop', 'pop d...</td>\n    </tr>\n    <tr>\n      <th>110723</th>\n      <td>0ZdUHFxifUJNqo7G4aJzoF</td>\n      <td>Savannah</td>\n      <td>1</td>\n      <td>208698</td>\n      <td>False</td>\n      <td>60</td>\n      <td>1</td>\n      <td>Diviners;Philly K.</td>\n      <td>single</td>\n      <td>Savannah</td>\n      <td>...</td>\n      <td>0.545</td>\n      <td>0.604</td>\n      <td>359.0</td>\n      <td>89.0</td>\n      <td>edm</td>\n      <td>Diviners</td>\n      <td>22lnnGKlaDxk8sfzCNRJuA</td>\n      <td>47.0</td>\n      <td>74955.0</td>\n      <td>['gaming edm']</td>\n    </tr>\n    <tr>\n      <th>110724</th>\n      <td>0M4HcGtxIWVVH4rSNp6XhQ</td>\n      <td>Dejalo</td>\n      <td>1</td>\n      <td>202826</td>\n      <td>False</td>\n      <td>57</td>\n      <td>5</td>\n      <td>King</td>\n      <td>album</td>\n      <td>Champagne Talk</td>\n      <td>...</td>\n      <td>0.847</td>\n      <td>0.710</td>\n      <td>304.0</td>\n      <td>75.0</td>\n      <td>hip-hop</td>\n      <td>King</td>\n      <td>5NHm4TU5Twz7owibYxJfFU</td>\n      <td>71.0</td>\n      <td>5284466.0</td>\n      <td>['desi hip hop', 'desi pop', 'hindi hip hop']</td>\n    </tr>\n    <tr>\n      <th>110725</th>\n      <td>0M4HcGtxIWVVH4rSNp6XhQ</td>\n      <td>Dejalo</td>\n      <td>1</td>\n      <td>202826</td>\n      <td>False</td>\n      <td>57</td>\n      <td>5</td>\n      <td>King</td>\n      <td>album</td>\n      <td>Champagne Talk</td>\n      <td>...</td>\n      <td>0.847</td>\n      <td>0.710</td>\n      <td>304.0</td>\n      <td>75.0</td>\n      <td>hip-hop</td>\n      <td>King</td>\n      <td>2lJZQdSeHa06k9sYmQ3V1Z</td>\n      <td>8.0</td>\n      <td>41.0</td>\n      <td>[]</td>\n    </tr>\n  </tbody>\n</table>\n<p>110726 rows × 39 columns</p>\n</div>"
     },
     "execution_count": 9,
     "metadata": {},
     "output_type": "execute_result"
    }
   ],
   "source": [
    "# Extract primary artist's name from the 'artists' column in the 'tracks' dataset\n",
    "# Assuming the primary artist is the first listed in the 'artists' column\n",
    "tracks_dataset['primary_artist'] = tracks_dataset['artists'].apply(lambda x: x.split(';')[0])\n",
    "\n",
    "# Merge the datasets on artist name\n",
    "merged_df = pd.merge(tracks_dataset, artists_dataset, how='left', left_on='primary_artist', right_on='name', suffixes=('_track', '_artist'))\n",
    "\n",
    "# Drop the duplicated 'name' column and any other unnecessary columns from the merge\n",
    "merged_df = merged_df.drop(columns=['name_artist'])\n",
    "\n",
    "merged_df"
   ],
   "metadata": {
    "collapsed": false,
    "ExecuteTime": {
     "end_time": "2024-03-14T22:59:56.359381Z",
     "start_time": "2024-03-14T22:59:56.263568Z"
    }
   },
   "id": "fe1d46696e846dae",
   "execution_count": 9
  },
  {
   "cell_type": "markdown",
   "source": [
    "However, this approach isn't perfect because the streams of the songs are distributed among all the artists as said by [spotify it's self](https://community.spotify.com/t5/Content-Questions/Two-main-artists-on-a-song/td-p/5826073). \n",
    "\n",
    "Then we can adopt a more inclusive approach and join for each artist linked in a track. This however, introduces complexity, as it requires expanding the tracks dataset to create a row for each artist-track combination before joining with the 'artists' dataset.\n"
   ],
   "metadata": {
    "collapsed": false
   },
   "id": "d5c1d8bfdc9538b1"
  },
  {
   "cell_type": "code",
   "outputs": [],
   "source": [],
   "metadata": {
    "collapsed": false
   },
   "id": "500c408ceddba354"
  },
  {
   "cell_type": "code",
   "outputs": [
    {
     "data": {
      "text/plain": "                      id_track                                  name_track  \\\n0       4rjA5kJJWbwU1prXCvg6Fk                                        Grey   \n1       6xzpUzzIquIyUzTLbbgSdI                                      Thrown   \n2       56tXgHlSHCfgmGhwVXNizc                                     Routine   \n3       0s3wIBczp6TdSJ2y8cveJl  Confronted - Anfisa Letyago Stranger Remix   \n4       0s3wIBczp6TdSJ2y8cveJl  Confronted - Anfisa Letyago Stranger Remix   \n...                        ...                                         ...   \n153332  127uq83uGFapbddqiMUKky                     Sexy Bitch (feat. Akon)   \n153333  0ZdUHFxifUJNqo7G4aJzoF                                    Savannah   \n153334  0ZdUHFxifUJNqo7G4aJzoF                                    Savannah   \n153335  0M4HcGtxIWVVH4rSNp6XhQ                                      Dejalo   \n153336  0M4HcGtxIWVVH4rSNp6XhQ                                      Dejalo   \n\n        disc_number  duration_ms  explicit  popularity_track  track_number  \\\n0                 1       290479     False                52             5   \n1                 1       539229     False                45             5   \n2                 1       264200     False                39             5   \n3                 1       387413     False                 0             6   \n4                 1       387413     False                 0             6   \n...             ...          ...       ...               ...           ...   \n153332            1       195853      True                80             3   \n153333            1       208698     False                60             1   \n153334            1       208698     False                60             1   \n153335            1       202826     False                57             5   \n153336            1       202826     False                57             5   \n\n                artists album_type          album_name  ... mode_confidence  \\\n0                Kölsch      album                1989  ...           0.525   \n1               Kiasmos      album             Kiasmos  ...           0.589   \n2       Joris Delacroix      album       Night Visions  ...           0.760   \n3               Pan-Pot     single  Confronted Remixes  ...           0.503   \n4        Anfisa Letyago     single  Confronted Remixes  ...           0.503   \n...                 ...        ...                 ...  ...             ...   \n153332             Akon      album       One More Love  ...           0.330   \n153333         Diviners     single            Savannah  ...           0.604   \n153334        Philly K.     single            Savannah  ...           0.604   \n153335             King      album      Champagne Talk  ...           0.710   \n153336             King      album      Champagne Talk  ...           0.710   \n\n       n_beats  n_bars           genre   primary_artist  \\\n0        705.0   234.0  minimal-techno           Kölsch   \n1       1074.0   269.0  minimal-techno          Kiasmos   \n2        516.0   171.0  minimal-techno  Joris Delacroix   \n3        826.0   207.0  minimal-techno          Pan-Pot   \n4        826.0   207.0  minimal-techno          Pan-Pot   \n...        ...     ...             ...              ...   \n153332   417.0   106.0             edm     David Guetta   \n153333   359.0    89.0             edm         Diviners   \n153334   359.0    89.0             edm         Diviners   \n153335   304.0    75.0         hip-hop             King   \n153336   304.0    75.0         hip-hop             King   \n\n                     id_artist      name_artist  popularity_artist  followers  \\\n0       2D9Oe8R9UhbMvFAsMJpXj0           Kölsch               51.0   218818.0   \n1       6X8lhZ7YaRUBlOsOYimlyD          Kiasmos               47.0   231613.0   \n2       3HRRzIZNQFus3xlUx2xKy1  Joris Delacroix               44.0   100828.0   \n3       6OQOvP7RAdmAKVXXQqD0Se          Pan-Pot               36.0   209027.0   \n4       7icoOm5fKKPo49jVxoj1Cq   Anfisa Letyago               40.0    87586.0   \n...                        ...              ...                ...        ...   \n153332  0z4gvV4rjIZ9wHck67ucSV             Akon               79.0  3902855.0   \n153333  22lnnGKlaDxk8sfzCNRJuA         Diviners               47.0    74955.0   \n153334  1v8lhkt5jZgHT8xi1wYNUS        Philly K.               38.0     2152.0   \n153335  5NHm4TU5Twz7owibYxJfFU             King               71.0  5284466.0   \n153336  2lJZQdSeHa06k9sYmQ3V1Z             King                8.0       41.0   \n\n                                                   genres  \n0       ['danish electronic', 'danish techno', 'deep e...  \n1                 ['electronica', 'icelandic electronic']  \n2       ['deep euro house', 'minimal melodic techno', ...  \n3       ['german techno', 'minimal techno', 'raw techno']  \n4                                                      []  \n...                                                   ...  \n153332                                      ['dance pop']  \n153333                                     ['gaming edm']  \n153334                                                 []  \n153335      ['desi hip hop', 'desi pop', 'hindi hip hop']  \n153336                                                 []  \n\n[153337 rows x 40 columns]",
      "text/html": "<div>\n<style scoped>\n    .dataframe tbody tr th:only-of-type {\n        vertical-align: middle;\n    }\n\n    .dataframe tbody tr th {\n        vertical-align: top;\n    }\n\n    .dataframe thead th {\n        text-align: right;\n    }\n</style>\n<table border=\"1\" class=\"dataframe\">\n  <thead>\n    <tr style=\"text-align: right;\">\n      <th></th>\n      <th>id_track</th>\n      <th>name_track</th>\n      <th>disc_number</th>\n      <th>duration_ms</th>\n      <th>explicit</th>\n      <th>popularity_track</th>\n      <th>track_number</th>\n      <th>artists</th>\n      <th>album_type</th>\n      <th>album_name</th>\n      <th>...</th>\n      <th>mode_confidence</th>\n      <th>n_beats</th>\n      <th>n_bars</th>\n      <th>genre</th>\n      <th>primary_artist</th>\n      <th>id_artist</th>\n      <th>name_artist</th>\n      <th>popularity_artist</th>\n      <th>followers</th>\n      <th>genres</th>\n    </tr>\n  </thead>\n  <tbody>\n    <tr>\n      <th>0</th>\n      <td>4rjA5kJJWbwU1prXCvg6Fk</td>\n      <td>Grey</td>\n      <td>1</td>\n      <td>290479</td>\n      <td>False</td>\n      <td>52</td>\n      <td>5</td>\n      <td>Kölsch</td>\n      <td>album</td>\n      <td>1989</td>\n      <td>...</td>\n      <td>0.525</td>\n      <td>705.0</td>\n      <td>234.0</td>\n      <td>minimal-techno</td>\n      <td>Kölsch</td>\n      <td>2D9Oe8R9UhbMvFAsMJpXj0</td>\n      <td>Kölsch</td>\n      <td>51.0</td>\n      <td>218818.0</td>\n      <td>['danish electronic', 'danish techno', 'deep e...</td>\n    </tr>\n    <tr>\n      <th>1</th>\n      <td>6xzpUzzIquIyUzTLbbgSdI</td>\n      <td>Thrown</td>\n      <td>1</td>\n      <td>539229</td>\n      <td>False</td>\n      <td>45</td>\n      <td>5</td>\n      <td>Kiasmos</td>\n      <td>album</td>\n      <td>Kiasmos</td>\n      <td>...</td>\n      <td>0.589</td>\n      <td>1074.0</td>\n      <td>269.0</td>\n      <td>minimal-techno</td>\n      <td>Kiasmos</td>\n      <td>6X8lhZ7YaRUBlOsOYimlyD</td>\n      <td>Kiasmos</td>\n      <td>47.0</td>\n      <td>231613.0</td>\n      <td>['electronica', 'icelandic electronic']</td>\n    </tr>\n    <tr>\n      <th>2</th>\n      <td>56tXgHlSHCfgmGhwVXNizc</td>\n      <td>Routine</td>\n      <td>1</td>\n      <td>264200</td>\n      <td>False</td>\n      <td>39</td>\n      <td>5</td>\n      <td>Joris Delacroix</td>\n      <td>album</td>\n      <td>Night Visions</td>\n      <td>...</td>\n      <td>0.760</td>\n      <td>516.0</td>\n      <td>171.0</td>\n      <td>minimal-techno</td>\n      <td>Joris Delacroix</td>\n      <td>3HRRzIZNQFus3xlUx2xKy1</td>\n      <td>Joris Delacroix</td>\n      <td>44.0</td>\n      <td>100828.0</td>\n      <td>['deep euro house', 'minimal melodic techno', ...</td>\n    </tr>\n    <tr>\n      <th>3</th>\n      <td>0s3wIBczp6TdSJ2y8cveJl</td>\n      <td>Confronted - Anfisa Letyago Stranger Remix</td>\n      <td>1</td>\n      <td>387413</td>\n      <td>False</td>\n      <td>0</td>\n      <td>6</td>\n      <td>Pan-Pot</td>\n      <td>single</td>\n      <td>Confronted Remixes</td>\n      <td>...</td>\n      <td>0.503</td>\n      <td>826.0</td>\n      <td>207.0</td>\n      <td>minimal-techno</td>\n      <td>Pan-Pot</td>\n      <td>6OQOvP7RAdmAKVXXQqD0Se</td>\n      <td>Pan-Pot</td>\n      <td>36.0</td>\n      <td>209027.0</td>\n      <td>['german techno', 'minimal techno', 'raw techno']</td>\n    </tr>\n    <tr>\n      <th>4</th>\n      <td>0s3wIBczp6TdSJ2y8cveJl</td>\n      <td>Confronted - Anfisa Letyago Stranger Remix</td>\n      <td>1</td>\n      <td>387413</td>\n      <td>False</td>\n      <td>0</td>\n      <td>6</td>\n      <td>Anfisa Letyago</td>\n      <td>single</td>\n      <td>Confronted Remixes</td>\n      <td>...</td>\n      <td>0.503</td>\n      <td>826.0</td>\n      <td>207.0</td>\n      <td>minimal-techno</td>\n      <td>Pan-Pot</td>\n      <td>7icoOm5fKKPo49jVxoj1Cq</td>\n      <td>Anfisa Letyago</td>\n      <td>40.0</td>\n      <td>87586.0</td>\n      <td>[]</td>\n    </tr>\n    <tr>\n      <th>...</th>\n      <td>...</td>\n      <td>...</td>\n      <td>...</td>\n      <td>...</td>\n      <td>...</td>\n      <td>...</td>\n      <td>...</td>\n      <td>...</td>\n      <td>...</td>\n      <td>...</td>\n      <td>...</td>\n      <td>...</td>\n      <td>...</td>\n      <td>...</td>\n      <td>...</td>\n      <td>...</td>\n      <td>...</td>\n      <td>...</td>\n      <td>...</td>\n      <td>...</td>\n      <td>...</td>\n    </tr>\n    <tr>\n      <th>153332</th>\n      <td>127uq83uGFapbddqiMUKky</td>\n      <td>Sexy Bitch (feat. Akon)</td>\n      <td>1</td>\n      <td>195853</td>\n      <td>True</td>\n      <td>80</td>\n      <td>3</td>\n      <td>Akon</td>\n      <td>album</td>\n      <td>One More Love</td>\n      <td>...</td>\n      <td>0.330</td>\n      <td>417.0</td>\n      <td>106.0</td>\n      <td>edm</td>\n      <td>David Guetta</td>\n      <td>0z4gvV4rjIZ9wHck67ucSV</td>\n      <td>Akon</td>\n      <td>79.0</td>\n      <td>3902855.0</td>\n      <td>['dance pop']</td>\n    </tr>\n    <tr>\n      <th>153333</th>\n      <td>0ZdUHFxifUJNqo7G4aJzoF</td>\n      <td>Savannah</td>\n      <td>1</td>\n      <td>208698</td>\n      <td>False</td>\n      <td>60</td>\n      <td>1</td>\n      <td>Diviners</td>\n      <td>single</td>\n      <td>Savannah</td>\n      <td>...</td>\n      <td>0.604</td>\n      <td>359.0</td>\n      <td>89.0</td>\n      <td>edm</td>\n      <td>Diviners</td>\n      <td>22lnnGKlaDxk8sfzCNRJuA</td>\n      <td>Diviners</td>\n      <td>47.0</td>\n      <td>74955.0</td>\n      <td>['gaming edm']</td>\n    </tr>\n    <tr>\n      <th>153334</th>\n      <td>0ZdUHFxifUJNqo7G4aJzoF</td>\n      <td>Savannah</td>\n      <td>1</td>\n      <td>208698</td>\n      <td>False</td>\n      <td>60</td>\n      <td>1</td>\n      <td>Philly K.</td>\n      <td>single</td>\n      <td>Savannah</td>\n      <td>...</td>\n      <td>0.604</td>\n      <td>359.0</td>\n      <td>89.0</td>\n      <td>edm</td>\n      <td>Diviners</td>\n      <td>1v8lhkt5jZgHT8xi1wYNUS</td>\n      <td>Philly K.</td>\n      <td>38.0</td>\n      <td>2152.0</td>\n      <td>[]</td>\n    </tr>\n    <tr>\n      <th>153335</th>\n      <td>0M4HcGtxIWVVH4rSNp6XhQ</td>\n      <td>Dejalo</td>\n      <td>1</td>\n      <td>202826</td>\n      <td>False</td>\n      <td>57</td>\n      <td>5</td>\n      <td>King</td>\n      <td>album</td>\n      <td>Champagne Talk</td>\n      <td>...</td>\n      <td>0.710</td>\n      <td>304.0</td>\n      <td>75.0</td>\n      <td>hip-hop</td>\n      <td>King</td>\n      <td>5NHm4TU5Twz7owibYxJfFU</td>\n      <td>King</td>\n      <td>71.0</td>\n      <td>5284466.0</td>\n      <td>['desi hip hop', 'desi pop', 'hindi hip hop']</td>\n    </tr>\n    <tr>\n      <th>153336</th>\n      <td>0M4HcGtxIWVVH4rSNp6XhQ</td>\n      <td>Dejalo</td>\n      <td>1</td>\n      <td>202826</td>\n      <td>False</td>\n      <td>57</td>\n      <td>5</td>\n      <td>King</td>\n      <td>album</td>\n      <td>Champagne Talk</td>\n      <td>...</td>\n      <td>0.710</td>\n      <td>304.0</td>\n      <td>75.0</td>\n      <td>hip-hop</td>\n      <td>King</td>\n      <td>2lJZQdSeHa06k9sYmQ3V1Z</td>\n      <td>King</td>\n      <td>8.0</td>\n      <td>41.0</td>\n      <td>[]</td>\n    </tr>\n  </tbody>\n</table>\n<p>153337 rows × 40 columns</p>\n</div>"
     },
     "execution_count": 8,
     "metadata": {},
     "output_type": "execute_result"
    }
   ],
   "source": [
    "# Create a new DataFrame to hold the expanded artist-track combinations\n",
    "expanded_tracks_df = tracks_dataset.assign(artists=tracks_dataset['artists'].str.split(';')).explode('artists')\n",
    "\n",
    "# Strip leading and trailing spaces from the exploded 'artists' column to ensure clean matching\n",
    "expanded_tracks_df['artists'] = expanded_tracks_df['artists'].str.strip()\n",
    "\n",
    "# Merge the expanded tracks dataset with the artists dataset on artist name\n",
    "expanded_merged_df = pd.merge(expanded_tracks_df, artists_dataset, how='left', left_on='artists', right_on='name', suffixes=('_track', '_artist'))\n",
    "\n",
    "# Preview the newly merged dataset\n",
    "expanded_merged_df"
   ],
   "metadata": {
    "collapsed": false,
    "ExecuteTime": {
     "end_time": "2024-03-14T22:56:43.501236Z",
     "start_time": "2024-03-14T22:56:43.216311Z"
    }
   },
   "id": "34ab72ba4f45ae2f",
   "execution_count": 8
  },
  {
   "cell_type": "code",
   "outputs": [],
   "source": [],
   "metadata": {
    "collapsed": false
   },
   "id": "c2ed6b979f7591c2"
  }
 ],
 "metadata": {
  "kernelspec": {
   "display_name": "Python 3",
   "language": "python",
   "name": "python3"
  },
  "language_info": {
   "codemirror_mode": {
    "name": "ipython",
    "version": 2
   },
   "file_extension": ".py",
   "mimetype": "text/x-python",
   "name": "python",
   "nbconvert_exporter": "python",
   "pygments_lexer": "ipython2",
   "version": "2.7.6"
  }
 },
 "nbformat": 4,
 "nbformat_minor": 5
}
