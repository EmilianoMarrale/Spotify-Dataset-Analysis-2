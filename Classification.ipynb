{
 "cells": [
  {
   "cell_type": "code",
   "execution_count": 26,
   "id": "initial_id",
   "metadata": {
    "collapsed": true,
    "ExecuteTime": {
     "end_time": "2024-04-26T16:31:59.907684Z",
     "start_time": "2024-04-26T16:31:58.804191Z"
    }
   },
   "outputs": [],
   "source": [
    "import numpy as np\n",
    "import matplotlib.pyplot as plt\n",
    "import os\n",
    "from sklearn.preprocessing import LabelEncoder\n",
    "from sklearn.model_selection import train_test_split\n",
    "import pandas as pd\n",
    "from sklearn.metrics import accuracy_score\n",
    "from sktime.transformations.series.adapt import TabularToSeriesAdaptor\n",
    "from sklearn.preprocessing import StandardScaler, MinMaxScaler\n",
    "from dtaidistance import dtw\n",
    "from scipy.spatial.distance import euclidean\n",
    "from dtaidistance import dtw_visualisation as dtwvis\n",
    "import seaborn as sns\n",
    "import fastdtw as fastdtw\n",
    "from tslearn.utils import to_time_series_dataset"
   ]
  },
  {
   "cell_type": "code",
   "outputs": [
    {
     "name": "stdout",
     "output_type": "stream",
     "text": [
      "10000\n"
     ]
    }
   ],
   "source": [
    "def load_npy(filename):\n",
    "    return np.load(filename)\n",
    "\n",
    "\n",
    "dir_path = 'cleaned_time_series/'\n",
    "len_threshold = 1280\n",
    "X, y, ids = [], [], []\n",
    "\n",
    "for file in os.listdir(dir_path):\n",
    "    if os.path.splitext(file)[1] != '.npy':\n",
    "        continue\n",
    "\n",
    "    split = file.split(\"_\")\n",
    "    ids.append(split[0])  # track_id\n",
    "    y.append(split[1][:-4])  # genre\n",
    "    ts = load_npy(dir_path + file)\n",
    "\n",
    "    if len(ts) > len_threshold:\n",
    "        ts = ts[0:len_threshold]\n",
    "    else:\n",
    "        # pad = [np.mean(ts[:-5])] * (len_threshold-len(ts)) # fill by mean value of last n observations\n",
    "        pad = [ts[-1]] * (len_threshold - len(ts))  # fill with last observation\n",
    "        ts = np.append(ts, pad)\n",
    "\n",
    "    X.append([ts])\n",
    "\n",
    "X, y, ids = np.array(X), np.array(y), np.array(ids)\n",
    "print(len(X))"
   ],
   "metadata": {
    "collapsed": false,
    "ExecuteTime": {
     "end_time": "2024-04-26T16:37:14.176312Z",
     "start_time": "2024-04-26T16:37:13.664566Z"
    }
   },
   "id": "bb63a431217efde7",
   "execution_count": 33
  },
  {
   "cell_type": "code",
   "outputs": [],
   "source": [
    "# Encode the class labels as integers\n",
    "y = LabelEncoder().fit_transform(y)"
   ],
   "metadata": {
    "collapsed": false,
    "ExecuteTime": {
     "end_time": "2024-04-26T16:37:16.698636Z",
     "start_time": "2024-04-26T16:37:16.693763Z"
    }
   },
   "id": "6d45a91956767df5",
   "execution_count": 34
  },
  {
   "cell_type": "code",
   "outputs": [
    {
     "data": {
      "text/plain": "((8000, 1, 1280), (2000, 1, 1280), (8000,), (2000,))"
     },
     "execution_count": 35,
     "metadata": {},
     "output_type": "execute_result"
    }
   ],
   "source": [
    "X_train, X_test, y_train, y_test = train_test_split(\n",
    "    X, y, test_size=0.2, random_state=42, stratify=y\n",
    ")\n",
    "X_train.shape, X_test.shape, y_train.shape, y_test.shape"
   ],
   "metadata": {
    "collapsed": false,
    "ExecuteTime": {
     "end_time": "2024-04-26T16:37:16.860522Z",
     "start_time": "2024-04-26T16:37:16.828094Z"
    }
   },
   "id": "16f98cd4f7df070a",
   "execution_count": 35
  },
  {
   "cell_type": "code",
   "outputs": [],
   "source": [
    "scaler = TabularToSeriesAdaptor(MinMaxScaler(), fit_in_transform=True)\n",
    "X_train_scaled = scaler.fit_transform(X_train)\n",
    "X_test_scaled = scaler.transform(X_test)"
   ],
   "metadata": {
    "collapsed": false,
    "ExecuteTime": {
     "end_time": "2024-04-26T16:37:32.515771Z",
     "start_time": "2024-04-26T16:37:18.688302Z"
    }
   },
   "id": "3052e8453183819a",
   "execution_count": 36
  },
  {
   "cell_type": "markdown",
   "source": [
    "# KNN with DTW"
   ],
   "metadata": {
    "collapsed": false
   },
   "id": "f6105f2c81d3fcb"
  },
  {
   "cell_type": "code",
   "outputs": [
    {
     "name": "stdout",
     "output_type": "stream",
     "text": [
      "Accuracy score:0.05 for n_neighbors=1\n",
      "Accuracy score:0.15 for n_neighbors=2\n",
      "Accuracy score:0.1 for n_neighbors=3\n",
      "Accuracy score:0.1 for n_neighbors=4\n",
      "Accuracy score:0.05 for n_neighbors=5\n",
      "Accuracy score:0.1 for n_neighbors=6\n",
      "Accuracy score:0.05 for n_neighbors=7\n",
      "Accuracy score:0.0 for n_neighbors=8\n",
      "Accuracy score:0.0 for n_neighbors=9\n",
      "Accuracy score:0.05 for n_neighbors=10\n",
      "0.2\n",
      "CPU times: user 41.5 s, sys: 2.14 s, total: 43.6 s\n",
      "Wall time: 44.4 s\n"
     ]
    }
   ],
   "source": [
    "%%time\n",
    "from sktime.classification.distance_based import KNeighborsTimeSeriesClassifier\n",
    "\n",
    "for i in range(15):\n",
    "    knn = KNeighborsTimeSeriesClassifier(n_neighbors=i+1, distance=\"dtw\", n_jobs=-1)\n",
    "    knn.fit(X_train_scaled[:50], y_train[:50])\n",
    "\n",
    "    y_pred = knn.predict(X_test_scaled[:50])\n",
    "    print(f'Accuracy score:{accuracy_score(y_test[:50], y_pred[:50])} for n_neighbors={i+1}')\n",
    "    \n",
    "knn = KNeighborsTimeSeriesClassifier(n_neighbors=5, distance=\"dtw\", n_jobs=-1)\n",
    "knn.fit(X_train_scaled[:5], y_train[:5])\n",
    "\n",
    "y_pred = knn.predict(X_test_scaled[:5])\n",
    "print(accuracy_score(y_test[:5], y_pred[:5]))"
   ],
   "metadata": {
    "collapsed": false,
    "ExecuteTime": {
     "end_time": "2024-04-26T14:59:25.331994Z",
     "start_time": "2024-04-26T14:58:40.916114Z"
    }
   },
   "id": "34b43a4ca90d0ddf",
   "execution_count": 19
  },
  {
   "cell_type": "markdown",
   "source": [
    "# Shapelets"
   ],
   "metadata": {
    "collapsed": false
   },
   "id": "d33edb9ba8c70f31"
  },
  {
   "cell_type": "code",
   "outputs": [],
   "source": [
    "from tslearn.shapelets import ShapeletModel\n",
    "from tslearn.shapelets import grabocka_params_to_shapelet_size_dict\n",
    "from tslearn.utils import to_time_series_dataset\n",
    "from sklearn.model_selection import train_test_split\n",
    "from tensorflow.keras.optimizers import Adam\n",
    "from tslearn.shapelets import LearningShapelets, grabocka_params_to_shapelet_size_dict\n",
    "from tslearn.datasets import CachedDatasets\n",
    "from tslearn.preprocessing import TimeSeriesScalerMinMax\n",
    "from sklearn.preprocessing import LabelEncoder\n",
    "from sktime.classification.shapelet_based import ShapeletTransformClassifier\n",
    "from sklearn.metrics import classification_report"
   ],
   "metadata": {
    "collapsed": false,
    "ExecuteTime": {
     "end_time": "2024-04-26T16:37:50.678979Z",
     "start_time": "2024-04-26T16:37:50.676849Z"
    }
   },
   "id": "8cdc3457e127d2b5",
   "execution_count": 40
  },
  {
   "cell_type": "markdown",
   "source": [
    "Shapelets are subsequences that can be used to represent a class. Matrix profiles make it possibile to identify these shapelets.\n"
   ],
   "metadata": {
    "collapsed": false
   },
   "id": "4d100b735362ea66"
  },
  {
   "cell_type": "code",
   "outputs": [],
   "source": [
    "st = ShapeletTransformClassifier()"
   ],
   "metadata": {
    "collapsed": false,
    "ExecuteTime": {
     "end_time": "2024-04-26T16:37:41.639148Z",
     "start_time": "2024-04-26T16:37:41.636725Z"
    }
   },
   "id": "74bb5f38bdceb1ad",
   "execution_count": 39
  },
  {
   "cell_type": "code",
   "outputs": [
    {
     "name": "stdout",
     "output_type": "stream",
     "text": [
      "              precision    recall  f1-score   support\n",
      "\n",
      "           0       0.00      0.00      0.00         1\n",
      "           2       0.00      0.00      0.00         3\n",
      "           3       0.20      0.50      0.29         2\n",
      "           4       0.33      0.25      0.29         4\n",
      "           5       0.00      0.00      0.00         2\n",
      "           6       0.00      0.00      0.00         3\n",
      "           7       0.00      0.00      0.00         6\n",
      "           8       0.00      0.00      0.00         0\n",
      "           9       0.00      0.00      0.00         3\n",
      "          10       1.00      0.25      0.40         4\n",
      "          11       0.16      0.75      0.26         4\n",
      "          12       0.00      0.00      0.00         2\n",
      "          13       0.00      0.00      0.00         2\n",
      "          14       1.00      1.00      1.00         1\n",
      "          15       0.00      0.00      0.00         4\n",
      "          16       0.00      0.00      0.00         1\n",
      "          17       0.00      0.00      0.00         3\n",
      "          18       0.00      0.00      0.00         2\n",
      "          19       0.00      0.00      0.00         3\n",
      "\n",
      "    accuracy                           0.14        50\n",
      "   macro avg       0.14      0.14      0.12        50\n",
      "weighted avg       0.15      0.14      0.11        50\n",
      "\n",
      "CPU times: user 2min 5s, sys: 294 ms, total: 2min 5s\n",
      "Wall time: 2min 8s\n"
     ]
    },
    {
     "name": "stderr",
     "output_type": "stream",
     "text": [
      "/Library/Frameworks/Python.framework/Versions/3.11/lib/python3.11/site-packages/sklearn/metrics/_classification.py:1497: UndefinedMetricWarning: Precision is ill-defined and being set to 0.0 in labels with no predicted samples. Use `zero_division` parameter to control this behavior.\n",
      "  _warn_prf(average, modifier, f\"{metric.capitalize()} is\", len(result))\n",
      "/Library/Frameworks/Python.framework/Versions/3.11/lib/python3.11/site-packages/sklearn/metrics/_classification.py:1497: UndefinedMetricWarning: Recall is ill-defined and being set to 0.0 in labels with no true samples. Use `zero_division` parameter to control this behavior.\n",
      "  _warn_prf(average, modifier, f\"{metric.capitalize()} is\", len(result))\n",
      "/Library/Frameworks/Python.framework/Versions/3.11/lib/python3.11/site-packages/sklearn/metrics/_classification.py:1497: UndefinedMetricWarning: Precision is ill-defined and being set to 0.0 in labels with no predicted samples. Use `zero_division` parameter to control this behavior.\n",
      "  _warn_prf(average, modifier, f\"{metric.capitalize()} is\", len(result))\n",
      "/Library/Frameworks/Python.framework/Versions/3.11/lib/python3.11/site-packages/sklearn/metrics/_classification.py:1497: UndefinedMetricWarning: Recall is ill-defined and being set to 0.0 in labels with no true samples. Use `zero_division` parameter to control this behavior.\n",
      "  _warn_prf(average, modifier, f\"{metric.capitalize()} is\", len(result))\n",
      "/Library/Frameworks/Python.framework/Versions/3.11/lib/python3.11/site-packages/sklearn/metrics/_classification.py:1497: UndefinedMetricWarning: Precision is ill-defined and being set to 0.0 in labels with no predicted samples. Use `zero_division` parameter to control this behavior.\n",
      "  _warn_prf(average, modifier, f\"{metric.capitalize()} is\", len(result))\n",
      "/Library/Frameworks/Python.framework/Versions/3.11/lib/python3.11/site-packages/sklearn/metrics/_classification.py:1497: UndefinedMetricWarning: Recall is ill-defined and being set to 0.0 in labels with no true samples. Use `zero_division` parameter to control this behavior.\n",
      "  _warn_prf(average, modifier, f\"{metric.capitalize()} is\", len(result))\n"
     ]
    }
   ],
   "source": [
    "%%time\n",
    "st.fit(X_train_scaled, y_train)\n",
    "y_pred = st.predict(X_test_scaled)\n",
    "print(classification_report(y_test, y_pred))"
   ],
   "metadata": {
    "collapsed": false,
    "ExecuteTime": {
     "end_time": "2024-04-26T16:40:19.483608Z",
     "start_time": "2024-04-26T16:38:11.303911Z"
    }
   },
   "id": "2ca65ff37d250ef0",
   "execution_count": 41
  },
  {
   "cell_type": "code",
   "outputs": [],
   "source": [
    "from sklearn.tree import DecisionTreeClassifier\n",
    "from sktime.transformations.panel.shapelet_transform import RandomShapeletTransform"
   ],
   "metadata": {
    "collapsed": false,
    "ExecuteTime": {
     "end_time": "2024-04-26T16:43:59.175504Z",
     "start_time": "2024-04-26T16:43:59.172767Z"
    }
   },
   "id": "b0d012fd501738fe",
   "execution_count": 42
  },
  {
   "cell_type": "code",
   "outputs": [],
   "source": [
    "rst = RandomShapeletTransform(n_shapelet_samples=10000, max_shapelets=None, min_shapelet_length=3, max_shapelet_length=None, n_jobs=-1) #n_jobs -1 uses all processors"
   ],
   "metadata": {
    "collapsed": false,
    "ExecuteTime": {
     "end_time": "2024-04-26T16:44:08.975764Z",
     "start_time": "2024-04-26T16:44:08.972263Z"
    }
   },
   "id": "2f057e922d80ec4d",
   "execution_count": 43
  },
  {
   "cell_type": "code",
   "outputs": [],
   "source": [
    "%%time\n",
    "rst.fit(X_train_scaled, y_train)"
   ],
   "metadata": {
    "collapsed": false,
    "is_executing": true,
    "ExecuteTime": {
     "start_time": "2024-04-26T16:44:21.168222Z"
    }
   },
   "id": "c63a2c90b2f2c144"
  },
  {
   "cell_type": "code",
   "outputs": [],
   "source": [
    "%%time\n",
    "shapelets_distances_train = rst.transform(X_train_scaled)\n",
    "shapelets_distances_test = rst.transform(X_test_scaled)"
   ],
   "metadata": {
    "collapsed": false
   },
   "id": "d9ed3353f61113f0"
  }
 ],
 "metadata": {
  "kernelspec": {
   "display_name": "Python 3",
   "language": "python",
   "name": "python3"
  },
  "language_info": {
   "codemirror_mode": {
    "name": "ipython",
    "version": 2
   },
   "file_extension": ".py",
   "mimetype": "text/x-python",
   "name": "python",
   "nbconvert_exporter": "python",
   "pygments_lexer": "ipython2",
   "version": "2.7.6"
  }
 },
 "nbformat": 4,
 "nbformat_minor": 5
}
