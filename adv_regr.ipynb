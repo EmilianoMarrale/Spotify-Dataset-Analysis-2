{
 "cells": [
  {
   "cell_type": "markdown",
   "metadata": {},
   "source": [
    "# Load"
   ]
  },
  {
   "cell_type": "code",
   "execution_count": 30,
   "metadata": {
    "ExecuteTime": {
     "end_time": "2024-06-24T22:09:15.385843Z",
     "start_time": "2024-06-24T22:09:15.162482Z"
    }
   },
   "outputs": [],
   "source": [
    "import pandas as pd\n",
    "tracks = pd.read_csv('dataset/tabular/tracks_dataset_without_outliers.csv')\n",
    "# artists\n",
    "artists = pd.read_csv('dataset/tabular/artists_cleaned.csv')"
   ]
  },
  {
   "cell_type": "code",
   "outputs": [
    {
     "data": {
      "text/plain": "       Unnamed: 0                      id  \\\n0               0  45OX2jjEw1l7lOFJfDP9fv   \n1               1  5XeFesFbtLpXzIVDNQP22n   \n2               3  4uUG5RXrOk84mYEfFvj3cK   \n3               4  0WtM2NBVQNNJLh6scP13H8   \n4               5  4h9wh7iOZ0GGn8QVp4RAOB   \n...           ...                     ...   \n80408       81220  1nSYUQngGS5foiagiilbYU   \n80409       81221  1nU1tlW9ccptgRLfgq05I3   \n80410       81222  72ZHywsIxzF1ZkNlMyhsqt   \n80411       81223  5Wt0gIt7RrXz5mJj5pslLC   \n80412       81224  3RldhXk4YEmY3jguzTZ7tk   \n\n                                                    name  duration_ms  \\\n0                                                  MONEY       168227   \n1                                       I Wanna Be Yours       183956   \n2                                        I'm Good (Blue)       175238   \n3                          Calm Down (with Selena Gomez)       239317   \n4                                        I Ain't Worried       148485   \n...                                                  ...          ...   \n80408                                     Singles You Up       182693   \n80409                    Schlagzeile groß, Hirn zu klein       255093   \n80410  Ding! Dong! The Witch Is Dead (From \"The Wizar...       179035   \n80411         Zenitsu Theme V2 (Thunder Clap and Flash!)       137948   \n80412                               Elk Tour Suite Pt. 5        72813   \n\n       explicit  popularity                  artists  \\\n0         False          95                     LISA   \n1         False          94           Arctic Monkeys   \n2          True          94  David Guetta;Bebe Rexha   \n3         False          93        Rema;Selena Gomez   \n4         False          93              OneRepublic   \n...         ...         ...                      ...   \n80408     False           0             Jordan Davis   \n80409     False           0                Frei.Wild   \n80410     False           0       The Countdown Kids   \n80411     False           0               Samuel Kim   \n80412     False           0    Brian Stokes Mitchell   \n\n                                              album_name  danceability  \\\n0                                                 LALISA         0.826   \n1                                                     AM         0.464   \n2                                        I'm Good (Blue)         0.561   \n3                          Calm Down (with Selena Gomez)         0.801   \n4      I Ain’t Worried (Music From The Motion Picture...         0.704   \n...                                                  ...           ...   \n80408                         Mientras hago aromaterapia         0.634   \n80409                Feinde deiner Feinde (Gold Edition)         0.412   \n80410       Happy Halloween! (Spooky Favorites for Kids)         0.741   \n80411                      Demon Slayer: Epic Collection         0.507   \n80412  Centaurworld: S2 (Soundtrack from the Netflix ...         0.302   \n\n       energy  ...  time_signature_confidence  key_confidence  \\\n0       0.553  ...                      0.989           0.043   \n1       0.417  ...                      1.000           0.545   \n2       0.965  ...                      0.789           0.898   \n3       0.806  ...                      1.000           0.593   \n4       0.797  ...                      1.000           0.533   \n...       ...  ...                        ...             ...   \n80408   0.903  ...                      1.000           0.439   \n80409   0.984  ...                      0.762           0.558   \n80410   0.937  ...                      0.959           0.715   \n80411   0.803  ...                      1.000           0.791   \n80412   0.122  ...                      0.379           0.095   \n\n       mode_confidence  n_beats  n_bars                        genre  year  \\\n0                0.253    381.0    95.0             ['k-pop', 'pop']  2021   \n1                0.533    202.0    50.0  ['indie', 'garage', 'rock']  2013   \n2                0.773    368.0    91.0                      ['pop']  2022   \n3                0.597    424.0   105.0                      ['pop']  2022   \n4                0.589    339.0    83.0     ['pop', 'rock', 'piano']  2022   \n...                ...      ...     ...                          ...   ...   \n80408            0.533    296.0    74.0                  ['country']  2022   \n80409            0.509    818.0   205.0                   ['german']  2013   \n80410            0.532    352.0    87.0                 ['children']  2022   \n80411            0.703    263.0    67.0                    ['anime']  2021   \n80412            0.216    152.0    37.0               ['show-tunes']  2021   \n\n       month   day  overall_confidence  \n0        9.0  10.0             0.51850  \n1        9.0   9.0             0.54375  \n2        8.0  26.0             0.81700  \n3        8.0  25.0             0.67050  \n4        5.0  13.0             0.72925  \n...      ...   ...                 ...  \n80408   10.0  14.0             0.52725  \n80409    4.0  19.0             0.48725  \n80410   10.0  14.0             0.75800  \n80411    5.0  21.0             0.75975  \n80412   12.0   7.0             0.19025  \n\n[80413 rows x 33 columns]",
      "text/html": "<div>\n<style scoped>\n    .dataframe tbody tr th:only-of-type {\n        vertical-align: middle;\n    }\n\n    .dataframe tbody tr th {\n        vertical-align: top;\n    }\n\n    .dataframe thead th {\n        text-align: right;\n    }\n</style>\n<table border=\"1\" class=\"dataframe\">\n  <thead>\n    <tr style=\"text-align: right;\">\n      <th></th>\n      <th>Unnamed: 0</th>\n      <th>id</th>\n      <th>name</th>\n      <th>duration_ms</th>\n      <th>explicit</th>\n      <th>popularity</th>\n      <th>artists</th>\n      <th>album_name</th>\n      <th>danceability</th>\n      <th>energy</th>\n      <th>...</th>\n      <th>time_signature_confidence</th>\n      <th>key_confidence</th>\n      <th>mode_confidence</th>\n      <th>n_beats</th>\n      <th>n_bars</th>\n      <th>genre</th>\n      <th>year</th>\n      <th>month</th>\n      <th>day</th>\n      <th>overall_confidence</th>\n    </tr>\n  </thead>\n  <tbody>\n    <tr>\n      <th>0</th>\n      <td>0</td>\n      <td>45OX2jjEw1l7lOFJfDP9fv</td>\n      <td>MONEY</td>\n      <td>168227</td>\n      <td>False</td>\n      <td>95</td>\n      <td>LISA</td>\n      <td>LALISA</td>\n      <td>0.826</td>\n      <td>0.553</td>\n      <td>...</td>\n      <td>0.989</td>\n      <td>0.043</td>\n      <td>0.253</td>\n      <td>381.0</td>\n      <td>95.0</td>\n      <td>['k-pop', 'pop']</td>\n      <td>2021</td>\n      <td>9.0</td>\n      <td>10.0</td>\n      <td>0.51850</td>\n    </tr>\n    <tr>\n      <th>1</th>\n      <td>1</td>\n      <td>5XeFesFbtLpXzIVDNQP22n</td>\n      <td>I Wanna Be Yours</td>\n      <td>183956</td>\n      <td>False</td>\n      <td>94</td>\n      <td>Arctic Monkeys</td>\n      <td>AM</td>\n      <td>0.464</td>\n      <td>0.417</td>\n      <td>...</td>\n      <td>1.000</td>\n      <td>0.545</td>\n      <td>0.533</td>\n      <td>202.0</td>\n      <td>50.0</td>\n      <td>['indie', 'garage', 'rock']</td>\n      <td>2013</td>\n      <td>9.0</td>\n      <td>9.0</td>\n      <td>0.54375</td>\n    </tr>\n    <tr>\n      <th>2</th>\n      <td>3</td>\n      <td>4uUG5RXrOk84mYEfFvj3cK</td>\n      <td>I'm Good (Blue)</td>\n      <td>175238</td>\n      <td>True</td>\n      <td>94</td>\n      <td>David Guetta;Bebe Rexha</td>\n      <td>I'm Good (Blue)</td>\n      <td>0.561</td>\n      <td>0.965</td>\n      <td>...</td>\n      <td>0.789</td>\n      <td>0.898</td>\n      <td>0.773</td>\n      <td>368.0</td>\n      <td>91.0</td>\n      <td>['pop']</td>\n      <td>2022</td>\n      <td>8.0</td>\n      <td>26.0</td>\n      <td>0.81700</td>\n    </tr>\n    <tr>\n      <th>3</th>\n      <td>4</td>\n      <td>0WtM2NBVQNNJLh6scP13H8</td>\n      <td>Calm Down (with Selena Gomez)</td>\n      <td>239317</td>\n      <td>False</td>\n      <td>93</td>\n      <td>Rema;Selena Gomez</td>\n      <td>Calm Down (with Selena Gomez)</td>\n      <td>0.801</td>\n      <td>0.806</td>\n      <td>...</td>\n      <td>1.000</td>\n      <td>0.593</td>\n      <td>0.597</td>\n      <td>424.0</td>\n      <td>105.0</td>\n      <td>['pop']</td>\n      <td>2022</td>\n      <td>8.0</td>\n      <td>25.0</td>\n      <td>0.67050</td>\n    </tr>\n    <tr>\n      <th>4</th>\n      <td>5</td>\n      <td>4h9wh7iOZ0GGn8QVp4RAOB</td>\n      <td>I Ain't Worried</td>\n      <td>148485</td>\n      <td>False</td>\n      <td>93</td>\n      <td>OneRepublic</td>\n      <td>I Ain’t Worried (Music From The Motion Picture...</td>\n      <td>0.704</td>\n      <td>0.797</td>\n      <td>...</td>\n      <td>1.000</td>\n      <td>0.533</td>\n      <td>0.589</td>\n      <td>339.0</td>\n      <td>83.0</td>\n      <td>['pop', 'rock', 'piano']</td>\n      <td>2022</td>\n      <td>5.0</td>\n      <td>13.0</td>\n      <td>0.72925</td>\n    </tr>\n    <tr>\n      <th>...</th>\n      <td>...</td>\n      <td>...</td>\n      <td>...</td>\n      <td>...</td>\n      <td>...</td>\n      <td>...</td>\n      <td>...</td>\n      <td>...</td>\n      <td>...</td>\n      <td>...</td>\n      <td>...</td>\n      <td>...</td>\n      <td>...</td>\n      <td>...</td>\n      <td>...</td>\n      <td>...</td>\n      <td>...</td>\n      <td>...</td>\n      <td>...</td>\n      <td>...</td>\n      <td>...</td>\n    </tr>\n    <tr>\n      <th>80408</th>\n      <td>81220</td>\n      <td>1nSYUQngGS5foiagiilbYU</td>\n      <td>Singles You Up</td>\n      <td>182693</td>\n      <td>False</td>\n      <td>0</td>\n      <td>Jordan Davis</td>\n      <td>Mientras hago aromaterapia</td>\n      <td>0.634</td>\n      <td>0.903</td>\n      <td>...</td>\n      <td>1.000</td>\n      <td>0.439</td>\n      <td>0.533</td>\n      <td>296.0</td>\n      <td>74.0</td>\n      <td>['country']</td>\n      <td>2022</td>\n      <td>10.0</td>\n      <td>14.0</td>\n      <td>0.52725</td>\n    </tr>\n    <tr>\n      <th>80409</th>\n      <td>81221</td>\n      <td>1nU1tlW9ccptgRLfgq05I3</td>\n      <td>Schlagzeile groß, Hirn zu klein</td>\n      <td>255093</td>\n      <td>False</td>\n      <td>0</td>\n      <td>Frei.Wild</td>\n      <td>Feinde deiner Feinde (Gold Edition)</td>\n      <td>0.412</td>\n      <td>0.984</td>\n      <td>...</td>\n      <td>0.762</td>\n      <td>0.558</td>\n      <td>0.509</td>\n      <td>818.0</td>\n      <td>205.0</td>\n      <td>['german']</td>\n      <td>2013</td>\n      <td>4.0</td>\n      <td>19.0</td>\n      <td>0.48725</td>\n    </tr>\n    <tr>\n      <th>80410</th>\n      <td>81222</td>\n      <td>72ZHywsIxzF1ZkNlMyhsqt</td>\n      <td>Ding! Dong! The Witch Is Dead (From \"The Wizar...</td>\n      <td>179035</td>\n      <td>False</td>\n      <td>0</td>\n      <td>The Countdown Kids</td>\n      <td>Happy Halloween! (Spooky Favorites for Kids)</td>\n      <td>0.741</td>\n      <td>0.937</td>\n      <td>...</td>\n      <td>0.959</td>\n      <td>0.715</td>\n      <td>0.532</td>\n      <td>352.0</td>\n      <td>87.0</td>\n      <td>['children']</td>\n      <td>2022</td>\n      <td>10.0</td>\n      <td>14.0</td>\n      <td>0.75800</td>\n    </tr>\n    <tr>\n      <th>80411</th>\n      <td>81223</td>\n      <td>5Wt0gIt7RrXz5mJj5pslLC</td>\n      <td>Zenitsu Theme V2 (Thunder Clap and Flash!)</td>\n      <td>137948</td>\n      <td>False</td>\n      <td>0</td>\n      <td>Samuel Kim</td>\n      <td>Demon Slayer: Epic Collection</td>\n      <td>0.507</td>\n      <td>0.803</td>\n      <td>...</td>\n      <td>1.000</td>\n      <td>0.791</td>\n      <td>0.703</td>\n      <td>263.0</td>\n      <td>67.0</td>\n      <td>['anime']</td>\n      <td>2021</td>\n      <td>5.0</td>\n      <td>21.0</td>\n      <td>0.75975</td>\n    </tr>\n    <tr>\n      <th>80412</th>\n      <td>81224</td>\n      <td>3RldhXk4YEmY3jguzTZ7tk</td>\n      <td>Elk Tour Suite Pt. 5</td>\n      <td>72813</td>\n      <td>False</td>\n      <td>0</td>\n      <td>Brian Stokes Mitchell</td>\n      <td>Centaurworld: S2 (Soundtrack from the Netflix ...</td>\n      <td>0.302</td>\n      <td>0.122</td>\n      <td>...</td>\n      <td>0.379</td>\n      <td>0.095</td>\n      <td>0.216</td>\n      <td>152.0</td>\n      <td>37.0</td>\n      <td>['show-tunes']</td>\n      <td>2021</td>\n      <td>12.0</td>\n      <td>7.0</td>\n      <td>0.19025</td>\n    </tr>\n  </tbody>\n</table>\n<p>80413 rows × 33 columns</p>\n</div>"
     },
     "execution_count": 31,
     "metadata": {},
     "output_type": "execute_result"
    }
   ],
   "source": [
    "tracks"
   ],
   "metadata": {
    "collapsed": false,
    "ExecuteTime": {
     "end_time": "2024-06-24T22:09:15.890347Z",
     "start_time": "2024-06-24T22:09:15.866649Z"
    }
   },
   "execution_count": 31
  },
  {
   "cell_type": "code",
   "outputs": [],
   "source": [
    "#shuffle the dataset\n",
    "tracks = tracks.sample(frac=1).reset_index(drop=True)"
   ],
   "metadata": {
    "collapsed": false,
    "ExecuteTime": {
     "end_time": "2024-06-24T22:09:16.204594Z",
     "start_time": "2024-06-24T22:09:16.189026Z"
    }
   },
   "execution_count": 32
  },
  {
   "cell_type": "code",
   "outputs": [],
   "source": [
    "tracks\n",
    "# drop Unnamed:0 column\n",
    "tracks = tracks.drop(columns=['Unnamed: 0'])"
   ],
   "metadata": {
    "collapsed": false,
    "ExecuteTime": {
     "end_time": "2024-06-24T22:09:16.322006Z",
     "start_time": "2024-06-24T22:09:16.314462Z"
    }
   },
   "execution_count": 33
  },
  {
   "cell_type": "markdown",
   "metadata": {},
   "source": [
    "### merge"
   ]
  },
  {
   "cell_type": "code",
   "execution_count": 34,
   "metadata": {
    "ExecuteTime": {
     "end_time": "2024-06-24T22:09:17.110310Z",
     "start_time": "2024-06-24T22:09:17.103162Z"
    }
   },
   "outputs": [],
   "source": [
    "import pandas as pd\n",
    "# keep only numerical columns\n",
    "tracks = tracks.select_dtypes(include=['number'])\n",
    "\n",
    "# eliminare le righe di merged_df che hanno valori nulli in qualunque colonna\n",
    "tracks.dropna(inplace=True)"
   ]
  },
  {
   "cell_type": "markdown",
   "metadata": {},
   "source": [
    "### scaling"
   ]
  },
  {
   "cell_type": "code",
   "execution_count": 35,
   "metadata": {
    "ExecuteTime": {
     "end_time": "2024-06-24T22:09:17.477012Z",
     "start_time": "2024-06-24T22:09:17.475549Z"
    }
   },
   "outputs": [],
   "source": [
    "df_temp = tracks\n",
    "\n",
    "# df_temp = tracks_artists"
   ]
  },
  {
   "cell_type": "code",
   "execution_count": 36,
   "metadata": {
    "ExecuteTime": {
     "end_time": "2024-06-24T22:09:17.685459Z",
     "start_time": "2024-06-24T22:09:17.665018Z"
    }
   },
   "outputs": [],
   "source": [
    "from sklearn.preprocessing import StandardScaler\n",
    "import pandas as pd\n",
    "\n",
    "# Assuming 'tracks' is a DataFrame\n",
    "scaler = StandardScaler()\n",
    "df_temp_scaled = scaler.fit_transform(df_temp)\n",
    "\n",
    "# Convert back to DataFrame\n",
    "df_temp_scaled = pd.DataFrame(df_temp_scaled, columns=df_temp.columns)\n",
    "\n",
    "df = df_temp_scaled\n",
    "#df = df_temp\n",
    "# remove popularity column from tracks and put it in y\n",
    "popularity = df.pop('popularity')\n",
    "# split the data into training and testing\n",
    "from sklearn.model_selection import train_test_split\n",
    "#\n",
    "X_train, X_test, y_train, y_test = train_test_split(df, popularity, test_size=0.2, random_state=42)\n",
    "del popularity, df_temp_scaled, df_temp, artists, tracks, scaler\n"
   ]
  },
  {
   "cell_type": "markdown",
   "metadata": {},
   "source": [
    "# Random Forest Regressor"
   ]
  },
  {
   "cell_type": "code",
   "execution_count": null,
   "metadata": {},
   "outputs": [],
   "source": [
    "from sklearn.ensemble import RandomForestRegressor\n",
    "from sklearn.model_selection import GridSearchCV\n",
    "from sklearn.metrics import mean_squared_error, mean_absolute_error, r2_score\n",
    "import numpy as np\n",
    "\n",
    "# Crea il modello di base\n",
    "rf = RandomForestRegressor(random_state=42)\n",
    "\n",
    "# Definisci la griglia dei parametri\n",
    "param_grid = {\n",
    "    'n_estimators': [50, 100, 200],\n",
    "    'max_features': ['auto', 'sqrt', 'log2'],\n",
    "    'max_depth': [None, 10, 20, 30],\n",
    "    'min_samples_split': [2, 5, 10],\n",
    "    'min_samples_leaf': [1, 2, 4],\n",
    "    'bootstrap': [True, False]\n",
    "}\n",
    "\n",
    "# Crea GridSearchCV\n",
    "grid_search = GridSearchCV(estimator=rf, param_grid=param_grid, \n",
    "                           cv=5, n_jobs=-1, verbose=2, scoring='neg_mean_squared_error')\n",
    "\n",
    "# Fai il fit della grid search\n",
    "grid_search.fit(X_train, y_train)\n",
    "\n",
    "# Miglior modello trovato dalla grid search\n",
    "best_rf = grid_search.best_estimator_\n",
    "\n",
    "# Predici i valori sul set di test\n",
    "y_pred = best_rf.predict(X_test)\n",
    "\n",
    "# Calcola le metriche\n",
    "mse = mean_squared_error(y_test, y_pred)\n",
    "mae = mean_absolute_error(y_test, y_pred)\n",
    "r2 = r2_score(y_test, y_pred)\n",
    "\n",
    "print('Best Parameters:', grid_search.best_params_)\n",
    "print('Mean Squared Error:', mse)\n",
    "print('Mean Absolute Error:', mae)\n",
    "print('R^2:', r2)"
   ]
  },
  {
   "cell_type": "code",
   "execution_count": null,
   "metadata": {},
   "outputs": [],
   "source": [
    "from sklearn.ensemble import RandomForestRegressor\n",
    "from sklearn.model_selection import GridSearchCV\n",
    "from sklearn.metrics import mean_squared_error, mean_absolute_error, r2_score\n",
    "import numpy as np\n",
    "\n",
    "# Crea il modello di base\n",
    "rf = RandomForestRegressor(random_state=42)\n",
    "\n",
    "# Definisci la griglia dei parametri\n",
    "param_grid = {\n",
    "    'bootstrap': [False], 'max_depth': [None], 'max_features': ['sqrt'], 'min_samples_leaf': [2], 'min_samples_split': [2], 'n_estimators': [200]\n",
    "}\n",
    "\n",
    "# Crea GridSearchCV\n",
    "grid_search = GridSearchCV(estimator=rf, param_grid=param_grid, \n",
    "                           cv=3, n_jobs=-1, verbose=2, scoring='neg_mean_squared_error')\n",
    "\n",
    "# Fai il fit della grid search\n",
    "grid_search.fit(X_train, y_train)\n",
    "\n",
    "# Miglior modello trovato dalla grid search\n",
    "best_rf = grid_search.best_estimator_\n",
    "\n",
    "# Predici i valori sul set di test\n",
    "y_pred = best_rf.predict(X_test)\n",
    "\n",
    "# Calcola le metriche\n",
    "mse = mean_squared_error(y_test, y_pred)\n",
    "mae = mean_absolute_error(y_test, y_pred)\n",
    "r2 = r2_score(y_test, y_pred)\n",
    "\n",
    "print('Best Parameters:', grid_search.best_params_)\n",
    "print('Mean Squared Error:', mse)\n",
    "print('Mean Absolute Error:', mae)\n",
    "print('R^2:', r2)"
   ]
  },
  {
   "cell_type": "code",
   "outputs": [],
   "source": [
    "import os\n",
    "import certifi\n",
    "os.environ['SSL_CERT_FILE'] = certifi.where()"
   ],
   "metadata": {
    "collapsed": false,
    "ExecuteTime": {
     "end_time": "2024-06-24T20:29:50.816122Z",
     "start_time": "2024-06-24T20:29:50.809519Z"
    }
   },
   "execution_count": 13
  },
  {
   "cell_type": "code",
   "outputs": [
    {
     "ename": "AttributeError",
     "evalue": "'numpy.ndarray' object has no attribute 'to_numpy'",
     "output_type": "error",
     "traceback": [
      "\u001B[0;31m---------------------------------------------------------------------------\u001B[0m",
      "\u001B[0;31mAttributeError\u001B[0m                            Traceback (most recent call last)",
      "Cell \u001B[0;32mIn[50], line 2\u001B[0m\n\u001B[1;32m      1\u001B[0m \u001B[38;5;66;03m#convert X_train, X_test, y_train, y_test to numpy\u001B[39;00m\n\u001B[0;32m----> 2\u001B[0m X_train \u001B[38;5;241m=\u001B[39m \u001B[43mX_train\u001B[49m\u001B[38;5;241;43m.\u001B[39;49m\u001B[43mto_numpy\u001B[49m()\n\u001B[1;32m      3\u001B[0m X_test \u001B[38;5;241m=\u001B[39m X_test\u001B[38;5;241m.\u001B[39mto_numpy()\n\u001B[1;32m      4\u001B[0m y_train \u001B[38;5;241m=\u001B[39m y_train\u001B[38;5;241m.\u001B[39mto_numpy()\n",
      "\u001B[0;31mAttributeError\u001B[0m: 'numpy.ndarray' object has no attribute 'to_numpy'"
     ]
    }
   ],
   "source": [
    "#convert X_train, X_test, y_train, y_test to numpy\n",
    "X_train = X_train.to_numpy()\n",
    "X_test = X_test.to_numpy()\n",
    "y_train = y_train.to_numpy()\n",
    "y_test = y_test.to_numpy()"
   ],
   "metadata": {
    "collapsed": false,
    "ExecuteTime": {
     "end_time": "2024-06-24T21:05:12.899856Z",
     "start_time": "2024-06-24T21:05:12.886795Z"
    }
   },
   "execution_count": 50
  },
  {
   "cell_type": "code",
   "outputs": [
    {
     "data": {
      "text/plain": "(60403, 26)"
     },
     "execution_count": 49,
     "metadata": {},
     "output_type": "execute_result"
    }
   ],
   "source": [
    "X_train.shape"
   ],
   "metadata": {
    "collapsed": false,
    "ExecuteTime": {
     "end_time": "2024-06-24T21:04:59.957354Z",
     "start_time": "2024-06-24T21:04:59.955042Z"
    }
   },
   "execution_count": 49
  },
  {
   "cell_type": "code",
   "outputs": [
    {
     "name": "stdout",
     "output_type": "stream",
     "text": [
      "Mean Squared Error: 0.6728011586765226\n",
      "Mean Absolute Error: 0.6117925226258217\n",
      "R^2: 0.3295315381191767\n"
     ]
    }
   ],
   "source": [
    "#convert X_train, X_test, y_train, y_test to numpy\n",
    "X_train = X_train.to_numpy()\n",
    "X_test = X_test.to_numpy()\n",
    "y_train = y_train.to_numpy()\n",
    "y_test = y_test.to_numpy()\n",
    "\n",
    "from quantile_forest import RandomForestQuantileRegressor\n",
    "from sklearn.metrics import mean_squared_error, mean_absolute_error, r2_score\n",
    "\n",
    "qrf = RandomForestQuantileRegressor()\n",
    "\n",
    "qrf.fit(X_train, y_train)\n",
    "\n",
    "y_pred = qrf.predict(X_test, quantiles=[0.5])\n",
    "\n",
    "mse = mean_squared_error(y_test, y_pred)\n",
    "mae = mean_absolute_error(y_test, y_pred)\n",
    "r2 = r2_score(y_test, y_pred)\n",
    "\n",
    "print('Mean Squared Error:', mse)\n",
    "print('Mean Absolute Error:', mae)\n",
    "print('R^2:', r2)"
   ],
   "metadata": {
    "collapsed": false,
    "ExecuteTime": {
     "end_time": "2024-06-24T22:11:09.475183Z",
     "start_time": "2024-06-24T22:09:32.050174Z"
    }
   },
   "execution_count": 37
  },
  {
   "cell_type": "code",
   "outputs": [
    {
     "name": "stdout",
     "output_type": "stream",
     "text": [
      "Mean Squared Error lower: 4.689529609866545e-06\n",
      "Mean Absolute Error lower: 9.899400614685231e-05\n",
      "R^2 lower: 0.999995233241307\n",
      "Mean Squared Error median: 3.0699428729538367e-06\n",
      "Mean Absolute Error median: 6.376425516705464e-05\n",
      "R^2 median: 0.9999968795000578\n",
      "Mean Squared Error upper: 8.481484672253182e-06\n",
      "Mean Absolute Error upper: 0.00016307708258974187\n",
      "R^2 upper: 0.9999913788387848\n"
     ]
    }
   ],
   "source": [
    "#convert X_train, X_test, y_train, y_test to numpy\n",
    "\n",
    "from quantile_forest import RandomForestQuantileRegressor\n",
    "from sklearn.metrics import mean_squared_error, mean_absolute_error, r2_score\n",
    "\n",
    "qrf = RandomForestQuantileRegressor()\n",
    "\n",
    "qrf.fit(X_train, y_train)\n",
    "\n",
    "y_pred_quantiles = qrf.predict(X_test, quantiles=[0.025, 0.5, 0.975])\n",
    "\n",
    "y_pred_lower = y_pred_quantiles[:, 0]  # 2.5th percentile\n",
    "y_pred_median = y_pred_quantiles[:, 1]  # 50th percentile\n",
    "y_pred_upper = y_pred_quantiles[:, 2]  # 97.5th percentile\n",
    "\n",
    "mse = mean_squared_error(y_test, y_pred_lower)\n",
    "mae = mean_absolute_error(y_test, y_pred_lower)\n",
    "r2 = r2_score(y_test, y_pred_lower)\n",
    "\n",
    "print('Mean Squared Error lower:', mse)\n",
    "print('Mean Absolute Error lower:', mae)\n",
    "print('R^2 lower:', r2)\n",
    "\n",
    "mse = mean_squared_error(y_test, y_pred_median)\n",
    "mae = mean_absolute_error(y_test, y_pred_median)\n",
    "r2 = r2_score(y_test, y_pred_median)\n",
    "\n",
    "print('Mean Squared Error median:', mse)\n",
    "print('Mean Absolute Error median:', mae)\n",
    "print('R^2 median:', r2)\n",
    "\n",
    "mse = mean_squared_error(y_test, y_pred_upper)\n",
    "mae = mean_absolute_error(y_test, y_pred_upper)\n",
    "r2 = r2_score(y_test, y_pred_upper)\n",
    "\n",
    "print('Mean Squared Error upper:', mse)\n",
    "print('Mean Absolute Error upper:', mae)\n",
    "print('R^2 upper:', r2)"
   ],
   "metadata": {
    "collapsed": false,
    "ExecuteTime": {
     "end_time": "2024-06-24T22:05:21.237857Z",
     "start_time": "2024-06-24T22:04:40.013625Z"
    }
   },
   "execution_count": 20
  },
  {
   "cell_type": "code",
   "execution_count": null,
   "metadata": {},
   "outputs": [],
   "source": [
    "from sklearn.ensemble import RandomForestRegressor\n",
    "from sklearn.model_selection import cross_val_score\n",
    "from sklearn.metrics import mean_squared_error, mean_absolute_error, r2_score\n",
    "\n",
    "# Definisci il modello con i parametri specificati\n",
    "rf = RandomForestRegressor(\n",
    "    bootstrap=False, \n",
    "    max_depth=None, \n",
    "    max_features='sqrt', \n",
    "    min_samples_leaf=2, \n",
    "    min_samples_split=2, \n",
    "    n_estimators=200,\n",
    "    random_state=42\n",
    ")\n",
    "\n",
    "# Addestra il modello\n",
    "rf.fit(X_train, y_train)\n",
    "\n",
    "# Valuta il modello sui dati di test\n",
    "y_pred = rf.predict(X_test)\n",
    "\n",
    "# Calcola le metriche di valutazione\n",
    "mse = mean_squared_error(y_test, y_pred)\n",
    "mae = mean_absolute_error(y_test, y_pred)\n",
    "r2 = r2_score(y_test, y_pred)\n",
    "print(\"Mean Squared Error:\", mse)\n",
    "print(\"Mean Absolute Error:\", mae)\n",
    "print(\"R²:\", r2)\n",
    "\n",
    "# Calcola le metriche di cross-validation\n",
    "cv_mse = -cross_val_score(rf, X_train, y_train, cv=5, scoring='neg_mean_squared_error')\n",
    "cv_r2 = cross_val_score(rf, X_train, y_train, cv=5, scoring='r2')\n",
    "print(\"Cross-Validation Mean Squared Error:\", cv_mse.mean())\n",
    "print(\"Cross-Validation Std Dev MSE:\", cv_mse.std())\n",
    "print(\"Cross-Validation R²:\", cv_r2.mean())"
   ]
  },
  {
   "cell_type": "markdown",
   "metadata": {},
   "source": [
    "# XGBoost"
   ]
  },
  {
   "cell_type": "code",
   "execution_count": null,
   "metadata": {},
   "outputs": [],
   "source": [
    "import xgboost as xgb\n",
    "from sklearn.model_selection import GridSearchCV, cross_val_score\n",
    "from sklearn.metrics import mean_squared_error, mean_absolute_error, r2_score\n",
    "\n",
    "# Crea il modello di base\n",
    "xg_reg = xgb.XGBRegressor(objective='reg:squarederror', random_state=42)\n",
    "\n",
    "# Definisci la griglia dei parametri\n",
    "param_grid = {\n",
    "    'n_estimators': [100, 200],\n",
    "    'learning_rate': [0.01, 0.1, 0.2],\n",
    "    'max_depth': [3, 5, 7],\n",
    "    'subsample': [0.7, 0.8, 1.0],\n",
    "    'colsample_bytree': [0.7, 0.8, 1.0]\n",
    "}\n",
    "\n",
    "# Crea GridSearchCV\n",
    "grid_search = GridSearchCV(estimator=xg_reg, param_grid=param_grid, \n",
    "                           cv=3, n_jobs=-1, verbose=2, scoring='neg_mean_squared_error')\n",
    "\n",
    "# Fai il fit della grid search\n",
    "grid_search.fit(X_train, y_train)\n",
    "\n",
    "# Miglior modello trovato dalla grid search\n",
    "best_xg_reg = grid_search.best_estimator_\n",
    "\n",
    "# Predici i valori sul set di test\n",
    "y_pred = best_xg_reg.predict(X_test)\n",
    "\n",
    "# Calcola le metriche sul test set\n",
    "mse = mean_squared_error(y_test, y_pred)\n",
    "mae = mean_absolute_error(y_test, y_pred)\n",
    "r2 = r2_score(y_test, y_pred)\n",
    "\n",
    "print('Best Parameters:', grid_search.best_params_)\n",
    "print('Test Set Mean Squared Error:', mse)\n",
    "print('Test Set Mean Absolute Error:', mae)\n",
    "print('Test Set R^2:', r2)\n",
    "\n",
    "# Cross-Validation Finale\n",
    "cv_scores = cross_val_score(best_xg_reg, X_train, y_train, cv=3, scoring='neg_mean_squared_error')\n",
    "cv_mse = -cv_scores.mean()\n",
    "cv_std = cv_scores.std()\n",
    "cv_r2_scores = cross_val_score(best_xg_reg, X_train, y_train, cv=3, scoring='r2')\n",
    "cv_r2 = cv_r2_scores.mean()\n",
    "\n",
    "print('Cross-Validation Mean Squared Error:', cv_mse)\n",
    "print('Cross-Validation Std Dev MSE:', cv_std)\n",
    "print('Cross-Validation R^2:', cv_r2)"
   ]
  },
  {
   "cell_type": "code",
   "execution_count": null,
   "metadata": {},
   "outputs": [],
   "source": [
    "import xgboost as xgb\n",
    "from sklearn.model_selection import GridSearchCV, cross_val_score\n",
    "from sklearn.metrics import mean_squared_error, mean_absolute_error, r2_score\n",
    "\n",
    "# Crea il modello di base\n",
    "xg_reg = xgb.XGBRegressor(objective='reg:squarederror', random_state=42)\n",
    "\n",
    "# Definisci la griglia dei parametri\n",
    "# param_grid = {\n",
    "#     'n_estimators': [200, 300, 400],\n",
    "#     'learning_rate': [0.05, 0.1, 0.2],\n",
    "#     'max_depth': [5, 7, 9],\n",
    "#     'subsample': [0.8, 1.0],\n",
    "#     'colsample_bytree': [0.6, 0.7, 0.8]\n",
    "# }\n",
    "\n",
    "# param_grid = {\n",
    "#     'colsample_bytree': [0.6], 'learning_rate': [0.05], 'max_depth': [9], 'n_estimators': [400], 'subsample': [1.0]\n",
    "#     }\n",
    "\n",
    "param_grid = {'colsample_bytree': [0.7], 'learning_rate': [0.1], 'max_depth': [7], 'n_estimators': [200], 'subsample': [1.0]}\n",
    "\n",
    "# Crea GridSearchCV\n",
    "grid_search = GridSearchCV(estimator=xg_reg, param_grid=param_grid, \n",
    "                           cv=5, n_jobs=-1, verbose=2, scoring='neg_mean_squared_error')\n",
    "\n",
    "# Fai il fit della grid search\n",
    "grid_search.fit(X_train, y_train)\n",
    "\n",
    "# Miglior modello trovato dalla grid search\n",
    "best_xg_reg = grid_search.best_estimator_\n",
    "\n",
    "# Predici i valori sul set di test\n",
    "y_pred = best_xg_reg.predict(X_test)\n",
    "\n",
    "# Calcola le metriche sul test set\n",
    "mse = mean_squared_error(y_test, y_pred)\n",
    "mae = mean_absolute_error(y_test, y_pred)\n",
    "r2 = r2_score(y_test, y_pred)\n",
    "\n",
    "print('Best Parameters:', grid_search.best_params_)\n",
    "print('Test Set Mean Squared Error:', mse)\n",
    "print('Test Set Mean Absolute Error:', mae)\n",
    "print('Test Set R^2:', r2)\n",
    "\n",
    "# Cross-Validation Finale\n",
    "cv_scores = cross_val_score(best_xg_reg, X_train, y_train, cv=5, scoring='neg_mean_squared_error')\n",
    "cv_mse = -cv_scores.mean()\n",
    "cv_std = cv_scores.std()\n",
    "cv_r2_scores = cross_val_score(best_xg_reg, X_train, y_train, cv=5, scoring='r2')\n",
    "cv_r2 = cv_r2_scores.mean()\n",
    "\n",
    "print('Cross-Validation Mean Squared Error:', cv_mse)\n",
    "print('Cross-Validation Std Dev MSE:', cv_std)\n",
    "print('Cross-Validation R^2:', cv_r2)"
   ]
  },
  {
   "cell_type": "code",
   "execution_count": null,
   "metadata": {},
   "outputs": [],
   "source": []
  }
 ],
 "metadata": {
  "kernelspec": {
   "display_name": "Python 3",
   "language": "python",
   "name": "python3"
  },
  "language_info": {
   "codemirror_mode": {
    "name": "ipython",
    "version": 3
   },
   "file_extension": ".py",
   "mimetype": "text/x-python",
   "name": "python",
   "nbconvert_exporter": "python",
   "pygments_lexer": "ipython3",
   "version": "3.9.6"
  }
 },
 "nbformat": 4,
 "nbformat_minor": 2
}
