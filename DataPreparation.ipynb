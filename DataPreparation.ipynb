{
 "cells": [
  {
   "cell_type": "code",
   "outputs": [],
   "source": [
    "import pandas as pd\n",
    "import numpy as np\n",
    "import matplotlib.pyplot as plt\n",
    "from matplotlib.ticker import FuncFormatter\n",
    "import matplotlib.ticker as ticker\n",
    "import seaborn as sns\n",
    "import ast"
   ],
   "metadata": {
    "collapsed": false,
    "ExecuteTime": {
     "end_time": "2024-04-06T09:39:48.813042Z",
     "start_time": "2024-04-06T09:39:48.810926Z"
    }
   },
   "id": "ebd37c16f07a267",
   "execution_count": 36
  },
  {
   "cell_type": "code",
   "execution_count": 37,
   "id": "initial_id",
   "metadata": {
    "collapsed": true,
    "ExecuteTime": {
     "end_time": "2024-04-06T09:39:49.134958Z",
     "start_time": "2024-04-06T09:39:48.833671Z"
    }
   },
   "outputs": [],
   "source": [
    "artists_dataset = pd.read_csv('dataset/tabular/artists.csv')\n",
    "tracks_dataset = pd.read_csv('dataset/tabular/tracks.csv')"
   ]
  },
  {
   "cell_type": "markdown",
   "source": [
    "# Artists Dataset"
   ],
   "metadata": {
    "collapsed": false
   },
   "id": "526a367367eca526"
  },
  {
   "cell_type": "markdown",
   "source": [
    "Dropping rows with NaN and duplicated lines from artists dataset"
   ],
   "metadata": {
    "collapsed": false
   },
   "id": "2ad3d709d5282ef6"
  },
  {
   "cell_type": "code",
   "outputs": [],
   "source": [
    "# Drop the rows with missing values\n",
    "artists_dataset = artists_dataset.dropna()\n",
    "# Drop the duplicated rows\n",
    "artists_dataset = artists_dataset.drop_duplicates()"
   ],
   "metadata": {
    "collapsed": false,
    "ExecuteTime": {
     "end_time": "2024-04-06T09:39:49.149927Z",
     "start_time": "2024-04-06T09:39:49.135917Z"
    }
   },
   "id": "bcc9019bc65f149b",
   "execution_count": 38
  },
  {
   "cell_type": "code",
   "outputs": [],
   "source": [
    "#Drop all the artists with same name and same genres\n",
    "artists_dataset = artists_dataset.sort_values('popularity', ascending=False).drop_duplicates(['name', 'genres'])"
   ],
   "metadata": {
    "collapsed": false,
    "ExecuteTime": {
     "end_time": "2024-04-06T09:39:49.161240Z",
     "start_time": "2024-04-06T09:39:49.150536Z"
    }
   },
   "id": "e2cacc6e06aad27f",
   "execution_count": 39
  },
  {
   "cell_type": "markdown",
   "source": [
    "For all rows with the same 'name' value, dropping the ones with empty 'genres' list and keeping the ones with non-empty 'genres' list"
   ],
   "metadata": {
    "collapsed": false
   },
   "id": "9fa3566f1b53c30e"
  },
  {
   "cell_type": "code",
   "outputs": [],
   "source": [
    "duplicated_names = artists_dataset[artists_dataset.duplicated('name', keep=False)]\n",
    "\n",
    "# Assuming your DataFrame is named artists_dataset and the column with the genres list is named 'genres'\n",
    "artists_dataset.loc[duplicated_names.index, 'genres'] = artists_dataset.loc[duplicated_names.index, 'genres'].apply(ast.literal_eval)  # Convert string representation of list to actual list\n",
    "artists_dataset = artists_dataset[artists_dataset['genres'].apply(lambda x: len(x) != 0)]  # Keep only rows where 'genres' list is not empty"
   ],
   "metadata": {
    "collapsed": false,
    "ExecuteTime": {
     "end_time": "2024-04-06T09:39:49.172211Z",
     "start_time": "2024-04-06T09:39:49.162432Z"
    }
   },
   "id": "5f35fcf758608462",
   "execution_count": 40
  },
  {
   "cell_type": "markdown",
   "source": [
    "# Tracks Dataset"
   ],
   "metadata": {
    "collapsed": false
   },
   "id": "146288a4369bdf28"
  },
  {
   "cell_type": "markdown",
   "source": [
    "## Aggregated all rows with duplicated 'id' values into a single row, keeping the unique genres in a list. Then dropped the duplicated rows from the original dataset and added the aggregated rows.\n"
   ],
   "metadata": {
    "collapsed": false
   },
   "id": "191b0cfaeda7ee35"
  },
  {
   "cell_type": "code",
   "outputs": [
    {
     "data": {
      "text/plain": "                            id  \\\n43417   0000vdREvCVMxbQTkS888c   \n93608   000CC8EParg64OmTxVnZ0p   \n61659   000Iz0K615UepwSJ5z2RE5   \n423     000RDCYioLteXcutOjeweY   \n31      000qpdoc97IMTBvF8gwcpy   \n...                        ...   \n62633   7zxHiMmVLt4LGWpOMqOpUh   \n106924  7zxpdh3EqMq2JCkOI0EqcG   \n58393   7zyYmIdjqqiX6kLryb7QBx   \n36699   7zybSU9tFO9HNlwmGF7stc   \n64088   7zz7iNGIWhmfFE7zlXkMma   \n\n                                                     name  disc_number  \\\n43417                                               Lolly            1   \n93608   It's All Coming Back To Me Now (Glee Cast Vers...            1   \n61659                         Böxig Leise - Pig&Dan Remix            1   \n423                                            Teeje Week            1   \n31                                                   Tief            1   \n...                                                   ...          ...   \n62633         Aethu Kari Raavilum - From \"Bangalore Days\"            1   \n106924                         Two Worlds (From \"Tarzan\")            1   \n58393                                              以後別做朋友            1   \n36699                                        Sunset Drive            1   \n64088                                          Grant Hart            1   \n\n        duration_ms  explicit  popularity  track_number  \\\n43417        160725      True          35             1   \n93608        322933     False          49            10   \n61659        515360     False           0             5   \n423          190203     False          62             1   \n31           331240     False          20             9   \n...             ...       ...         ...           ...   \n62633        325156     False          64             1   \n106924       109573     False          31             3   \n58393        260573     False          64             2   \n36699        234300     False          60             5   \n64088        144973     False          22            10   \n\n                          artists album_type         album_name  ...  \\\n43417                        Rill     single              Lolly  ...   \n93608                   Glee Cast      album    Glee Love Songs  ...   \n61659    Paul Kalkbrenner;Pig&Dan      album                  X  ...   \n423     Jordan Sandhu;Bunty Bains     single         Teeje Week  ...   \n31               Paul Kalkbrenner      album               Zeit  ...   \n...                           ...        ...                ...  ...   \n62633      Haricharan;Gopi Sundar      album     Bangalore Days  ...   \n106924                Piano Genie     single  Disney Favourites  ...   \n58393                   Eric Chou      album                學著愛  ...   \n36699                  Stereoclip      album             Echoes  ...   \n64088                  The Posies      album   Amazing Disgrace  ...   \n\n       features_duration_ms time_signature  start_of_fade_out  \\\n43417                160726              4          154.11664   \n93608                322933              4          313.21976   \n61659                515360              4          474.23273   \n423                  190203              4          183.53633   \n31                   331240              4          321.92145   \n...                     ...            ...                ...   \n62633                325156              4          315.87845   \n106924               109574              4          105.35474   \n58393                260573              4          235.45615   \n36699                234300              4          228.68753   \n64088                144973              4          144.97333   \n\n        tempo_confidence  time_signature_confidence  key_confidence  \\\n43417              0.578                      1.000           0.685   \n93608              0.030                      0.659           0.712   \n61659              0.832                      0.996           0.052   \n423                0.103                      1.000           0.339   \n31                 0.622                      1.000           0.011   \n...                  ...                        ...             ...   \n62633              0.736                      1.000           0.504   \n106924             0.206                      0.993           0.863   \n58393              0.270                      0.822           0.395   \n36699              0.958                      0.895           0.493   \n64088              0.715                      0.866           0.274   \n\n        mode_confidence  n_beats  n_bars             genre  \n43417             0.583    276.0    67.0          [german]  \n93608             0.717    937.0   238.0            [club]  \n61659             0.322   1025.0   257.0  [minimal-techno]  \n423               0.473    501.0   124.0         [hip-hop]  \n31                0.160    699.0   175.0  [minimal-techno]  \n...                 ...      ...     ...               ...  \n62633             0.547    641.0   162.0        [pop-film]  \n106924            1.000    151.0    38.0          [disney]  \n58393             0.533    539.0   135.0        [mandopop]  \n36699             0.233    485.0   121.0      [electronic]  \n64088             0.355    417.0   104.0       [power-pop]  \n\n[89562 rows x 34 columns]",
      "text/html": "<div>\n<style scoped>\n    .dataframe tbody tr th:only-of-type {\n        vertical-align: middle;\n    }\n\n    .dataframe tbody tr th {\n        vertical-align: top;\n    }\n\n    .dataframe thead th {\n        text-align: right;\n    }\n</style>\n<table border=\"1\" class=\"dataframe\">\n  <thead>\n    <tr style=\"text-align: right;\">\n      <th></th>\n      <th>id</th>\n      <th>name</th>\n      <th>disc_number</th>\n      <th>duration_ms</th>\n      <th>explicit</th>\n      <th>popularity</th>\n      <th>track_number</th>\n      <th>artists</th>\n      <th>album_type</th>\n      <th>album_name</th>\n      <th>...</th>\n      <th>features_duration_ms</th>\n      <th>time_signature</th>\n      <th>start_of_fade_out</th>\n      <th>tempo_confidence</th>\n      <th>time_signature_confidence</th>\n      <th>key_confidence</th>\n      <th>mode_confidence</th>\n      <th>n_beats</th>\n      <th>n_bars</th>\n      <th>genre</th>\n    </tr>\n  </thead>\n  <tbody>\n    <tr>\n      <th>43417</th>\n      <td>0000vdREvCVMxbQTkS888c</td>\n      <td>Lolly</td>\n      <td>1</td>\n      <td>160725</td>\n      <td>True</td>\n      <td>35</td>\n      <td>1</td>\n      <td>Rill</td>\n      <td>single</td>\n      <td>Lolly</td>\n      <td>...</td>\n      <td>160726</td>\n      <td>4</td>\n      <td>154.11664</td>\n      <td>0.578</td>\n      <td>1.000</td>\n      <td>0.685</td>\n      <td>0.583</td>\n      <td>276.0</td>\n      <td>67.0</td>\n      <td>[german]</td>\n    </tr>\n    <tr>\n      <th>93608</th>\n      <td>000CC8EParg64OmTxVnZ0p</td>\n      <td>It's All Coming Back To Me Now (Glee Cast Vers...</td>\n      <td>1</td>\n      <td>322933</td>\n      <td>False</td>\n      <td>49</td>\n      <td>10</td>\n      <td>Glee Cast</td>\n      <td>album</td>\n      <td>Glee Love Songs</td>\n      <td>...</td>\n      <td>322933</td>\n      <td>4</td>\n      <td>313.21976</td>\n      <td>0.030</td>\n      <td>0.659</td>\n      <td>0.712</td>\n      <td>0.717</td>\n      <td>937.0</td>\n      <td>238.0</td>\n      <td>[club]</td>\n    </tr>\n    <tr>\n      <th>61659</th>\n      <td>000Iz0K615UepwSJ5z2RE5</td>\n      <td>Böxig Leise - Pig&amp;Dan Remix</td>\n      <td>1</td>\n      <td>515360</td>\n      <td>False</td>\n      <td>0</td>\n      <td>5</td>\n      <td>Paul Kalkbrenner;Pig&amp;Dan</td>\n      <td>album</td>\n      <td>X</td>\n      <td>...</td>\n      <td>515360</td>\n      <td>4</td>\n      <td>474.23273</td>\n      <td>0.832</td>\n      <td>0.996</td>\n      <td>0.052</td>\n      <td>0.322</td>\n      <td>1025.0</td>\n      <td>257.0</td>\n      <td>[minimal-techno]</td>\n    </tr>\n    <tr>\n      <th>423</th>\n      <td>000RDCYioLteXcutOjeweY</td>\n      <td>Teeje Week</td>\n      <td>1</td>\n      <td>190203</td>\n      <td>False</td>\n      <td>62</td>\n      <td>1</td>\n      <td>Jordan Sandhu;Bunty Bains</td>\n      <td>single</td>\n      <td>Teeje Week</td>\n      <td>...</td>\n      <td>190203</td>\n      <td>4</td>\n      <td>183.53633</td>\n      <td>0.103</td>\n      <td>1.000</td>\n      <td>0.339</td>\n      <td>0.473</td>\n      <td>501.0</td>\n      <td>124.0</td>\n      <td>[hip-hop]</td>\n    </tr>\n    <tr>\n      <th>31</th>\n      <td>000qpdoc97IMTBvF8gwcpy</td>\n      <td>Tief</td>\n      <td>1</td>\n      <td>331240</td>\n      <td>False</td>\n      <td>20</td>\n      <td>9</td>\n      <td>Paul Kalkbrenner</td>\n      <td>album</td>\n      <td>Zeit</td>\n      <td>...</td>\n      <td>331240</td>\n      <td>4</td>\n      <td>321.92145</td>\n      <td>0.622</td>\n      <td>1.000</td>\n      <td>0.011</td>\n      <td>0.160</td>\n      <td>699.0</td>\n      <td>175.0</td>\n      <td>[minimal-techno]</td>\n    </tr>\n    <tr>\n      <th>...</th>\n      <td>...</td>\n      <td>...</td>\n      <td>...</td>\n      <td>...</td>\n      <td>...</td>\n      <td>...</td>\n      <td>...</td>\n      <td>...</td>\n      <td>...</td>\n      <td>...</td>\n      <td>...</td>\n      <td>...</td>\n      <td>...</td>\n      <td>...</td>\n      <td>...</td>\n      <td>...</td>\n      <td>...</td>\n      <td>...</td>\n      <td>...</td>\n      <td>...</td>\n      <td>...</td>\n    </tr>\n    <tr>\n      <th>62633</th>\n      <td>7zxHiMmVLt4LGWpOMqOpUh</td>\n      <td>Aethu Kari Raavilum - From \"Bangalore Days\"</td>\n      <td>1</td>\n      <td>325156</td>\n      <td>False</td>\n      <td>64</td>\n      <td>1</td>\n      <td>Haricharan;Gopi Sundar</td>\n      <td>album</td>\n      <td>Bangalore Days</td>\n      <td>...</td>\n      <td>325156</td>\n      <td>4</td>\n      <td>315.87845</td>\n      <td>0.736</td>\n      <td>1.000</td>\n      <td>0.504</td>\n      <td>0.547</td>\n      <td>641.0</td>\n      <td>162.0</td>\n      <td>[pop-film]</td>\n    </tr>\n    <tr>\n      <th>106924</th>\n      <td>7zxpdh3EqMq2JCkOI0EqcG</td>\n      <td>Two Worlds (From \"Tarzan\")</td>\n      <td>1</td>\n      <td>109573</td>\n      <td>False</td>\n      <td>31</td>\n      <td>3</td>\n      <td>Piano Genie</td>\n      <td>single</td>\n      <td>Disney Favourites</td>\n      <td>...</td>\n      <td>109574</td>\n      <td>4</td>\n      <td>105.35474</td>\n      <td>0.206</td>\n      <td>0.993</td>\n      <td>0.863</td>\n      <td>1.000</td>\n      <td>151.0</td>\n      <td>38.0</td>\n      <td>[disney]</td>\n    </tr>\n    <tr>\n      <th>58393</th>\n      <td>7zyYmIdjqqiX6kLryb7QBx</td>\n      <td>以後別做朋友</td>\n      <td>1</td>\n      <td>260573</td>\n      <td>False</td>\n      <td>64</td>\n      <td>2</td>\n      <td>Eric Chou</td>\n      <td>album</td>\n      <td>學著愛</td>\n      <td>...</td>\n      <td>260573</td>\n      <td>4</td>\n      <td>235.45615</td>\n      <td>0.270</td>\n      <td>0.822</td>\n      <td>0.395</td>\n      <td>0.533</td>\n      <td>539.0</td>\n      <td>135.0</td>\n      <td>[mandopop]</td>\n    </tr>\n    <tr>\n      <th>36699</th>\n      <td>7zybSU9tFO9HNlwmGF7stc</td>\n      <td>Sunset Drive</td>\n      <td>1</td>\n      <td>234300</td>\n      <td>False</td>\n      <td>60</td>\n      <td>5</td>\n      <td>Stereoclip</td>\n      <td>album</td>\n      <td>Echoes</td>\n      <td>...</td>\n      <td>234300</td>\n      <td>4</td>\n      <td>228.68753</td>\n      <td>0.958</td>\n      <td>0.895</td>\n      <td>0.493</td>\n      <td>0.233</td>\n      <td>485.0</td>\n      <td>121.0</td>\n      <td>[electronic]</td>\n    </tr>\n    <tr>\n      <th>64088</th>\n      <td>7zz7iNGIWhmfFE7zlXkMma</td>\n      <td>Grant Hart</td>\n      <td>1</td>\n      <td>144973</td>\n      <td>False</td>\n      <td>22</td>\n      <td>10</td>\n      <td>The Posies</td>\n      <td>album</td>\n      <td>Amazing Disgrace</td>\n      <td>...</td>\n      <td>144973</td>\n      <td>4</td>\n      <td>144.97333</td>\n      <td>0.715</td>\n      <td>0.866</td>\n      <td>0.274</td>\n      <td>0.355</td>\n      <td>417.0</td>\n      <td>104.0</td>\n      <td>[power-pop]</td>\n    </tr>\n  </tbody>\n</table>\n<p>89562 rows × 34 columns</p>\n</div>"
     },
     "execution_count": 41,
     "metadata": {},
     "output_type": "execute_result"
    }
   ],
   "source": [
    "merged_df = tracks_dataset.groupby('id')['genre'].agg(list)\n",
    "df_merged = pd.merge(tracks_dataset, merged_df, on='id', how='left')\n",
    "\n",
    "# Find the indices of the rows with the highest popularity within each group (ID)\n",
    "indices_to_keep = df_merged.groupby('id')['popularity'].idxmax()\n",
    "# Filter the dataframe to keep only the rows with the highest popularity within each group\n",
    "tracks_dataset = df_merged.loc[indices_to_keep]\n",
    "tracks_dataset.rename(columns={'genre_y': 'genre'}, inplace=True)\n",
    "tracks_dataset = tracks_dataset.drop(columns=['genre_x'])\n",
    "# Display the resulting dataframe\n",
    "tracks_dataset"
   ],
   "metadata": {
    "collapsed": false,
    "ExecuteTime": {
     "end_time": "2024-04-06T09:39:50.701542Z",
     "start_time": "2024-04-06T09:39:49.172730Z"
    }
   },
   "id": "70c084b8e61512f0",
   "execution_count": 41
  },
  {
   "cell_type": "markdown",
   "source": [],
   "metadata": {
    "collapsed": false
   },
   "id": "e21777d3c5fee6fc"
  },
  {
   "cell_type": "markdown",
   "source": [
    "## Handling songs with duplicated names"
   ],
   "metadata": {
    "collapsed": false
   },
   "id": "b64f6e5d787f10c5"
  },
  {
   "cell_type": "code",
   "outputs": [
    {
     "data": {
      "text/plain": "                           id  \\\n13984  45OX2jjEw1l7lOFJfDP9fv   \n5996   5XeFesFbtLpXzIVDNQP22n   \n83090  2bRKxuH1o7pTmb1y4GfdEc   \n62967  4uUG5RXrOk84mYEfFvj3cK   \n62863  0WtM2NBVQNNJLh6scP13H8   \n...                       ...   \n95106  1nSYUQngGS5foiagiilbYU   \n43751  1nU1tlW9ccptgRLfgq05I3   \n90963  72ZHywsIxzF1ZkNlMyhsqt   \n16533  5Wt0gIt7RrXz5mJj5pslLC   \n80035  3RldhXk4YEmY3jguzTZ7tk   \n\n                                                    name  disc_number  \\\n13984                                              MONEY            1   \n5996                                    I Wanna Be Yours            1   \n83090          Clean White Noise - Loopable with no fade            1   \n62967                                    I'm Good (Blue)            1   \n62863                      Calm Down (with Selena Gomez)            1   \n...                                                  ...          ...   \n95106                                     Singles You Up            1   \n43751                    Schlagzeile groß, Hirn zu klein            1   \n90963  Ding! Dong! The Witch Is Dead (From \"The Wizar...            1   \n16533         Zenitsu Theme V2 (Thunder Clap and Flash!)            1   \n80035                               Elk Tour Suite Pt. 5            1   \n\n       duration_ms  explicit  popularity  track_number  \\\n13984       168227     False          95             2   \n5996        183956     False          94            12   \n83090        90228     False          94             1   \n62967       175238      True          94             1   \n62863       239317     False          93             1   \n...            ...       ...         ...           ...   \n95106       182693     False           0             3   \n43751       255093     False           0            26   \n90963       179035     False           0             4   \n16533       137948     False           0             5   \n80035        72813     False           0            24   \n\n                                             artists   album_type  \\\n13984                                           LISA       single   \n5996                                  Arctic Monkeys        album   \n83090  White Noise Baby Sleep;White Noise for Babies        album   \n62967                        David Guetta;Bebe Rexha       single   \n62863                              Rema;Selena Gomez       single   \n...                                              ...          ...   \n95106                                   Jordan Davis  compilation   \n43751                                      Frei.Wild        album   \n90963                             The Countdown Kids        album   \n16533                                     Samuel Kim       single   \n80035                          Brian Stokes Mitchell        album   \n\n                                              album_name  ...  \\\n13984                                             LALISA  ...   \n5996                                                  AM  ...   \n83090  Best White Noise for Baby Sleep - Loopable wit...  ...   \n62967                                    I'm Good (Blue)  ...   \n62863                      Calm Down (with Selena Gomez)  ...   \n...                                                  ...  ...   \n95106                         Mientras hago aromaterapia  ...   \n43751                Feinde deiner Feinde (Gold Edition)  ...   \n90963       Happy Halloween! (Spooky Favorites for Kids)  ...   \n16533                      Demon Slayer: Epic Collection  ...   \n80035  Centaurworld: S2 (Soundtrack from the Netflix ...  ...   \n\n      features_duration_ms time_signature  start_of_fade_out  \\\n13984               168228              4          162.20880   \n5996                183956              4          174.09161   \n83090                90228              0           90.22821   \n62967               175238              4          163.43945   \n62863               239318              4          231.09079   \n...                    ...            ...                ...   \n95106               182693              4          177.22050   \n43751               255093              4          247.60017   \n90963               179036              4          175.07846   \n16533               137949              4          132.38857   \n80035                72813              4           72.81333   \n\n       tempo_confidence  time_signature_confidence  key_confidence  \\\n13984             0.789                      0.989           0.043   \n5996              0.097                      1.000           0.545   \n83090             0.000                      0.000           0.000   \n62967             0.808                      0.789           0.898   \n62863             0.492                      1.000           0.593   \n...                 ...                        ...             ...   \n95106             0.137                      1.000           0.439   \n43751             0.120                      0.762           0.558   \n90963             0.826                      0.959           0.715   \n16533             0.545                      1.000           0.791   \n80035             0.071                      0.379           0.095   \n\n       mode_confidence  n_beats  n_bars                  genre  \n13984            0.253    381.0    95.0           [k-pop, pop]  \n5996             0.533    202.0    50.0  [indie, garage, rock]  \n83090            0.116      0.0     0.0                [sleep]  \n62967            0.773    368.0    91.0                  [pop]  \n62863            0.597    424.0   105.0                  [pop]  \n...                ...      ...     ...                    ...  \n95106            0.533    296.0    74.0              [country]  \n43751            0.509    818.0   205.0               [german]  \n90963            0.532    352.0    87.0             [children]  \n16533            0.703    263.0    67.0                [anime]  \n80035            0.216    152.0    37.0           [show-tunes]  \n\n[81225 rows x 34 columns]",
      "text/html": "<div>\n<style scoped>\n    .dataframe tbody tr th:only-of-type {\n        vertical-align: middle;\n    }\n\n    .dataframe tbody tr th {\n        vertical-align: top;\n    }\n\n    .dataframe thead th {\n        text-align: right;\n    }\n</style>\n<table border=\"1\" class=\"dataframe\">\n  <thead>\n    <tr style=\"text-align: right;\">\n      <th></th>\n      <th>id</th>\n      <th>name</th>\n      <th>disc_number</th>\n      <th>duration_ms</th>\n      <th>explicit</th>\n      <th>popularity</th>\n      <th>track_number</th>\n      <th>artists</th>\n      <th>album_type</th>\n      <th>album_name</th>\n      <th>...</th>\n      <th>features_duration_ms</th>\n      <th>time_signature</th>\n      <th>start_of_fade_out</th>\n      <th>tempo_confidence</th>\n      <th>time_signature_confidence</th>\n      <th>key_confidence</th>\n      <th>mode_confidence</th>\n      <th>n_beats</th>\n      <th>n_bars</th>\n      <th>genre</th>\n    </tr>\n  </thead>\n  <tbody>\n    <tr>\n      <th>13984</th>\n      <td>45OX2jjEw1l7lOFJfDP9fv</td>\n      <td>MONEY</td>\n      <td>1</td>\n      <td>168227</td>\n      <td>False</td>\n      <td>95</td>\n      <td>2</td>\n      <td>LISA</td>\n      <td>single</td>\n      <td>LALISA</td>\n      <td>...</td>\n      <td>168228</td>\n      <td>4</td>\n      <td>162.20880</td>\n      <td>0.789</td>\n      <td>0.989</td>\n      <td>0.043</td>\n      <td>0.253</td>\n      <td>381.0</td>\n      <td>95.0</td>\n      <td>[k-pop, pop]</td>\n    </tr>\n    <tr>\n      <th>5996</th>\n      <td>5XeFesFbtLpXzIVDNQP22n</td>\n      <td>I Wanna Be Yours</td>\n      <td>1</td>\n      <td>183956</td>\n      <td>False</td>\n      <td>94</td>\n      <td>12</td>\n      <td>Arctic Monkeys</td>\n      <td>album</td>\n      <td>AM</td>\n      <td>...</td>\n      <td>183956</td>\n      <td>4</td>\n      <td>174.09161</td>\n      <td>0.097</td>\n      <td>1.000</td>\n      <td>0.545</td>\n      <td>0.533</td>\n      <td>202.0</td>\n      <td>50.0</td>\n      <td>[indie, garage, rock]</td>\n    </tr>\n    <tr>\n      <th>83090</th>\n      <td>2bRKxuH1o7pTmb1y4GfdEc</td>\n      <td>Clean White Noise - Loopable with no fade</td>\n      <td>1</td>\n      <td>90228</td>\n      <td>False</td>\n      <td>94</td>\n      <td>1</td>\n      <td>White Noise Baby Sleep;White Noise for Babies</td>\n      <td>album</td>\n      <td>Best White Noise for Baby Sleep - Loopable wit...</td>\n      <td>...</td>\n      <td>90228</td>\n      <td>0</td>\n      <td>90.22821</td>\n      <td>0.000</td>\n      <td>0.000</td>\n      <td>0.000</td>\n      <td>0.116</td>\n      <td>0.0</td>\n      <td>0.0</td>\n      <td>[sleep]</td>\n    </tr>\n    <tr>\n      <th>62967</th>\n      <td>4uUG5RXrOk84mYEfFvj3cK</td>\n      <td>I'm Good (Blue)</td>\n      <td>1</td>\n      <td>175238</td>\n      <td>True</td>\n      <td>94</td>\n      <td>1</td>\n      <td>David Guetta;Bebe Rexha</td>\n      <td>single</td>\n      <td>I'm Good (Blue)</td>\n      <td>...</td>\n      <td>175238</td>\n      <td>4</td>\n      <td>163.43945</td>\n      <td>0.808</td>\n      <td>0.789</td>\n      <td>0.898</td>\n      <td>0.773</td>\n      <td>368.0</td>\n      <td>91.0</td>\n      <td>[pop]</td>\n    </tr>\n    <tr>\n      <th>62863</th>\n      <td>0WtM2NBVQNNJLh6scP13H8</td>\n      <td>Calm Down (with Selena Gomez)</td>\n      <td>1</td>\n      <td>239317</td>\n      <td>False</td>\n      <td>93</td>\n      <td>1</td>\n      <td>Rema;Selena Gomez</td>\n      <td>single</td>\n      <td>Calm Down (with Selena Gomez)</td>\n      <td>...</td>\n      <td>239318</td>\n      <td>4</td>\n      <td>231.09079</td>\n      <td>0.492</td>\n      <td>1.000</td>\n      <td>0.593</td>\n      <td>0.597</td>\n      <td>424.0</td>\n      <td>105.0</td>\n      <td>[pop]</td>\n    </tr>\n    <tr>\n      <th>...</th>\n      <td>...</td>\n      <td>...</td>\n      <td>...</td>\n      <td>...</td>\n      <td>...</td>\n      <td>...</td>\n      <td>...</td>\n      <td>...</td>\n      <td>...</td>\n      <td>...</td>\n      <td>...</td>\n      <td>...</td>\n      <td>...</td>\n      <td>...</td>\n      <td>...</td>\n      <td>...</td>\n      <td>...</td>\n      <td>...</td>\n      <td>...</td>\n      <td>...</td>\n      <td>...</td>\n    </tr>\n    <tr>\n      <th>95106</th>\n      <td>1nSYUQngGS5foiagiilbYU</td>\n      <td>Singles You Up</td>\n      <td>1</td>\n      <td>182693</td>\n      <td>False</td>\n      <td>0</td>\n      <td>3</td>\n      <td>Jordan Davis</td>\n      <td>compilation</td>\n      <td>Mientras hago aromaterapia</td>\n      <td>...</td>\n      <td>182693</td>\n      <td>4</td>\n      <td>177.22050</td>\n      <td>0.137</td>\n      <td>1.000</td>\n      <td>0.439</td>\n      <td>0.533</td>\n      <td>296.0</td>\n      <td>74.0</td>\n      <td>[country]</td>\n    </tr>\n    <tr>\n      <th>43751</th>\n      <td>1nU1tlW9ccptgRLfgq05I3</td>\n      <td>Schlagzeile groß, Hirn zu klein</td>\n      <td>1</td>\n      <td>255093</td>\n      <td>False</td>\n      <td>0</td>\n      <td>26</td>\n      <td>Frei.Wild</td>\n      <td>album</td>\n      <td>Feinde deiner Feinde (Gold Edition)</td>\n      <td>...</td>\n      <td>255093</td>\n      <td>4</td>\n      <td>247.60017</td>\n      <td>0.120</td>\n      <td>0.762</td>\n      <td>0.558</td>\n      <td>0.509</td>\n      <td>818.0</td>\n      <td>205.0</td>\n      <td>[german]</td>\n    </tr>\n    <tr>\n      <th>90963</th>\n      <td>72ZHywsIxzF1ZkNlMyhsqt</td>\n      <td>Ding! Dong! The Witch Is Dead (From \"The Wizar...</td>\n      <td>1</td>\n      <td>179035</td>\n      <td>False</td>\n      <td>0</td>\n      <td>4</td>\n      <td>The Countdown Kids</td>\n      <td>album</td>\n      <td>Happy Halloween! (Spooky Favorites for Kids)</td>\n      <td>...</td>\n      <td>179036</td>\n      <td>4</td>\n      <td>175.07846</td>\n      <td>0.826</td>\n      <td>0.959</td>\n      <td>0.715</td>\n      <td>0.532</td>\n      <td>352.0</td>\n      <td>87.0</td>\n      <td>[children]</td>\n    </tr>\n    <tr>\n      <th>16533</th>\n      <td>5Wt0gIt7RrXz5mJj5pslLC</td>\n      <td>Zenitsu Theme V2 (Thunder Clap and Flash!)</td>\n      <td>1</td>\n      <td>137948</td>\n      <td>False</td>\n      <td>0</td>\n      <td>5</td>\n      <td>Samuel Kim</td>\n      <td>single</td>\n      <td>Demon Slayer: Epic Collection</td>\n      <td>...</td>\n      <td>137949</td>\n      <td>4</td>\n      <td>132.38857</td>\n      <td>0.545</td>\n      <td>1.000</td>\n      <td>0.791</td>\n      <td>0.703</td>\n      <td>263.0</td>\n      <td>67.0</td>\n      <td>[anime]</td>\n    </tr>\n    <tr>\n      <th>80035</th>\n      <td>3RldhXk4YEmY3jguzTZ7tk</td>\n      <td>Elk Tour Suite Pt. 5</td>\n      <td>1</td>\n      <td>72813</td>\n      <td>False</td>\n      <td>0</td>\n      <td>24</td>\n      <td>Brian Stokes Mitchell</td>\n      <td>album</td>\n      <td>Centaurworld: S2 (Soundtrack from the Netflix ...</td>\n      <td>...</td>\n      <td>72813</td>\n      <td>4</td>\n      <td>72.81333</td>\n      <td>0.071</td>\n      <td>0.379</td>\n      <td>0.095</td>\n      <td>0.216</td>\n      <td>152.0</td>\n      <td>37.0</td>\n      <td>[show-tunes]</td>\n    </tr>\n  </tbody>\n</table>\n<p>81225 rows × 34 columns</p>\n</div>"
     },
     "execution_count": 42,
     "metadata": {},
     "output_type": "execute_result"
    }
   ],
   "source": [
    "# Drop all the duplicates rows with same 'name' and 'artists' values, and keep only the row with the highest popularity\n",
    "tracks_dataset = tracks_dataset.sort_values('popularity', ascending=False).drop_duplicates(['name', 'artists'])\n",
    "# Display the resulting dataframe\n",
    "tracks_dataset"
   ],
   "metadata": {
    "collapsed": false,
    "ExecuteTime": {
     "end_time": "2024-04-06T09:39:50.776970Z",
     "start_time": "2024-04-06T09:39:50.702168Z"
    }
   },
   "id": "8b45cb1e33ebd06",
   "execution_count": 42
  },
  {
   "cell_type": "markdown",
   "source": [
    "## Creating 3 new columns: 'release_year', 'release_month', 'release_day' from the 'release_date' column"
   ],
   "metadata": {
    "collapsed": false
   },
   "id": "59e90586049e8ad2"
  },
  {
   "cell_type": "code",
   "outputs": [
    {
     "data": {
      "text/plain": "      album_release_date  year month day\n13984         2021-09-10  2021    09  10\n5996          2013-09-09  2013    09  09\n83090         2017-01-08  2017    01  08\n62967         2022-08-26  2022    08  26\n62863         2022-08-25  2022    08  25\n...                  ...   ...   ...  ..\n95106         2022-10-14  2022    10  14\n43751         2013-04-19  2013    04  19\n90963         2022-10-14  2022    10  14\n16533         2021-05-21  2021    05  21\n80035         2021-12-07  2021    12  07\n\n[81225 rows x 4 columns]",
      "text/html": "<div>\n<style scoped>\n    .dataframe tbody tr th:only-of-type {\n        vertical-align: middle;\n    }\n\n    .dataframe tbody tr th {\n        vertical-align: top;\n    }\n\n    .dataframe thead th {\n        text-align: right;\n    }\n</style>\n<table border=\"1\" class=\"dataframe\">\n  <thead>\n    <tr style=\"text-align: right;\">\n      <th></th>\n      <th>album_release_date</th>\n      <th>year</th>\n      <th>month</th>\n      <th>day</th>\n    </tr>\n  </thead>\n  <tbody>\n    <tr>\n      <th>13984</th>\n      <td>2021-09-10</td>\n      <td>2021</td>\n      <td>09</td>\n      <td>10</td>\n    </tr>\n    <tr>\n      <th>5996</th>\n      <td>2013-09-09</td>\n      <td>2013</td>\n      <td>09</td>\n      <td>09</td>\n    </tr>\n    <tr>\n      <th>83090</th>\n      <td>2017-01-08</td>\n      <td>2017</td>\n      <td>01</td>\n      <td>08</td>\n    </tr>\n    <tr>\n      <th>62967</th>\n      <td>2022-08-26</td>\n      <td>2022</td>\n      <td>08</td>\n      <td>26</td>\n    </tr>\n    <tr>\n      <th>62863</th>\n      <td>2022-08-25</td>\n      <td>2022</td>\n      <td>08</td>\n      <td>25</td>\n    </tr>\n    <tr>\n      <th>...</th>\n      <td>...</td>\n      <td>...</td>\n      <td>...</td>\n      <td>...</td>\n    </tr>\n    <tr>\n      <th>95106</th>\n      <td>2022-10-14</td>\n      <td>2022</td>\n      <td>10</td>\n      <td>14</td>\n    </tr>\n    <tr>\n      <th>43751</th>\n      <td>2013-04-19</td>\n      <td>2013</td>\n      <td>04</td>\n      <td>19</td>\n    </tr>\n    <tr>\n      <th>90963</th>\n      <td>2022-10-14</td>\n      <td>2022</td>\n      <td>10</td>\n      <td>14</td>\n    </tr>\n    <tr>\n      <th>16533</th>\n      <td>2021-05-21</td>\n      <td>2021</td>\n      <td>05</td>\n      <td>21</td>\n    </tr>\n    <tr>\n      <th>80035</th>\n      <td>2021-12-07</td>\n      <td>2021</td>\n      <td>12</td>\n      <td>07</td>\n    </tr>\n  </tbody>\n</table>\n<p>81225 rows × 4 columns</p>\n</div>"
     },
     "execution_count": 43,
     "metadata": {},
     "output_type": "execute_result"
    }
   ],
   "source": [
    "# Extract year, month, and day from 'album_release_date'\n",
    "# If 'album_release_date' is in YYYY-MM format, the day will be set as NaN\n",
    "\n",
    "# First, ensure 'album_release_date' is a string to safely apply string operations\n",
    "tracks_dataset['album_release_date'] = tracks_dataset['album_release_date'].astype(str)\n",
    "\n",
    "# Split 'album_release_date' into year, month, and day\n",
    "tracks_dataset['year'] = tracks_dataset['album_release_date'].apply(lambda x: x.split('-')[0])\n",
    "tracks_dataset['month'] = tracks_dataset['album_release_date'].apply(lambda x: x.split('-')[1] if len(x.split('-')) > 1 else 'NaN')\n",
    "tracks_dataset['day'] = tracks_dataset['album_release_date'].apply(lambda x: x.split('-')[2] if len(x.split('-')) > 2 else 'NaN')\n",
    "\n",
    "# Display the first few rows to verify the new columns\n",
    "tracks_dataset[['album_release_date', 'year', 'month', 'day']]"
   ],
   "metadata": {
    "collapsed": false,
    "ExecuteTime": {
     "end_time": "2024-04-06T09:39:50.828236Z",
     "start_time": "2024-04-06T09:39:50.777649Z"
    }
   },
   "id": "ded246a9f4194978",
   "execution_count": 43
  },
  {
   "cell_type": "markdown",
   "source": [
    "## Dropping columns track_number, disc_number, album_type, album_total_tracks "
   ],
   "metadata": {
    "collapsed": false
   },
   "id": "f2fb9c7050214b9f"
  },
  {
   "cell_type": "code",
   "outputs": [],
   "source": [
    "# Drop the columns 'track_number', 'disc_number', 'album_type', 'album_total_tracks'\n",
    "tracks_dataset = tracks_dataset.drop(columns=['track_number', 'disc_number', 'album_type', 'album_total_tracks', 'album_release_date_precision', 'album_release_date'])"
   ],
   "metadata": {
    "collapsed": false,
    "ExecuteTime": {
     "end_time": "2024-04-06T09:39:50.837981Z",
     "start_time": "2024-04-06T09:39:50.829001Z"
    }
   },
   "id": "7e6d9de0ebc9f265",
   "execution_count": 44
  },
  {
   "cell_type": "code",
   "outputs": [],
   "source": [
    "# Export the cleaned datasets to CSV files\n",
    "artists_dataset.to_csv('dataset/tabular/artists_cleaned.csv', index=False)\n",
    "tracks_dataset.to_csv('dataset/tabular/tracks_cleaned.csv', index=False)"
   ],
   "metadata": {
    "collapsed": false,
    "ExecuteTime": {
     "end_time": "2024-04-06T09:39:51.469392Z",
     "start_time": "2024-04-06T09:39:50.838747Z"
    }
   },
   "id": "1b1424d7a78cd2b0",
   "execution_count": 45
  },
  {
   "cell_type": "code",
   "outputs": [],
   "source": [],
   "metadata": {
    "collapsed": false,
    "ExecuteTime": {
     "end_time": "2024-04-06T09:39:51.506935Z",
     "start_time": "2024-04-06T09:39:51.497165Z"
    }
   },
   "id": "c12de8b15446cf13",
   "execution_count": 45
  }
 ],
 "metadata": {
  "kernelspec": {
   "display_name": "Python 3",
   "language": "python",
   "name": "python3"
  },
  "language_info": {
   "codemirror_mode": {
    "name": "ipython",
    "version": 2
   },
   "file_extension": ".py",
   "mimetype": "text/x-python",
   "name": "python",
   "nbconvert_exporter": "python",
   "pygments_lexer": "ipython2",
   "version": "2.7.6"
  }
 },
 "nbformat": 4,
 "nbformat_minor": 5
}
