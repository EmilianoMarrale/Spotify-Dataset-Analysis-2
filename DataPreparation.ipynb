{
 "cells": [
  {
   "cell_type": "code",
   "outputs": [],
   "source": [
    "import pandas as pd\n",
    "import numpy as np\n",
    "import matplotlib.pyplot as plt\n",
    "from matplotlib.ticker import FuncFormatter\n",
    "import matplotlib.ticker as ticker\n",
    "import seaborn as sns"
   ],
   "metadata": {
    "collapsed": false,
    "ExecuteTime": {
     "end_time": "2024-03-23T20:15:04.007265Z",
     "start_time": "2024-03-23T20:15:03.972724Z"
    }
   },
   "id": "ebd37c16f07a267",
   "execution_count": 136
  },
  {
   "cell_type": "code",
   "execution_count": 137,
   "id": "initial_id",
   "metadata": {
    "collapsed": true,
    "ExecuteTime": {
     "end_time": "2024-03-23T20:15:04.288577Z",
     "start_time": "2024-03-23T20:15:04.009055Z"
    }
   },
   "outputs": [],
   "source": [
    "artists_dataset = pd.read_csv('dataset/tabular/artists.csv')\n",
    "tracks_dataset = pd.read_csv('dataset/tabular/tracks.csv')"
   ]
  },
  {
   "cell_type": "code",
   "outputs": [
    {
     "data": {
      "text/plain": "                            id                                        name  \\\n0       4rjA5kJJWbwU1prXCvg6Fk                                        Grey   \n1       6xzpUzzIquIyUzTLbbgSdI                                      Thrown   \n2       56tXgHlSHCfgmGhwVXNizc                                     Routine   \n3       0s3wIBczp6TdSJ2y8cveJl  Confronted - Anfisa Letyago Stranger Remix   \n4       4PSbDDd1LRYMhqPXvza6I2                             Jupiter Sunrise   \n...                        ...                                         ...   \n109542  0wiDjWz3U1WfwXSrWHXe2b     I'm Good (Blue) - REAPER Extended Remix   \n109543  46n9OJc7LOIVdj8t2l5WA5                            End Of The Night   \n109544  127uq83uGFapbddqiMUKky                     Sexy Bitch (feat. Akon)   \n109545  0ZdUHFxifUJNqo7G4aJzoF                                    Savannah   \n109546  0M4HcGtxIWVVH4rSNp6XhQ                                      Dejalo   \n\n        disc_number  duration_ms  explicit  popularity  track_number  \\\n0                 1       290479     False          52             5   \n1                 1       539229     False          45             5   \n2                 1       264200     False          39             5   \n3                 1       387413     False           0             6   \n4                 1       248956     False           0             1   \n...             ...          ...       ...         ...           ...   \n109542            1       209655      True          23             2   \n109543            1       205724      True          56             1   \n109544            1       195853      True          80             3   \n109545            1       208698     False          60             1   \n109546            1       202826     False          57             5   \n\n                               artists   album_type  \\\n0                               Kölsch        album   \n1                              Kiasmos        album   \n2                      Joris Delacroix        album   \n3               Pan-Pot;Anfisa Letyago       single   \n4                Kollektiv Turmstrasse  compilation   \n...                                ...          ...   \n109542  David Guetta;Bebe Rexha;REAPER       single   \n109543                     Danny Avila       single   \n109544               David Guetta;Akon        album   \n109545              Diviners;Philly K.       single   \n109546                            King        album   \n\n                            album_name  ... features_duration_ms  \\\n0                                 1989  ...               290479   \n1                              Kiasmos  ...               539229   \n2                        Night Visions  ...               264200   \n3                   Confronted Remixes  ...               387414   \n4                    10 Years Diynamic  ...               248957   \n...                                ...  ...                  ...   \n109542  I'm Good (Blue) [REAPER Remix]  ...               209655   \n109543                End Of The Night  ...               205724   \n109544                   One More Love  ...               195853   \n109545                        Savannah  ...               208698   \n109546                  Champagne Talk  ...               202826   \n\n       time_signature  start_of_fade_out  tempo_confidence  \\\n0                   3          275.90530             0.020   \n1                   4          517.28253             0.678   \n2                   3          259.04180             0.847   \n3                   4          387.41360             0.882   \n4                   4          239.63574             0.882   \n...               ...                ...               ...   \n109542              4          200.10376             0.729   \n109543              4          200.98611             0.712   \n109544              4          189.48643             0.814   \n109545              4          197.41605             0.650   \n109546              4          196.73688             0.428   \n\n        time_signature_confidence  key_confidence  mode_confidence  n_beats  \\\n0                           1.000           0.500            0.525    705.0   \n1                           0.326           0.410            0.589   1074.0   \n2                           0.457           0.904            0.760    516.0   \n3                           0.498           0.512            0.503    826.0   \n4                           1.000           0.474            0.459    493.0   \n...                           ...             ...              ...      ...   \n109542                      1.000           0.088            0.182    585.0   \n109543                      1.000           0.395            0.535    339.0   \n109544                      0.990           0.097            0.330    417.0   \n109545                      1.000           0.545            0.604    359.0   \n109546                      1.000           0.847            0.710    304.0   \n\n        n_bars           genre  \n0        234.0  minimal-techno  \n1        269.0  minimal-techno  \n2        171.0  minimal-techno  \n3        207.0  minimal-techno  \n4        123.0  minimal-techno  \n...        ...             ...  \n109542   145.0             edm  \n109543    84.0             edm  \n109544   106.0             edm  \n109545    89.0             edm  \n109546    75.0         hip-hop  \n\n[109547 rows x 34 columns]",
      "text/html": "<div>\n<style scoped>\n    .dataframe tbody tr th:only-of-type {\n        vertical-align: middle;\n    }\n\n    .dataframe tbody tr th {\n        vertical-align: top;\n    }\n\n    .dataframe thead th {\n        text-align: right;\n    }\n</style>\n<table border=\"1\" class=\"dataframe\">\n  <thead>\n    <tr style=\"text-align: right;\">\n      <th></th>\n      <th>id</th>\n      <th>name</th>\n      <th>disc_number</th>\n      <th>duration_ms</th>\n      <th>explicit</th>\n      <th>popularity</th>\n      <th>track_number</th>\n      <th>artists</th>\n      <th>album_type</th>\n      <th>album_name</th>\n      <th>...</th>\n      <th>features_duration_ms</th>\n      <th>time_signature</th>\n      <th>start_of_fade_out</th>\n      <th>tempo_confidence</th>\n      <th>time_signature_confidence</th>\n      <th>key_confidence</th>\n      <th>mode_confidence</th>\n      <th>n_beats</th>\n      <th>n_bars</th>\n      <th>genre</th>\n    </tr>\n  </thead>\n  <tbody>\n    <tr>\n      <th>0</th>\n      <td>4rjA5kJJWbwU1prXCvg6Fk</td>\n      <td>Grey</td>\n      <td>1</td>\n      <td>290479</td>\n      <td>False</td>\n      <td>52</td>\n      <td>5</td>\n      <td>Kölsch</td>\n      <td>album</td>\n      <td>1989</td>\n      <td>...</td>\n      <td>290479</td>\n      <td>3</td>\n      <td>275.90530</td>\n      <td>0.020</td>\n      <td>1.000</td>\n      <td>0.500</td>\n      <td>0.525</td>\n      <td>705.0</td>\n      <td>234.0</td>\n      <td>minimal-techno</td>\n    </tr>\n    <tr>\n      <th>1</th>\n      <td>6xzpUzzIquIyUzTLbbgSdI</td>\n      <td>Thrown</td>\n      <td>1</td>\n      <td>539229</td>\n      <td>False</td>\n      <td>45</td>\n      <td>5</td>\n      <td>Kiasmos</td>\n      <td>album</td>\n      <td>Kiasmos</td>\n      <td>...</td>\n      <td>539229</td>\n      <td>4</td>\n      <td>517.28253</td>\n      <td>0.678</td>\n      <td>0.326</td>\n      <td>0.410</td>\n      <td>0.589</td>\n      <td>1074.0</td>\n      <td>269.0</td>\n      <td>minimal-techno</td>\n    </tr>\n    <tr>\n      <th>2</th>\n      <td>56tXgHlSHCfgmGhwVXNizc</td>\n      <td>Routine</td>\n      <td>1</td>\n      <td>264200</td>\n      <td>False</td>\n      <td>39</td>\n      <td>5</td>\n      <td>Joris Delacroix</td>\n      <td>album</td>\n      <td>Night Visions</td>\n      <td>...</td>\n      <td>264200</td>\n      <td>3</td>\n      <td>259.04180</td>\n      <td>0.847</td>\n      <td>0.457</td>\n      <td>0.904</td>\n      <td>0.760</td>\n      <td>516.0</td>\n      <td>171.0</td>\n      <td>minimal-techno</td>\n    </tr>\n    <tr>\n      <th>3</th>\n      <td>0s3wIBczp6TdSJ2y8cveJl</td>\n      <td>Confronted - Anfisa Letyago Stranger Remix</td>\n      <td>1</td>\n      <td>387413</td>\n      <td>False</td>\n      <td>0</td>\n      <td>6</td>\n      <td>Pan-Pot;Anfisa Letyago</td>\n      <td>single</td>\n      <td>Confronted Remixes</td>\n      <td>...</td>\n      <td>387414</td>\n      <td>4</td>\n      <td>387.41360</td>\n      <td>0.882</td>\n      <td>0.498</td>\n      <td>0.512</td>\n      <td>0.503</td>\n      <td>826.0</td>\n      <td>207.0</td>\n      <td>minimal-techno</td>\n    </tr>\n    <tr>\n      <th>4</th>\n      <td>4PSbDDd1LRYMhqPXvza6I2</td>\n      <td>Jupiter Sunrise</td>\n      <td>1</td>\n      <td>248956</td>\n      <td>False</td>\n      <td>0</td>\n      <td>1</td>\n      <td>Kollektiv Turmstrasse</td>\n      <td>compilation</td>\n      <td>10 Years Diynamic</td>\n      <td>...</td>\n      <td>248957</td>\n      <td>4</td>\n      <td>239.63574</td>\n      <td>0.882</td>\n      <td>1.000</td>\n      <td>0.474</td>\n      <td>0.459</td>\n      <td>493.0</td>\n      <td>123.0</td>\n      <td>minimal-techno</td>\n    </tr>\n    <tr>\n      <th>...</th>\n      <td>...</td>\n      <td>...</td>\n      <td>...</td>\n      <td>...</td>\n      <td>...</td>\n      <td>...</td>\n      <td>...</td>\n      <td>...</td>\n      <td>...</td>\n      <td>...</td>\n      <td>...</td>\n      <td>...</td>\n      <td>...</td>\n      <td>...</td>\n      <td>...</td>\n      <td>...</td>\n      <td>...</td>\n      <td>...</td>\n      <td>...</td>\n      <td>...</td>\n      <td>...</td>\n    </tr>\n    <tr>\n      <th>109542</th>\n      <td>0wiDjWz3U1WfwXSrWHXe2b</td>\n      <td>I'm Good (Blue) - REAPER Extended Remix</td>\n      <td>1</td>\n      <td>209655</td>\n      <td>True</td>\n      <td>23</td>\n      <td>2</td>\n      <td>David Guetta;Bebe Rexha;REAPER</td>\n      <td>single</td>\n      <td>I'm Good (Blue) [REAPER Remix]</td>\n      <td>...</td>\n      <td>209655</td>\n      <td>4</td>\n      <td>200.10376</td>\n      <td>0.729</td>\n      <td>1.000</td>\n      <td>0.088</td>\n      <td>0.182</td>\n      <td>585.0</td>\n      <td>145.0</td>\n      <td>edm</td>\n    </tr>\n    <tr>\n      <th>109543</th>\n      <td>46n9OJc7LOIVdj8t2l5WA5</td>\n      <td>End Of The Night</td>\n      <td>1</td>\n      <td>205724</td>\n      <td>True</td>\n      <td>56</td>\n      <td>1</td>\n      <td>Danny Avila</td>\n      <td>single</td>\n      <td>End Of The Night</td>\n      <td>...</td>\n      <td>205724</td>\n      <td>4</td>\n      <td>200.98611</td>\n      <td>0.712</td>\n      <td>1.000</td>\n      <td>0.395</td>\n      <td>0.535</td>\n      <td>339.0</td>\n      <td>84.0</td>\n      <td>edm</td>\n    </tr>\n    <tr>\n      <th>109544</th>\n      <td>127uq83uGFapbddqiMUKky</td>\n      <td>Sexy Bitch (feat. Akon)</td>\n      <td>1</td>\n      <td>195853</td>\n      <td>True</td>\n      <td>80</td>\n      <td>3</td>\n      <td>David Guetta;Akon</td>\n      <td>album</td>\n      <td>One More Love</td>\n      <td>...</td>\n      <td>195853</td>\n      <td>4</td>\n      <td>189.48643</td>\n      <td>0.814</td>\n      <td>0.990</td>\n      <td>0.097</td>\n      <td>0.330</td>\n      <td>417.0</td>\n      <td>106.0</td>\n      <td>edm</td>\n    </tr>\n    <tr>\n      <th>109545</th>\n      <td>0ZdUHFxifUJNqo7G4aJzoF</td>\n      <td>Savannah</td>\n      <td>1</td>\n      <td>208698</td>\n      <td>False</td>\n      <td>60</td>\n      <td>1</td>\n      <td>Diviners;Philly K.</td>\n      <td>single</td>\n      <td>Savannah</td>\n      <td>...</td>\n      <td>208698</td>\n      <td>4</td>\n      <td>197.41605</td>\n      <td>0.650</td>\n      <td>1.000</td>\n      <td>0.545</td>\n      <td>0.604</td>\n      <td>359.0</td>\n      <td>89.0</td>\n      <td>edm</td>\n    </tr>\n    <tr>\n      <th>109546</th>\n      <td>0M4HcGtxIWVVH4rSNp6XhQ</td>\n      <td>Dejalo</td>\n      <td>1</td>\n      <td>202826</td>\n      <td>False</td>\n      <td>57</td>\n      <td>5</td>\n      <td>King</td>\n      <td>album</td>\n      <td>Champagne Talk</td>\n      <td>...</td>\n      <td>202826</td>\n      <td>4</td>\n      <td>196.73688</td>\n      <td>0.428</td>\n      <td>1.000</td>\n      <td>0.847</td>\n      <td>0.710</td>\n      <td>304.0</td>\n      <td>75.0</td>\n      <td>hip-hop</td>\n    </tr>\n  </tbody>\n</table>\n<p>109547 rows × 34 columns</p>\n</div>"
     },
     "execution_count": 138,
     "metadata": {},
     "output_type": "execute_result"
    }
   ],
   "source": [
    "tracks_dataset"
   ],
   "metadata": {
    "collapsed": false,
    "ExecuteTime": {
     "end_time": "2024-03-23T20:15:04.323417Z",
     "start_time": "2024-03-23T20:15:04.289381Z"
    }
   },
   "id": "7be0b9b4f5bed14d",
   "execution_count": 138
  },
  {
   "cell_type": "markdown",
   "source": [
    "# Artists Dataset"
   ],
   "metadata": {
    "collapsed": false
   },
   "id": "526a367367eca526"
  },
  {
   "cell_type": "markdown",
   "source": [
    "Dropping rows with NaN values from artists dataset"
   ],
   "metadata": {
    "collapsed": false
   },
   "id": "2ad3d709d5282ef6"
  },
  {
   "cell_type": "code",
   "outputs": [],
   "source": [
    "# Drop the rows with missing values\n",
    "artists_dataset = artists_dataset.dropna()\n",
    "# Drop the duplicated rows\n",
    "artists_dataset = artists_dataset.drop_duplicates()"
   ],
   "metadata": {
    "collapsed": false,
    "ExecuteTime": {
     "end_time": "2024-03-23T20:15:04.333506Z",
     "start_time": "2024-03-23T20:15:04.322613Z"
    }
   },
   "id": "bcc9019bc65f149b",
   "execution_count": 139
  },
  {
   "cell_type": "markdown",
   "source": [
    "# Tracks Dataset"
   ],
   "metadata": {
    "collapsed": false
   },
   "id": "146288a4369bdf28"
  },
  {
   "cell_type": "markdown",
   "source": [
    "## Aggregated all rows with duplicated 'id' values into a single row, keeping the unique genres in a list. Then dropped the duplicated rows from the original dataset and added the aggregated rows.\n"
   ],
   "metadata": {
    "collapsed": false
   },
   "id": "191b0cfaeda7ee35"
  },
  {
   "cell_type": "code",
   "outputs": [
    {
     "data": {
      "text/plain": "                            id  \\\n43417   0000vdREvCVMxbQTkS888c   \n93608   000CC8EParg64OmTxVnZ0p   \n61659   000Iz0K615UepwSJ5z2RE5   \n423     000RDCYioLteXcutOjeweY   \n31      000qpdoc97IMTBvF8gwcpy   \n...                        ...   \n62633   7zxHiMmVLt4LGWpOMqOpUh   \n106924  7zxpdh3EqMq2JCkOI0EqcG   \n58393   7zyYmIdjqqiX6kLryb7QBx   \n36699   7zybSU9tFO9HNlwmGF7stc   \n64088   7zz7iNGIWhmfFE7zlXkMma   \n\n                                                     name  disc_number  \\\n43417                                               Lolly            1   \n93608   It's All Coming Back To Me Now (Glee Cast Vers...            1   \n61659                         Böxig Leise - Pig&Dan Remix            1   \n423                                            Teeje Week            1   \n31                                                   Tief            1   \n...                                                   ...          ...   \n62633         Aethu Kari Raavilum - From \"Bangalore Days\"            1   \n106924                         Two Worlds (From \"Tarzan\")            1   \n58393                                              以後別做朋友            1   \n36699                                        Sunset Drive            1   \n64088                                          Grant Hart            1   \n\n        duration_ms  explicit  popularity  track_number  \\\n43417        160725      True          35             1   \n93608        322933     False          49            10   \n61659        515360     False           0             5   \n423          190203     False          62             1   \n31           331240     False          20             9   \n...             ...       ...         ...           ...   \n62633        325156     False          64             1   \n106924       109573     False          31             3   \n58393        260573     False          64             2   \n36699        234300     False          60             5   \n64088        144973     False          22            10   \n\n                          artists album_type         album_name  ...  \\\n43417                        Rill     single              Lolly  ...   \n93608                   Glee Cast      album    Glee Love Songs  ...   \n61659    Paul Kalkbrenner;Pig&Dan      album                  X  ...   \n423     Jordan Sandhu;Bunty Bains     single         Teeje Week  ...   \n31               Paul Kalkbrenner      album               Zeit  ...   \n...                           ...        ...                ...  ...   \n62633      Haricharan;Gopi Sundar      album     Bangalore Days  ...   \n106924                Piano Genie     single  Disney Favourites  ...   \n58393                   Eric Chou      album                學著愛  ...   \n36699                  Stereoclip      album             Echoes  ...   \n64088                  The Posies      album   Amazing Disgrace  ...   \n\n       features_duration_ms time_signature  start_of_fade_out  \\\n43417                160726              4          154.11664   \n93608                322933              4          313.21976   \n61659                515360              4          474.23273   \n423                  190203              4          183.53633   \n31                   331240              4          321.92145   \n...                     ...            ...                ...   \n62633                325156              4          315.87845   \n106924               109574              4          105.35474   \n58393                260573              4          235.45615   \n36699                234300              4          228.68753   \n64088                144973              4          144.97333   \n\n        tempo_confidence  time_signature_confidence  key_confidence  \\\n43417              0.578                      1.000           0.685   \n93608              0.030                      0.659           0.712   \n61659              0.832                      0.996           0.052   \n423                0.103                      1.000           0.339   \n31                 0.622                      1.000           0.011   \n...                  ...                        ...             ...   \n62633              0.736                      1.000           0.504   \n106924             0.206                      0.993           0.863   \n58393              0.270                      0.822           0.395   \n36699              0.958                      0.895           0.493   \n64088              0.715                      0.866           0.274   \n\n        mode_confidence  n_beats  n_bars             genre  \n43417             0.583    276.0    67.0          [german]  \n93608             0.717    937.0   238.0            [club]  \n61659             0.322   1025.0   257.0  [minimal-techno]  \n423               0.473    501.0   124.0         [hip-hop]  \n31                0.160    699.0   175.0  [minimal-techno]  \n...                 ...      ...     ...               ...  \n62633             0.547    641.0   162.0        [pop-film]  \n106924            1.000    151.0    38.0          [disney]  \n58393             0.533    539.0   135.0        [mandopop]  \n36699             0.233    485.0   121.0      [electronic]  \n64088             0.355    417.0   104.0       [power-pop]  \n\n[89562 rows x 34 columns]",
      "text/html": "<div>\n<style scoped>\n    .dataframe tbody tr th:only-of-type {\n        vertical-align: middle;\n    }\n\n    .dataframe tbody tr th {\n        vertical-align: top;\n    }\n\n    .dataframe thead th {\n        text-align: right;\n    }\n</style>\n<table border=\"1\" class=\"dataframe\">\n  <thead>\n    <tr style=\"text-align: right;\">\n      <th></th>\n      <th>id</th>\n      <th>name</th>\n      <th>disc_number</th>\n      <th>duration_ms</th>\n      <th>explicit</th>\n      <th>popularity</th>\n      <th>track_number</th>\n      <th>artists</th>\n      <th>album_type</th>\n      <th>album_name</th>\n      <th>...</th>\n      <th>features_duration_ms</th>\n      <th>time_signature</th>\n      <th>start_of_fade_out</th>\n      <th>tempo_confidence</th>\n      <th>time_signature_confidence</th>\n      <th>key_confidence</th>\n      <th>mode_confidence</th>\n      <th>n_beats</th>\n      <th>n_bars</th>\n      <th>genre</th>\n    </tr>\n  </thead>\n  <tbody>\n    <tr>\n      <th>43417</th>\n      <td>0000vdREvCVMxbQTkS888c</td>\n      <td>Lolly</td>\n      <td>1</td>\n      <td>160725</td>\n      <td>True</td>\n      <td>35</td>\n      <td>1</td>\n      <td>Rill</td>\n      <td>single</td>\n      <td>Lolly</td>\n      <td>...</td>\n      <td>160726</td>\n      <td>4</td>\n      <td>154.11664</td>\n      <td>0.578</td>\n      <td>1.000</td>\n      <td>0.685</td>\n      <td>0.583</td>\n      <td>276.0</td>\n      <td>67.0</td>\n      <td>[german]</td>\n    </tr>\n    <tr>\n      <th>93608</th>\n      <td>000CC8EParg64OmTxVnZ0p</td>\n      <td>It's All Coming Back To Me Now (Glee Cast Vers...</td>\n      <td>1</td>\n      <td>322933</td>\n      <td>False</td>\n      <td>49</td>\n      <td>10</td>\n      <td>Glee Cast</td>\n      <td>album</td>\n      <td>Glee Love Songs</td>\n      <td>...</td>\n      <td>322933</td>\n      <td>4</td>\n      <td>313.21976</td>\n      <td>0.030</td>\n      <td>0.659</td>\n      <td>0.712</td>\n      <td>0.717</td>\n      <td>937.0</td>\n      <td>238.0</td>\n      <td>[club]</td>\n    </tr>\n    <tr>\n      <th>61659</th>\n      <td>000Iz0K615UepwSJ5z2RE5</td>\n      <td>Böxig Leise - Pig&amp;Dan Remix</td>\n      <td>1</td>\n      <td>515360</td>\n      <td>False</td>\n      <td>0</td>\n      <td>5</td>\n      <td>Paul Kalkbrenner;Pig&amp;Dan</td>\n      <td>album</td>\n      <td>X</td>\n      <td>...</td>\n      <td>515360</td>\n      <td>4</td>\n      <td>474.23273</td>\n      <td>0.832</td>\n      <td>0.996</td>\n      <td>0.052</td>\n      <td>0.322</td>\n      <td>1025.0</td>\n      <td>257.0</td>\n      <td>[minimal-techno]</td>\n    </tr>\n    <tr>\n      <th>423</th>\n      <td>000RDCYioLteXcutOjeweY</td>\n      <td>Teeje Week</td>\n      <td>1</td>\n      <td>190203</td>\n      <td>False</td>\n      <td>62</td>\n      <td>1</td>\n      <td>Jordan Sandhu;Bunty Bains</td>\n      <td>single</td>\n      <td>Teeje Week</td>\n      <td>...</td>\n      <td>190203</td>\n      <td>4</td>\n      <td>183.53633</td>\n      <td>0.103</td>\n      <td>1.000</td>\n      <td>0.339</td>\n      <td>0.473</td>\n      <td>501.0</td>\n      <td>124.0</td>\n      <td>[hip-hop]</td>\n    </tr>\n    <tr>\n      <th>31</th>\n      <td>000qpdoc97IMTBvF8gwcpy</td>\n      <td>Tief</td>\n      <td>1</td>\n      <td>331240</td>\n      <td>False</td>\n      <td>20</td>\n      <td>9</td>\n      <td>Paul Kalkbrenner</td>\n      <td>album</td>\n      <td>Zeit</td>\n      <td>...</td>\n      <td>331240</td>\n      <td>4</td>\n      <td>321.92145</td>\n      <td>0.622</td>\n      <td>1.000</td>\n      <td>0.011</td>\n      <td>0.160</td>\n      <td>699.0</td>\n      <td>175.0</td>\n      <td>[minimal-techno]</td>\n    </tr>\n    <tr>\n      <th>...</th>\n      <td>...</td>\n      <td>...</td>\n      <td>...</td>\n      <td>...</td>\n      <td>...</td>\n      <td>...</td>\n      <td>...</td>\n      <td>...</td>\n      <td>...</td>\n      <td>...</td>\n      <td>...</td>\n      <td>...</td>\n      <td>...</td>\n      <td>...</td>\n      <td>...</td>\n      <td>...</td>\n      <td>...</td>\n      <td>...</td>\n      <td>...</td>\n      <td>...</td>\n      <td>...</td>\n    </tr>\n    <tr>\n      <th>62633</th>\n      <td>7zxHiMmVLt4LGWpOMqOpUh</td>\n      <td>Aethu Kari Raavilum - From \"Bangalore Days\"</td>\n      <td>1</td>\n      <td>325156</td>\n      <td>False</td>\n      <td>64</td>\n      <td>1</td>\n      <td>Haricharan;Gopi Sundar</td>\n      <td>album</td>\n      <td>Bangalore Days</td>\n      <td>...</td>\n      <td>325156</td>\n      <td>4</td>\n      <td>315.87845</td>\n      <td>0.736</td>\n      <td>1.000</td>\n      <td>0.504</td>\n      <td>0.547</td>\n      <td>641.0</td>\n      <td>162.0</td>\n      <td>[pop-film]</td>\n    </tr>\n    <tr>\n      <th>106924</th>\n      <td>7zxpdh3EqMq2JCkOI0EqcG</td>\n      <td>Two Worlds (From \"Tarzan\")</td>\n      <td>1</td>\n      <td>109573</td>\n      <td>False</td>\n      <td>31</td>\n      <td>3</td>\n      <td>Piano Genie</td>\n      <td>single</td>\n      <td>Disney Favourites</td>\n      <td>...</td>\n      <td>109574</td>\n      <td>4</td>\n      <td>105.35474</td>\n      <td>0.206</td>\n      <td>0.993</td>\n      <td>0.863</td>\n      <td>1.000</td>\n      <td>151.0</td>\n      <td>38.0</td>\n      <td>[disney]</td>\n    </tr>\n    <tr>\n      <th>58393</th>\n      <td>7zyYmIdjqqiX6kLryb7QBx</td>\n      <td>以後別做朋友</td>\n      <td>1</td>\n      <td>260573</td>\n      <td>False</td>\n      <td>64</td>\n      <td>2</td>\n      <td>Eric Chou</td>\n      <td>album</td>\n      <td>學著愛</td>\n      <td>...</td>\n      <td>260573</td>\n      <td>4</td>\n      <td>235.45615</td>\n      <td>0.270</td>\n      <td>0.822</td>\n      <td>0.395</td>\n      <td>0.533</td>\n      <td>539.0</td>\n      <td>135.0</td>\n      <td>[mandopop]</td>\n    </tr>\n    <tr>\n      <th>36699</th>\n      <td>7zybSU9tFO9HNlwmGF7stc</td>\n      <td>Sunset Drive</td>\n      <td>1</td>\n      <td>234300</td>\n      <td>False</td>\n      <td>60</td>\n      <td>5</td>\n      <td>Stereoclip</td>\n      <td>album</td>\n      <td>Echoes</td>\n      <td>...</td>\n      <td>234300</td>\n      <td>4</td>\n      <td>228.68753</td>\n      <td>0.958</td>\n      <td>0.895</td>\n      <td>0.493</td>\n      <td>0.233</td>\n      <td>485.0</td>\n      <td>121.0</td>\n      <td>[electronic]</td>\n    </tr>\n    <tr>\n      <th>64088</th>\n      <td>7zz7iNGIWhmfFE7zlXkMma</td>\n      <td>Grant Hart</td>\n      <td>1</td>\n      <td>144973</td>\n      <td>False</td>\n      <td>22</td>\n      <td>10</td>\n      <td>The Posies</td>\n      <td>album</td>\n      <td>Amazing Disgrace</td>\n      <td>...</td>\n      <td>144973</td>\n      <td>4</td>\n      <td>144.97333</td>\n      <td>0.715</td>\n      <td>0.866</td>\n      <td>0.274</td>\n      <td>0.355</td>\n      <td>417.0</td>\n      <td>104.0</td>\n      <td>[power-pop]</td>\n    </tr>\n  </tbody>\n</table>\n<p>89562 rows × 34 columns</p>\n</div>"
     },
     "execution_count": 140,
     "metadata": {},
     "output_type": "execute_result"
    }
   ],
   "source": [
    "merged_df = tracks_dataset.groupby('id')['genre'].agg(list)\n",
    "df_merged = pd.merge(tracks_dataset, merged_df, on='id', how='left')\n",
    "\n",
    "# Find the indices of the rows with the highest popularity within each group (ID)\n",
    "indices_to_keep = df_merged.groupby('id')['popularity'].idxmax()\n",
    "# Filter the dataframe to keep only the rows with the highest popularity within each group\n",
    "tracks_dataset = df_merged.loc[indices_to_keep]\n",
    "tracks_dataset.rename(columns={'genre_y': 'genre'}, inplace=True)\n",
    "tracks_dataset = tracks_dataset.drop(columns=['genre_x'])\n",
    "# Display the resulting dataframe\n",
    "tracks_dataset"
   ],
   "metadata": {
    "collapsed": false,
    "ExecuteTime": {
     "end_time": "2024-03-23T20:15:05.938445Z",
     "start_time": "2024-03-23T20:15:04.336946Z"
    }
   },
   "id": "70c084b8e61512f0",
   "execution_count": 140
  },
  {
   "cell_type": "markdown",
   "source": [],
   "metadata": {
    "collapsed": false
   },
   "id": "e21777d3c5fee6fc"
  },
  {
   "cell_type": "markdown",
   "source": [
    "## Handling songs with duplicated names"
   ],
   "metadata": {
    "collapsed": false
   },
   "id": "b64f6e5d787f10c5"
  },
  {
   "cell_type": "code",
   "outputs": [
    {
     "data": {
      "text/plain": "                            id  \\\n93608   000CC8EParg64OmTxVnZ0p   \n23666   001APMDOl3qtx1526T11n1   \n3080    003lo4y8gOylAqDs2scLx2   \n14603   003vvx7Niy0yvhvHt4a68B   \n108267  006c9li2Mybyg5vm6doEfO   \n...                        ...   \n13100   7zrxUrilLtTk4XnT5G7zF8   \n106723  7zsw78LtXUD7JfEwH64HK2   \n70008   7zubR9uYAWjb5KPZTMm85e   \n101803  7zw9dCl3DhKyakaZFfjY5k   \n9934    7zxFX9HgoVVMDsJbis57C6   \n\n                                                     name  disc_number  \\\n93608   It's All Coming Back To Me Now (Glee Cast Vers...            1   \n23666                                              Better            1   \n3080                                            Addiction            1   \n14603                                      Mr. Brightside            1   \n108267                                        Finish Line            1   \n...                                                   ...          ...   \n13100                                  Frosty The Snowman            1   \n106723                             Poor Unfortunate Souls            1   \n70008                                            Ley Seca            1   \n101803                                       I Wonder Why            1   \n9934                                           I Need You            1   \n\n        duration_ms  explicit  popularity  track_number  \\\n93608        322933     False          49            10   \n23666        176320     False           0            36   \n3080         177166      True          18             7   \n14603        222973     False          88             2   \n108267       249696     False          17            14   \n...             ...       ...         ...           ...   \n13100        131733     False           0             7   \n106723       291693     False          64             8   \n70008        263666     False           0            22   \n101803       324640     False          15             7   \n9934         167798     False           0             1   \n\n                       artists   album_type  \\\n93608                Glee Cast        album   \n23666        Pink Sweat$;KIRBY  compilation   \n3080                    Dither  compilation   \n14603              The Killers        album   \n108267  Logistics;Zara Kershaw        album   \n...                        ...          ...   \n13100          Ella Fitzgerald  compilation   \n106723      Pat Carroll;Disney        album   \n70008          Jhayco;Anuel AA  compilation   \n101803            Paul Johnson        album   \n9934                   jahmiel       single   \n\n                                album_name  ... features_duration_ms  \\\n93608                      Glee Love Songs  ...               322933   \n23666                              New RnB  ...               176321   \n3080           Dominator - We Will Prevail  ...               177167   \n14603                             Hot Fuss  ...               222973   \n108267                        Electric Sun  ...               249697   \n...                                    ...  ...                  ...   \n13100      All I Want For Christmas Is You  ...               131733   \n106723  The Little Mermaid Special Edition  ...               291693   \n70008               El perreo es el futuro  ...               263667   \n101803                      Feel The Music  ...               324640   \n9934                            I Need You  ...               167799   \n\n       time_signature  start_of_fade_out  tempo_confidence  \\\n93608               4          313.21976             0.030   \n23666               4          167.67130             0.049   \n3080                4          172.80290             0.673   \n14603               4          213.19402             0.887   \n108267              4          235.52580             0.738   \n...               ...                ...               ...   \n13100               4          128.99265             0.179   \n106723              4          281.34457             0.164   \n70008               4          257.06810             0.659   \n101803              4          312.16907             0.939   \n9934                4          160.40344             0.155   \n\n        time_signature_confidence  key_confidence  mode_confidence  n_beats  \\\n93608                       0.659           0.712            0.717    937.0   \n23666                       0.945           0.245            0.571    411.0   \n3080                        0.878           0.473            0.510    527.0   \n14603                       1.000           0.656            0.718    551.0   \n108267                      1.000           0.499            0.590    689.0   \n...                           ...             ...              ...      ...   \n13100                       0.716           0.681            0.517    165.0   \n106723                      0.165           0.681            0.585    344.0   \n70008                       0.870           0.478            0.676    457.0   \n101803                      1.000           0.164            0.320    650.0   \n9934                        1.000           0.362            0.361    241.0   \n\n        n_bars                               genre  \n93608    238.0                              [club]  \n23666    102.0                       [soul, chill]  \n3080     130.0                               [idm]  \n14603    137.0       [alternative, alt-rock, rock]  \n108267   172.0                     [drum-and-bass]  \n...        ...                                 ...  \n13100     41.0                       [jazz, blues]  \n106723    85.0                            [disney]  \n70008    114.0  [reggae, reggaeton, latin, latino]  \n101803   162.0                     [chicago-house]  \n9934      61.0                           [j-dance]  \n\n[24074 rows x 34 columns]",
      "text/html": "<div>\n<style scoped>\n    .dataframe tbody tr th:only-of-type {\n        vertical-align: middle;\n    }\n\n    .dataframe tbody tr th {\n        vertical-align: top;\n    }\n\n    .dataframe thead th {\n        text-align: right;\n    }\n</style>\n<table border=\"1\" class=\"dataframe\">\n  <thead>\n    <tr style=\"text-align: right;\">\n      <th></th>\n      <th>id</th>\n      <th>name</th>\n      <th>disc_number</th>\n      <th>duration_ms</th>\n      <th>explicit</th>\n      <th>popularity</th>\n      <th>track_number</th>\n      <th>artists</th>\n      <th>album_type</th>\n      <th>album_name</th>\n      <th>...</th>\n      <th>features_duration_ms</th>\n      <th>time_signature</th>\n      <th>start_of_fade_out</th>\n      <th>tempo_confidence</th>\n      <th>time_signature_confidence</th>\n      <th>key_confidence</th>\n      <th>mode_confidence</th>\n      <th>n_beats</th>\n      <th>n_bars</th>\n      <th>genre</th>\n    </tr>\n  </thead>\n  <tbody>\n    <tr>\n      <th>93608</th>\n      <td>000CC8EParg64OmTxVnZ0p</td>\n      <td>It's All Coming Back To Me Now (Glee Cast Vers...</td>\n      <td>1</td>\n      <td>322933</td>\n      <td>False</td>\n      <td>49</td>\n      <td>10</td>\n      <td>Glee Cast</td>\n      <td>album</td>\n      <td>Glee Love Songs</td>\n      <td>...</td>\n      <td>322933</td>\n      <td>4</td>\n      <td>313.21976</td>\n      <td>0.030</td>\n      <td>0.659</td>\n      <td>0.712</td>\n      <td>0.717</td>\n      <td>937.0</td>\n      <td>238.0</td>\n      <td>[club]</td>\n    </tr>\n    <tr>\n      <th>23666</th>\n      <td>001APMDOl3qtx1526T11n1</td>\n      <td>Better</td>\n      <td>1</td>\n      <td>176320</td>\n      <td>False</td>\n      <td>0</td>\n      <td>36</td>\n      <td>Pink Sweat$;KIRBY</td>\n      <td>compilation</td>\n      <td>New RnB</td>\n      <td>...</td>\n      <td>176321</td>\n      <td>4</td>\n      <td>167.67130</td>\n      <td>0.049</td>\n      <td>0.945</td>\n      <td>0.245</td>\n      <td>0.571</td>\n      <td>411.0</td>\n      <td>102.0</td>\n      <td>[soul, chill]</td>\n    </tr>\n    <tr>\n      <th>3080</th>\n      <td>003lo4y8gOylAqDs2scLx2</td>\n      <td>Addiction</td>\n      <td>1</td>\n      <td>177166</td>\n      <td>True</td>\n      <td>18</td>\n      <td>7</td>\n      <td>Dither</td>\n      <td>compilation</td>\n      <td>Dominator - We Will Prevail</td>\n      <td>...</td>\n      <td>177167</td>\n      <td>4</td>\n      <td>172.80290</td>\n      <td>0.673</td>\n      <td>0.878</td>\n      <td>0.473</td>\n      <td>0.510</td>\n      <td>527.0</td>\n      <td>130.0</td>\n      <td>[idm]</td>\n    </tr>\n    <tr>\n      <th>14603</th>\n      <td>003vvx7Niy0yvhvHt4a68B</td>\n      <td>Mr. Brightside</td>\n      <td>1</td>\n      <td>222973</td>\n      <td>False</td>\n      <td>88</td>\n      <td>2</td>\n      <td>The Killers</td>\n      <td>album</td>\n      <td>Hot Fuss</td>\n      <td>...</td>\n      <td>222973</td>\n      <td>4</td>\n      <td>213.19402</td>\n      <td>0.887</td>\n      <td>1.000</td>\n      <td>0.656</td>\n      <td>0.718</td>\n      <td>551.0</td>\n      <td>137.0</td>\n      <td>[alternative, alt-rock, rock]</td>\n    </tr>\n    <tr>\n      <th>108267</th>\n      <td>006c9li2Mybyg5vm6doEfO</td>\n      <td>Finish Line</td>\n      <td>1</td>\n      <td>249696</td>\n      <td>False</td>\n      <td>17</td>\n      <td>14</td>\n      <td>Logistics;Zara Kershaw</td>\n      <td>album</td>\n      <td>Electric Sun</td>\n      <td>...</td>\n      <td>249697</td>\n      <td>4</td>\n      <td>235.52580</td>\n      <td>0.738</td>\n      <td>1.000</td>\n      <td>0.499</td>\n      <td>0.590</td>\n      <td>689.0</td>\n      <td>172.0</td>\n      <td>[drum-and-bass]</td>\n    </tr>\n    <tr>\n      <th>...</th>\n      <td>...</td>\n      <td>...</td>\n      <td>...</td>\n      <td>...</td>\n      <td>...</td>\n      <td>...</td>\n      <td>...</td>\n      <td>...</td>\n      <td>...</td>\n      <td>...</td>\n      <td>...</td>\n      <td>...</td>\n      <td>...</td>\n      <td>...</td>\n      <td>...</td>\n      <td>...</td>\n      <td>...</td>\n      <td>...</td>\n      <td>...</td>\n      <td>...</td>\n      <td>...</td>\n    </tr>\n    <tr>\n      <th>13100</th>\n      <td>7zrxUrilLtTk4XnT5G7zF8</td>\n      <td>Frosty The Snowman</td>\n      <td>1</td>\n      <td>131733</td>\n      <td>False</td>\n      <td>0</td>\n      <td>7</td>\n      <td>Ella Fitzgerald</td>\n      <td>compilation</td>\n      <td>All I Want For Christmas Is You</td>\n      <td>...</td>\n      <td>131733</td>\n      <td>4</td>\n      <td>128.99265</td>\n      <td>0.179</td>\n      <td>0.716</td>\n      <td>0.681</td>\n      <td>0.517</td>\n      <td>165.0</td>\n      <td>41.0</td>\n      <td>[jazz, blues]</td>\n    </tr>\n    <tr>\n      <th>106723</th>\n      <td>7zsw78LtXUD7JfEwH64HK2</td>\n      <td>Poor Unfortunate Souls</td>\n      <td>1</td>\n      <td>291693</td>\n      <td>False</td>\n      <td>64</td>\n      <td>8</td>\n      <td>Pat Carroll;Disney</td>\n      <td>album</td>\n      <td>The Little Mermaid Special Edition</td>\n      <td>...</td>\n      <td>291693</td>\n      <td>4</td>\n      <td>281.34457</td>\n      <td>0.164</td>\n      <td>0.165</td>\n      <td>0.681</td>\n      <td>0.585</td>\n      <td>344.0</td>\n      <td>85.0</td>\n      <td>[disney]</td>\n    </tr>\n    <tr>\n      <th>70008</th>\n      <td>7zubR9uYAWjb5KPZTMm85e</td>\n      <td>Ley Seca</td>\n      <td>1</td>\n      <td>263666</td>\n      <td>False</td>\n      <td>0</td>\n      <td>22</td>\n      <td>Jhayco;Anuel AA</td>\n      <td>compilation</td>\n      <td>El perreo es el futuro</td>\n      <td>...</td>\n      <td>263667</td>\n      <td>4</td>\n      <td>257.06810</td>\n      <td>0.659</td>\n      <td>0.870</td>\n      <td>0.478</td>\n      <td>0.676</td>\n      <td>457.0</td>\n      <td>114.0</td>\n      <td>[reggae, reggaeton, latin, latino]</td>\n    </tr>\n    <tr>\n      <th>101803</th>\n      <td>7zw9dCl3DhKyakaZFfjY5k</td>\n      <td>I Wonder Why</td>\n      <td>1</td>\n      <td>324640</td>\n      <td>False</td>\n      <td>15</td>\n      <td>7</td>\n      <td>Paul Johnson</td>\n      <td>album</td>\n      <td>Feel The Music</td>\n      <td>...</td>\n      <td>324640</td>\n      <td>4</td>\n      <td>312.16907</td>\n      <td>0.939</td>\n      <td>1.000</td>\n      <td>0.164</td>\n      <td>0.320</td>\n      <td>650.0</td>\n      <td>162.0</td>\n      <td>[chicago-house]</td>\n    </tr>\n    <tr>\n      <th>9934</th>\n      <td>7zxFX9HgoVVMDsJbis57C6</td>\n      <td>I Need You</td>\n      <td>1</td>\n      <td>167798</td>\n      <td>False</td>\n      <td>0</td>\n      <td>1</td>\n      <td>jahmiel</td>\n      <td>single</td>\n      <td>I Need You</td>\n      <td>...</td>\n      <td>167799</td>\n      <td>4</td>\n      <td>160.40344</td>\n      <td>0.155</td>\n      <td>1.000</td>\n      <td>0.362</td>\n      <td>0.361</td>\n      <td>241.0</td>\n      <td>61.0</td>\n      <td>[j-dance]</td>\n    </tr>\n  </tbody>\n</table>\n<p>24074 rows × 34 columns</p>\n</div>"
     },
     "execution_count": 141,
     "metadata": {},
     "output_type": "execute_result"
    }
   ],
   "source": [
    "# Now let's check if we have duplicate names\n",
    "duplicated_rows = tracks_dataset[tracks_dataset.duplicated('name', keep=False)]\n",
    "duplicated_rows"
   ],
   "metadata": {
    "collapsed": false,
    "ExecuteTime": {
     "end_time": "2024-03-23T20:15:05.972743Z",
     "start_time": "2024-03-23T20:15:05.943309Z"
    }
   },
   "id": "db93e2207c1b420d",
   "execution_count": 141
  },
  {
   "cell_type": "code",
   "outputs": [
    {
     "data": {
      "text/plain": "                           id  \\\n13984  45OX2jjEw1l7lOFJfDP9fv   \n5996   5XeFesFbtLpXzIVDNQP22n   \n83090  2bRKxuH1o7pTmb1y4GfdEc   \n62967  4uUG5RXrOk84mYEfFvj3cK   \n62863  0WtM2NBVQNNJLh6scP13H8   \n...                       ...   \n95106  1nSYUQngGS5foiagiilbYU   \n43751  1nU1tlW9ccptgRLfgq05I3   \n90963  72ZHywsIxzF1ZkNlMyhsqt   \n16533  5Wt0gIt7RrXz5mJj5pslLC   \n80035  3RldhXk4YEmY3jguzTZ7tk   \n\n                                                    name  disc_number  \\\n13984                                              MONEY            1   \n5996                                    I Wanna Be Yours            1   \n83090          Clean White Noise - Loopable with no fade            1   \n62967                                    I'm Good (Blue)            1   \n62863                      Calm Down (with Selena Gomez)            1   \n...                                                  ...          ...   \n95106                                     Singles You Up            1   \n43751                    Schlagzeile groß, Hirn zu klein            1   \n90963  Ding! Dong! The Witch Is Dead (From \"The Wizar...            1   \n16533         Zenitsu Theme V2 (Thunder Clap and Flash!)            1   \n80035                               Elk Tour Suite Pt. 5            1   \n\n       duration_ms  explicit  popularity  track_number  \\\n13984       168227     False          95             2   \n5996        183956     False          94            12   \n83090        90228     False          94             1   \n62967       175238      True          94             1   \n62863       239317     False          93             1   \n...            ...       ...         ...           ...   \n95106       182693     False           0             3   \n43751       255093     False           0            26   \n90963       179035     False           0             4   \n16533       137948     False           0             5   \n80035        72813     False           0            24   \n\n                                             artists   album_type  \\\n13984                                           LISA       single   \n5996                                  Arctic Monkeys        album   \n83090  White Noise Baby Sleep;White Noise for Babies        album   \n62967                        David Guetta;Bebe Rexha       single   \n62863                              Rema;Selena Gomez       single   \n...                                              ...          ...   \n95106                                   Jordan Davis  compilation   \n43751                                      Frei.Wild        album   \n90963                             The Countdown Kids        album   \n16533                                     Samuel Kim       single   \n80035                          Brian Stokes Mitchell        album   \n\n                                              album_name  ...  \\\n13984                                             LALISA  ...   \n5996                                                  AM  ...   \n83090  Best White Noise for Baby Sleep - Loopable wit...  ...   \n62967                                    I'm Good (Blue)  ...   \n62863                      Calm Down (with Selena Gomez)  ...   \n...                                                  ...  ...   \n95106                         Mientras hago aromaterapia  ...   \n43751                Feinde deiner Feinde (Gold Edition)  ...   \n90963       Happy Halloween! (Spooky Favorites for Kids)  ...   \n16533                      Demon Slayer: Epic Collection  ...   \n80035  Centaurworld: S2 (Soundtrack from the Netflix ...  ...   \n\n      features_duration_ms time_signature  start_of_fade_out  \\\n13984               168228              4          162.20880   \n5996                183956              4          174.09161   \n83090                90228              0           90.22821   \n62967               175238              4          163.43945   \n62863               239318              4          231.09079   \n...                    ...            ...                ...   \n95106               182693              4          177.22050   \n43751               255093              4          247.60017   \n90963               179036              4          175.07846   \n16533               137949              4          132.38857   \n80035                72813              4           72.81333   \n\n       tempo_confidence  time_signature_confidence  key_confidence  \\\n13984             0.789                      0.989           0.043   \n5996              0.097                      1.000           0.545   \n83090             0.000                      0.000           0.000   \n62967             0.808                      0.789           0.898   \n62863             0.492                      1.000           0.593   \n...                 ...                        ...             ...   \n95106             0.137                      1.000           0.439   \n43751             0.120                      0.762           0.558   \n90963             0.826                      0.959           0.715   \n16533             0.545                      1.000           0.791   \n80035             0.071                      0.379           0.095   \n\n       mode_confidence  n_beats  n_bars                  genre  \n13984            0.253    381.0    95.0           [k-pop, pop]  \n5996             0.533    202.0    50.0  [indie, garage, rock]  \n83090            0.116      0.0     0.0                [sleep]  \n62967            0.773    368.0    91.0                  [pop]  \n62863            0.597    424.0   105.0                  [pop]  \n...                ...      ...     ...                    ...  \n95106            0.533    296.0    74.0              [country]  \n43751            0.509    818.0   205.0               [german]  \n90963            0.532    352.0    87.0             [children]  \n16533            0.703    263.0    67.0                [anime]  \n80035            0.216    152.0    37.0           [show-tunes]  \n\n[81225 rows x 34 columns]",
      "text/html": "<div>\n<style scoped>\n    .dataframe tbody tr th:only-of-type {\n        vertical-align: middle;\n    }\n\n    .dataframe tbody tr th {\n        vertical-align: top;\n    }\n\n    .dataframe thead th {\n        text-align: right;\n    }\n</style>\n<table border=\"1\" class=\"dataframe\">\n  <thead>\n    <tr style=\"text-align: right;\">\n      <th></th>\n      <th>id</th>\n      <th>name</th>\n      <th>disc_number</th>\n      <th>duration_ms</th>\n      <th>explicit</th>\n      <th>popularity</th>\n      <th>track_number</th>\n      <th>artists</th>\n      <th>album_type</th>\n      <th>album_name</th>\n      <th>...</th>\n      <th>features_duration_ms</th>\n      <th>time_signature</th>\n      <th>start_of_fade_out</th>\n      <th>tempo_confidence</th>\n      <th>time_signature_confidence</th>\n      <th>key_confidence</th>\n      <th>mode_confidence</th>\n      <th>n_beats</th>\n      <th>n_bars</th>\n      <th>genre</th>\n    </tr>\n  </thead>\n  <tbody>\n    <tr>\n      <th>13984</th>\n      <td>45OX2jjEw1l7lOFJfDP9fv</td>\n      <td>MONEY</td>\n      <td>1</td>\n      <td>168227</td>\n      <td>False</td>\n      <td>95</td>\n      <td>2</td>\n      <td>LISA</td>\n      <td>single</td>\n      <td>LALISA</td>\n      <td>...</td>\n      <td>168228</td>\n      <td>4</td>\n      <td>162.20880</td>\n      <td>0.789</td>\n      <td>0.989</td>\n      <td>0.043</td>\n      <td>0.253</td>\n      <td>381.0</td>\n      <td>95.0</td>\n      <td>[k-pop, pop]</td>\n    </tr>\n    <tr>\n      <th>5996</th>\n      <td>5XeFesFbtLpXzIVDNQP22n</td>\n      <td>I Wanna Be Yours</td>\n      <td>1</td>\n      <td>183956</td>\n      <td>False</td>\n      <td>94</td>\n      <td>12</td>\n      <td>Arctic Monkeys</td>\n      <td>album</td>\n      <td>AM</td>\n      <td>...</td>\n      <td>183956</td>\n      <td>4</td>\n      <td>174.09161</td>\n      <td>0.097</td>\n      <td>1.000</td>\n      <td>0.545</td>\n      <td>0.533</td>\n      <td>202.0</td>\n      <td>50.0</td>\n      <td>[indie, garage, rock]</td>\n    </tr>\n    <tr>\n      <th>83090</th>\n      <td>2bRKxuH1o7pTmb1y4GfdEc</td>\n      <td>Clean White Noise - Loopable with no fade</td>\n      <td>1</td>\n      <td>90228</td>\n      <td>False</td>\n      <td>94</td>\n      <td>1</td>\n      <td>White Noise Baby Sleep;White Noise for Babies</td>\n      <td>album</td>\n      <td>Best White Noise for Baby Sleep - Loopable wit...</td>\n      <td>...</td>\n      <td>90228</td>\n      <td>0</td>\n      <td>90.22821</td>\n      <td>0.000</td>\n      <td>0.000</td>\n      <td>0.000</td>\n      <td>0.116</td>\n      <td>0.0</td>\n      <td>0.0</td>\n      <td>[sleep]</td>\n    </tr>\n    <tr>\n      <th>62967</th>\n      <td>4uUG5RXrOk84mYEfFvj3cK</td>\n      <td>I'm Good (Blue)</td>\n      <td>1</td>\n      <td>175238</td>\n      <td>True</td>\n      <td>94</td>\n      <td>1</td>\n      <td>David Guetta;Bebe Rexha</td>\n      <td>single</td>\n      <td>I'm Good (Blue)</td>\n      <td>...</td>\n      <td>175238</td>\n      <td>4</td>\n      <td>163.43945</td>\n      <td>0.808</td>\n      <td>0.789</td>\n      <td>0.898</td>\n      <td>0.773</td>\n      <td>368.0</td>\n      <td>91.0</td>\n      <td>[pop]</td>\n    </tr>\n    <tr>\n      <th>62863</th>\n      <td>0WtM2NBVQNNJLh6scP13H8</td>\n      <td>Calm Down (with Selena Gomez)</td>\n      <td>1</td>\n      <td>239317</td>\n      <td>False</td>\n      <td>93</td>\n      <td>1</td>\n      <td>Rema;Selena Gomez</td>\n      <td>single</td>\n      <td>Calm Down (with Selena Gomez)</td>\n      <td>...</td>\n      <td>239318</td>\n      <td>4</td>\n      <td>231.09079</td>\n      <td>0.492</td>\n      <td>1.000</td>\n      <td>0.593</td>\n      <td>0.597</td>\n      <td>424.0</td>\n      <td>105.0</td>\n      <td>[pop]</td>\n    </tr>\n    <tr>\n      <th>...</th>\n      <td>...</td>\n      <td>...</td>\n      <td>...</td>\n      <td>...</td>\n      <td>...</td>\n      <td>...</td>\n      <td>...</td>\n      <td>...</td>\n      <td>...</td>\n      <td>...</td>\n      <td>...</td>\n      <td>...</td>\n      <td>...</td>\n      <td>...</td>\n      <td>...</td>\n      <td>...</td>\n      <td>...</td>\n      <td>...</td>\n      <td>...</td>\n      <td>...</td>\n      <td>...</td>\n    </tr>\n    <tr>\n      <th>95106</th>\n      <td>1nSYUQngGS5foiagiilbYU</td>\n      <td>Singles You Up</td>\n      <td>1</td>\n      <td>182693</td>\n      <td>False</td>\n      <td>0</td>\n      <td>3</td>\n      <td>Jordan Davis</td>\n      <td>compilation</td>\n      <td>Mientras hago aromaterapia</td>\n      <td>...</td>\n      <td>182693</td>\n      <td>4</td>\n      <td>177.22050</td>\n      <td>0.137</td>\n      <td>1.000</td>\n      <td>0.439</td>\n      <td>0.533</td>\n      <td>296.0</td>\n      <td>74.0</td>\n      <td>[country]</td>\n    </tr>\n    <tr>\n      <th>43751</th>\n      <td>1nU1tlW9ccptgRLfgq05I3</td>\n      <td>Schlagzeile groß, Hirn zu klein</td>\n      <td>1</td>\n      <td>255093</td>\n      <td>False</td>\n      <td>0</td>\n      <td>26</td>\n      <td>Frei.Wild</td>\n      <td>album</td>\n      <td>Feinde deiner Feinde (Gold Edition)</td>\n      <td>...</td>\n      <td>255093</td>\n      <td>4</td>\n      <td>247.60017</td>\n      <td>0.120</td>\n      <td>0.762</td>\n      <td>0.558</td>\n      <td>0.509</td>\n      <td>818.0</td>\n      <td>205.0</td>\n      <td>[german]</td>\n    </tr>\n    <tr>\n      <th>90963</th>\n      <td>72ZHywsIxzF1ZkNlMyhsqt</td>\n      <td>Ding! Dong! The Witch Is Dead (From \"The Wizar...</td>\n      <td>1</td>\n      <td>179035</td>\n      <td>False</td>\n      <td>0</td>\n      <td>4</td>\n      <td>The Countdown Kids</td>\n      <td>album</td>\n      <td>Happy Halloween! (Spooky Favorites for Kids)</td>\n      <td>...</td>\n      <td>179036</td>\n      <td>4</td>\n      <td>175.07846</td>\n      <td>0.826</td>\n      <td>0.959</td>\n      <td>0.715</td>\n      <td>0.532</td>\n      <td>352.0</td>\n      <td>87.0</td>\n      <td>[children]</td>\n    </tr>\n    <tr>\n      <th>16533</th>\n      <td>5Wt0gIt7RrXz5mJj5pslLC</td>\n      <td>Zenitsu Theme V2 (Thunder Clap and Flash!)</td>\n      <td>1</td>\n      <td>137948</td>\n      <td>False</td>\n      <td>0</td>\n      <td>5</td>\n      <td>Samuel Kim</td>\n      <td>single</td>\n      <td>Demon Slayer: Epic Collection</td>\n      <td>...</td>\n      <td>137949</td>\n      <td>4</td>\n      <td>132.38857</td>\n      <td>0.545</td>\n      <td>1.000</td>\n      <td>0.791</td>\n      <td>0.703</td>\n      <td>263.0</td>\n      <td>67.0</td>\n      <td>[anime]</td>\n    </tr>\n    <tr>\n      <th>80035</th>\n      <td>3RldhXk4YEmY3jguzTZ7tk</td>\n      <td>Elk Tour Suite Pt. 5</td>\n      <td>1</td>\n      <td>72813</td>\n      <td>False</td>\n      <td>0</td>\n      <td>24</td>\n      <td>Brian Stokes Mitchell</td>\n      <td>album</td>\n      <td>Centaurworld: S2 (Soundtrack from the Netflix ...</td>\n      <td>...</td>\n      <td>72813</td>\n      <td>4</td>\n      <td>72.81333</td>\n      <td>0.071</td>\n      <td>0.379</td>\n      <td>0.095</td>\n      <td>0.216</td>\n      <td>152.0</td>\n      <td>37.0</td>\n      <td>[show-tunes]</td>\n    </tr>\n  </tbody>\n</table>\n<p>81225 rows × 34 columns</p>\n</div>"
     },
     "execution_count": 142,
     "metadata": {},
     "output_type": "execute_result"
    }
   ],
   "source": [
    "# Drop all the duplicates rows with same 'name' and 'artists' values, and keep only the row with the highest popularity\n",
    "tracks_dataset = tracks_dataset.sort_values('popularity', ascending=False).drop_duplicates(['name', 'artists'])\n",
    "# Display the resulting dataframe\n",
    "tracks_dataset"
   ],
   "metadata": {
    "collapsed": false,
    "ExecuteTime": {
     "end_time": "2024-03-23T20:15:06.056446Z",
     "start_time": "2024-03-23T20:15:05.959774Z"
    }
   },
   "id": "8b45cb1e33ebd06",
   "execution_count": 142
  },
  {
   "cell_type": "code",
   "outputs": [
    {
     "data": {
      "text/plain": "array(['day', 'year', 'month'], dtype=object)"
     },
     "execution_count": 143,
     "metadata": {},
     "output_type": "execute_result"
    }
   ],
   "source": [
    "# which are the 3 distinct values of 'album_release_date_precision'?\n",
    "tracks_dataset['album_release_date_precision'].unique()"
   ],
   "metadata": {
    "collapsed": false,
    "ExecuteTime": {
     "end_time": "2024-03-23T20:15:06.056745Z",
     "start_time": "2024-03-23T20:15:06.040625Z"
    }
   },
   "id": "2cef073363ea84fa",
   "execution_count": 143
  },
  {
   "cell_type": "code",
   "outputs": [
    {
     "data": {
      "text/plain": "album_release_date_precision\nday      76274\nyear      4912\nmonth       39\nName: count, dtype: int64"
     },
     "execution_count": 144,
     "metadata": {},
     "output_type": "execute_result"
    }
   ],
   "source": [
    "# count how many rows have each distinct value of 'album_release_date_precision'\n",
    "tracks_dataset['album_release_date_precision'].value_counts()"
   ],
   "metadata": {
    "collapsed": false,
    "ExecuteTime": {
     "end_time": "2024-03-23T20:15:06.056927Z",
     "start_time": "2024-03-23T20:15:06.048663Z"
    }
   },
   "id": "4d284a62e06e582f",
   "execution_count": 144
  },
  {
   "cell_type": "markdown",
   "source": [
    "## Dropping columns track_number, disc_number, album_type, album_total_tracks "
   ],
   "metadata": {
    "collapsed": false
   },
   "id": "8fa49b86f3de7df7"
  },
  {
   "cell_type": "code",
   "outputs": [],
   "source": [
    "# Drop the columns 'track_number', 'disc_number', 'album_type', 'album_total_tracks'\n",
    "tracks_dataset = tracks_dataset.drop(columns=['track_number', 'disc_number', 'album_type', 'album_total_tracks'])"
   ],
   "metadata": {
    "collapsed": false,
    "ExecuteTime": {
     "end_time": "2024-03-23T20:15:06.078084Z",
     "start_time": "2024-03-23T20:15:06.054336Z"
    }
   },
   "id": "1c139450846686a9",
   "execution_count": 145
  },
  {
   "cell_type": "markdown",
   "source": [
    "## Creating 3 new columns: 'release_year', 'release_month', 'release_day' from the 'release_date' column"
   ],
   "metadata": {
    "collapsed": false
   },
   "id": "59e90586049e8ad2"
  },
  {
   "cell_type": "code",
   "outputs": [],
   "source": [
    "# "
   ],
   "metadata": {
    "collapsed": false,
    "ExecuteTime": {
     "end_time": "2024-03-23T20:15:06.111867Z",
     "start_time": "2024-03-23T20:15:06.094288Z"
    }
   },
   "id": "ded246a9f4194978",
   "execution_count": 147
  }
 ],
 "metadata": {
  "kernelspec": {
   "display_name": "Python 3",
   "language": "python",
   "name": "python3"
  },
  "language_info": {
   "codemirror_mode": {
    "name": "ipython",
    "version": 2
   },
   "file_extension": ".py",
   "mimetype": "text/x-python",
   "name": "python",
   "nbconvert_exporter": "python",
   "pygments_lexer": "ipython2",
   "version": "2.7.6"
  }
 },
 "nbformat": 4,
 "nbformat_minor": 5
}
