{
 "cells": [
  {
   "cell_type": "code",
   "outputs": [],
   "source": [
    "import pandas as pd\n",
    "import numpy as np\n",
    "import matplotlib.pyplot as plt\n",
    "from matplotlib.ticker import FuncFormatter\n",
    "import matplotlib.ticker as ticker\n",
    "import seaborn as sns"
   ],
   "metadata": {
    "collapsed": false
   },
   "id": "ebd37c16f07a267",
   "execution_count": null
  },
  {
   "cell_type": "code",
   "execution_count": 23,
   "id": "initial_id",
   "metadata": {
    "collapsed": true,
    "ExecuteTime": {
     "end_time": "2024-03-24T14:10:37.117642Z",
     "start_time": "2024-03-24T14:10:36.831077Z"
    }
   },
   "outputs": [],
   "source": [
    "artists_dataset = pd.read_csv('dataset/tabular/artists.csv')\n",
    "tracks_dataset = pd.read_csv('dataset/tabular/tracks.csv')"
   ]
  },
  {
   "cell_type": "code",
   "outputs": [],
   "source": [
    "tracks_dataset"
   ],
   "metadata": {
    "collapsed": false
   },
   "id": "7be0b9b4f5bed14d",
   "execution_count": null
  },
  {
   "cell_type": "markdown",
   "source": [
    "# Artists Dataset"
   ],
   "metadata": {
    "collapsed": false
   },
   "id": "526a367367eca526"
  },
  {
   "cell_type": "markdown",
   "source": [
    "Dropping rows with NaN and duplicated lines from artists dataset"
   ],
   "metadata": {
    "collapsed": false
   },
   "id": "2ad3d709d5282ef6"
  },
  {
   "cell_type": "code",
   "outputs": [],
   "source": [
    "# Drop the rows with missing values\n",
    "artists_dataset = artists_dataset.dropna()\n",
    "# Drop the duplicated rows\n",
    "artists_dataset = artists_dataset.drop_duplicates()"
   ],
   "metadata": {
    "collapsed": false,
    "ExecuteTime": {
     "end_time": "2024-03-24T14:10:38.209215Z",
     "start_time": "2024-03-24T14:10:38.187407Z"
    }
   },
   "id": "bcc9019bc65f149b",
   "execution_count": 24
  },
  {
   "cell_type": "code",
   "outputs": [
    {
     "data": {
      "text/plain": "                           id                 name  popularity   followers  \\\n13064  06HL4z0CvFAxyc27GXpf02         Taylor Swift       100.0  82377431.0   \n4086   3TVXtAsR1Inumwj472S9r4                Drake        94.0  78233981.0   \n308    1Xyo4u8uXC1ZmMpatF05PJ           The Weeknd        94.0  69417099.0   \n4327   4q3ewBCX7sLwd24euuV69X            Bad Bunny        94.0  72659297.0   \n6559   0Y5tJX1MQlPlqiwlOH1tJY         Travis Scott        94.0  23519791.0   \n...                       ...                  ...         ...         ...   \n25709  1qLPQciZ1gRoYAd5zusgGe        Martina Rudic         0.0        12.0   \n841    4V8YX6UEzcFLmHUh2HfJux  Jean-Philippe Audin         0.0        12.0   \n15434  4u7SioU0plZ0L4kBCEdj47        Alexei Kuzmin         0.0         4.0   \n25735  2vh8ZeDiygDZkW4JUtgRwH             Azhirock         0.0       194.0   \n15368  7xqhgmBxWYgfFnoLEOXV9M       Матвей Сахаров         0.0         1.0   \n\n                                                  genres  \n13064                                            ['pop']  \n4086   ['canadian hip hop', 'canadian pop', 'hip hop'...  \n308    ['canadian contemporary r&b', 'canadian pop', ...  \n4327       ['reggaeton', 'trap latino', 'urbano latino']  \n6559                    ['hip hop', 'rap', 'slap house']  \n...                                                  ...  \n25709                                                 []  \n841                                                   []  \n15434                                                 []  \n25735                                  ['iranian metal']  \n15368                                                 []  \n\n[30088 rows x 5 columns]",
      "text/html": "<div>\n<style scoped>\n    .dataframe tbody tr th:only-of-type {\n        vertical-align: middle;\n    }\n\n    .dataframe tbody tr th {\n        vertical-align: top;\n    }\n\n    .dataframe thead th {\n        text-align: right;\n    }\n</style>\n<table border=\"1\" class=\"dataframe\">\n  <thead>\n    <tr style=\"text-align: right;\">\n      <th></th>\n      <th>id</th>\n      <th>name</th>\n      <th>popularity</th>\n      <th>followers</th>\n      <th>genres</th>\n    </tr>\n  </thead>\n  <tbody>\n    <tr>\n      <th>13064</th>\n      <td>06HL4z0CvFAxyc27GXpf02</td>\n      <td>Taylor Swift</td>\n      <td>100.0</td>\n      <td>82377431.0</td>\n      <td>['pop']</td>\n    </tr>\n    <tr>\n      <th>4086</th>\n      <td>3TVXtAsR1Inumwj472S9r4</td>\n      <td>Drake</td>\n      <td>94.0</td>\n      <td>78233981.0</td>\n      <td>['canadian hip hop', 'canadian pop', 'hip hop'...</td>\n    </tr>\n    <tr>\n      <th>308</th>\n      <td>1Xyo4u8uXC1ZmMpatF05PJ</td>\n      <td>The Weeknd</td>\n      <td>94.0</td>\n      <td>69417099.0</td>\n      <td>['canadian contemporary r&amp;b', 'canadian pop', ...</td>\n    </tr>\n    <tr>\n      <th>4327</th>\n      <td>4q3ewBCX7sLwd24euuV69X</td>\n      <td>Bad Bunny</td>\n      <td>94.0</td>\n      <td>72659297.0</td>\n      <td>['reggaeton', 'trap latino', 'urbano latino']</td>\n    </tr>\n    <tr>\n      <th>6559</th>\n      <td>0Y5tJX1MQlPlqiwlOH1tJY</td>\n      <td>Travis Scott</td>\n      <td>94.0</td>\n      <td>23519791.0</td>\n      <td>['hip hop', 'rap', 'slap house']</td>\n    </tr>\n    <tr>\n      <th>...</th>\n      <td>...</td>\n      <td>...</td>\n      <td>...</td>\n      <td>...</td>\n      <td>...</td>\n    </tr>\n    <tr>\n      <th>25709</th>\n      <td>1qLPQciZ1gRoYAd5zusgGe</td>\n      <td>Martina Rudic</td>\n      <td>0.0</td>\n      <td>12.0</td>\n      <td>[]</td>\n    </tr>\n    <tr>\n      <th>841</th>\n      <td>4V8YX6UEzcFLmHUh2HfJux</td>\n      <td>Jean-Philippe Audin</td>\n      <td>0.0</td>\n      <td>12.0</td>\n      <td>[]</td>\n    </tr>\n    <tr>\n      <th>15434</th>\n      <td>4u7SioU0plZ0L4kBCEdj47</td>\n      <td>Alexei Kuzmin</td>\n      <td>0.0</td>\n      <td>4.0</td>\n      <td>[]</td>\n    </tr>\n    <tr>\n      <th>25735</th>\n      <td>2vh8ZeDiygDZkW4JUtgRwH</td>\n      <td>Azhirock</td>\n      <td>0.0</td>\n      <td>194.0</td>\n      <td>['iranian metal']</td>\n    </tr>\n    <tr>\n      <th>15368</th>\n      <td>7xqhgmBxWYgfFnoLEOXV9M</td>\n      <td>Матвей Сахаров</td>\n      <td>0.0</td>\n      <td>1.0</td>\n      <td>[]</td>\n    </tr>\n  </tbody>\n</table>\n<p>30088 rows × 5 columns</p>\n</div>"
     },
     "execution_count": 25,
     "metadata": {},
     "output_type": "execute_result"
    }
   ],
   "source": [
    "#Drop all the artists with same name and same genres\n",
    "artists_dataset = artists_dataset.sort_values('popularity', ascending=False).drop_duplicates(['name', 'genres'])\n",
    "# Display the resulting dataframe\n",
    "artists_dataset"
   ],
   "metadata": {
    "collapsed": false,
    "ExecuteTime": {
     "end_time": "2024-03-24T14:10:38.681884Z",
     "start_time": "2024-03-24T14:10:38.668474Z"
    }
   },
   "id": "e2cacc6e06aad27f",
   "execution_count": 25
  },
  {
   "cell_type": "code",
   "outputs": [
    {
     "data": {
      "text/plain": "                           id                    name  popularity   followers  \\\n4331   2jSGzJw0ebJLu7OLVSOcBP                  Plan B        77.0   3265393.0   \n5941   4W12lEvVl5wectUtRNrvDh  White Noise Baby Sleep        75.0     31191.0   \n4158   4fEkbug6kZzzJ8eYX6Kbbp                      KK        75.0  12587568.0   \n258    1wxPItEzr7U7rGSMPqZ25r          Shiloh Dynasty        75.0   1609334.0   \n20678  3CJKkU0XuElRT1z8rEtIYg                 Luciano        72.0   1915232.0   \n...                       ...                     ...         ...         ...   \n9427   6qp3DqptxGnT0LAjM71V8B                    Fery         0.0      2780.0   \n4321   6J6xE014tm1XdKAzOYbOkL          Marley Carroll         0.0         1.0   \n7333   3ggp4QNbijnG11uuPMVQ0v               Smartface         0.0        11.0   \n488    41tlGPBvFWRfo0lU6PZEcF          Shiloh Dynasty         0.0     13240.0   \n22403  2B7O04XHKOmvBx2b7jFkpZ                 Liniker         0.0         4.0   \n\n                                              genres  \n4331   ['reggaeton', 'trap latino', 'urbano latino']  \n5941                                       ['sleep']  \n4158                   ['filmi', 'modern bollywood']  \n258                     ['lo-fi chill', 'sad lo-fi']  \n20678             ['german drill', 'german hip hop']  \n...                                              ...  \n9427                                 ['anime lo-fi']  \n4321                                              []  \n7333                                              []  \n488                                               []  \n22403                                             []  \n\n[337 rows x 5 columns]",
      "text/html": "<div>\n<style scoped>\n    .dataframe tbody tr th:only-of-type {\n        vertical-align: middle;\n    }\n\n    .dataframe tbody tr th {\n        vertical-align: top;\n    }\n\n    .dataframe thead th {\n        text-align: right;\n    }\n</style>\n<table border=\"1\" class=\"dataframe\">\n  <thead>\n    <tr style=\"text-align: right;\">\n      <th></th>\n      <th>id</th>\n      <th>name</th>\n      <th>popularity</th>\n      <th>followers</th>\n      <th>genres</th>\n    </tr>\n  </thead>\n  <tbody>\n    <tr>\n      <th>4331</th>\n      <td>2jSGzJw0ebJLu7OLVSOcBP</td>\n      <td>Plan B</td>\n      <td>77.0</td>\n      <td>3265393.0</td>\n      <td>['reggaeton', 'trap latino', 'urbano latino']</td>\n    </tr>\n    <tr>\n      <th>5941</th>\n      <td>4W12lEvVl5wectUtRNrvDh</td>\n      <td>White Noise Baby Sleep</td>\n      <td>75.0</td>\n      <td>31191.0</td>\n      <td>['sleep']</td>\n    </tr>\n    <tr>\n      <th>4158</th>\n      <td>4fEkbug6kZzzJ8eYX6Kbbp</td>\n      <td>KK</td>\n      <td>75.0</td>\n      <td>12587568.0</td>\n      <td>['filmi', 'modern bollywood']</td>\n    </tr>\n    <tr>\n      <th>258</th>\n      <td>1wxPItEzr7U7rGSMPqZ25r</td>\n      <td>Shiloh Dynasty</td>\n      <td>75.0</td>\n      <td>1609334.0</td>\n      <td>['lo-fi chill', 'sad lo-fi']</td>\n    </tr>\n    <tr>\n      <th>20678</th>\n      <td>3CJKkU0XuElRT1z8rEtIYg</td>\n      <td>Luciano</td>\n      <td>72.0</td>\n      <td>1915232.0</td>\n      <td>['german drill', 'german hip hop']</td>\n    </tr>\n    <tr>\n      <th>...</th>\n      <td>...</td>\n      <td>...</td>\n      <td>...</td>\n      <td>...</td>\n      <td>...</td>\n    </tr>\n    <tr>\n      <th>9427</th>\n      <td>6qp3DqptxGnT0LAjM71V8B</td>\n      <td>Fery</td>\n      <td>0.0</td>\n      <td>2780.0</td>\n      <td>['anime lo-fi']</td>\n    </tr>\n    <tr>\n      <th>4321</th>\n      <td>6J6xE014tm1XdKAzOYbOkL</td>\n      <td>Marley Carroll</td>\n      <td>0.0</td>\n      <td>1.0</td>\n      <td>[]</td>\n    </tr>\n    <tr>\n      <th>7333</th>\n      <td>3ggp4QNbijnG11uuPMVQ0v</td>\n      <td>Smartface</td>\n      <td>0.0</td>\n      <td>11.0</td>\n      <td>[]</td>\n    </tr>\n    <tr>\n      <th>488</th>\n      <td>41tlGPBvFWRfo0lU6PZEcF</td>\n      <td>Shiloh Dynasty</td>\n      <td>0.0</td>\n      <td>13240.0</td>\n      <td>[]</td>\n    </tr>\n    <tr>\n      <th>22403</th>\n      <td>2B7O04XHKOmvBx2b7jFkpZ</td>\n      <td>Liniker</td>\n      <td>0.0</td>\n      <td>4.0</td>\n      <td>[]</td>\n    </tr>\n  </tbody>\n</table>\n<p>337 rows × 5 columns</p>\n</div>"
     },
     "execution_count": 28,
     "metadata": {},
     "output_type": "execute_result"
    }
   ],
   "source": [
    "# Now let's check if we have duplicate names\n",
    "duplicated_rows = artists_dataset[artists_dataset.duplicated('name', keep=False)]\n",
    "duplicated_rows"
   ],
   "metadata": {
    "collapsed": false,
    "ExecuteTime": {
     "end_time": "2024-03-24T14:14:41.321074Z",
     "start_time": "2024-03-24T14:14:41.312615Z"
    }
   },
   "id": "5185270e46b922f6",
   "execution_count": 28
  },
  {
   "cell_type": "markdown",
   "source": [
    "# Tracks Dataset"
   ],
   "metadata": {
    "collapsed": false
   },
   "id": "146288a4369bdf28"
  },
  {
   "cell_type": "markdown",
   "source": [
    "## Aggregated all rows with duplicated 'id' values into a single row, keeping the unique genres in a list. Then dropped the duplicated rows from the original dataset and added the aggregated rows.\n"
   ],
   "metadata": {
    "collapsed": false
   },
   "id": "191b0cfaeda7ee35"
  },
  {
   "cell_type": "code",
   "outputs": [],
   "source": [
    "merged_df = tracks_dataset.groupby('id')['genre'].agg(list)\n",
    "df_merged = pd.merge(tracks_dataset, merged_df, on='id', how='left')\n",
    "\n",
    "# Find the indices of the rows with the highest popularity within each group (ID)\n",
    "indices_to_keep = df_merged.groupby('id')['popularity'].idxmax()\n",
    "# Filter the dataframe to keep only the rows with the highest popularity within each group\n",
    "tracks_dataset = df_merged.loc[indices_to_keep]\n",
    "tracks_dataset.rename(columns={'genre_y': 'genre'}, inplace=True)\n",
    "tracks_dataset = tracks_dataset.drop(columns=['genre_x'])\n",
    "# Display the resulting dataframe\n",
    "tracks_dataset"
   ],
   "metadata": {
    "collapsed": false
   },
   "id": "70c084b8e61512f0",
   "execution_count": null
  },
  {
   "cell_type": "markdown",
   "source": [],
   "metadata": {
    "collapsed": false
   },
   "id": "e21777d3c5fee6fc"
  },
  {
   "cell_type": "markdown",
   "source": [
    "## Handling songs with duplicated names"
   ],
   "metadata": {
    "collapsed": false
   },
   "id": "b64f6e5d787f10c5"
  },
  {
   "cell_type": "code",
   "outputs": [],
   "source": [
    "# Drop all the duplicates rows with same 'name' and 'artists' values, and keep only the row with the highest popularity\n",
    "tracks_dataset = tracks_dataset.sort_values('popularity', ascending=False).drop_duplicates(['name', 'artists'])\n",
    "# Display the resulting dataframe\n",
    "tracks_dataset"
   ],
   "metadata": {
    "collapsed": false
   },
   "id": "8b45cb1e33ebd06",
   "execution_count": null
  },
  {
   "cell_type": "code",
   "outputs": [],
   "source": [
    "# which are the 3 distinct values of 'album_release_date_precision'?\n",
    "tracks_dataset['album_release_date_precision'].unique()"
   ],
   "metadata": {
    "collapsed": false
   },
   "id": "2cef073363ea84fa",
   "execution_count": null
  },
  {
   "cell_type": "code",
   "outputs": [],
   "source": [
    "# count how many rows have each distinct value of 'album_release_date_precision'\n",
    "tracks_dataset['album_release_date_precision'].value_counts()"
   ],
   "metadata": {
    "collapsed": false
   },
   "id": "4d284a62e06e582f",
   "execution_count": null
  },
  {
   "cell_type": "markdown",
   "source": [
    "## Creating 3 new columns: 'release_year', 'release_month', 'release_day' from the 'release_date' column"
   ],
   "metadata": {
    "collapsed": false
   },
   "id": "59e90586049e8ad2"
  },
  {
   "cell_type": "code",
   "outputs": [],
   "source": [
    "# Extract year, month, and day from 'album_release_date'\n",
    "# If 'album_release_date' is in YYYY-MM format, the day will be set as NaN\n",
    "\n",
    "# First, ensure 'album_release_date' is a string to safely apply string operations\n",
    "tracks_dataset['album_release_date'] = tracks_dataset['album_release_date'].astype(str)\n",
    "\n",
    "# Split 'album_release_date' into year, month, and day\n",
    "tracks_dataset['year'] = tracks_dataset['album_release_date'].apply(lambda x: x.split('-')[0])\n",
    "tracks_dataset['month'] = tracks_dataset['album_release_date'].apply(lambda x: x.split('-')[1] if len(x.split('-')) > 1 else 'NaN')\n",
    "tracks_dataset['day'] = tracks_dataset['album_release_date'].apply(lambda x: x.split('-')[2] if len(x.split('-')) > 2 else 'NaN')\n",
    "\n",
    "# Display the first few rows to verify the new columns\n",
    "tracks_dataset[['album_release_date', 'year', 'month', 'day']]"
   ],
   "metadata": {
    "collapsed": false
   },
   "id": "ded246a9f4194978",
   "execution_count": null
  },
  {
   "cell_type": "markdown",
   "source": [
    "## Dropping columns track_number, disc_number, album_type, album_total_tracks "
   ],
   "metadata": {
    "collapsed": false
   },
   "id": "f2fb9c7050214b9f"
  },
  {
   "cell_type": "code",
   "outputs": [],
   "source": [
    "# Drop the columns 'track_number', 'disc_number', 'album_type', 'album_total_tracks'\n",
    "tracks_dataset = tracks_dataset.drop(columns=['track_number', 'disc_number', 'album_type', 'album_total_tracks', 'album_release_date_precision', 'album_release_date'])\n"
   ],
   "metadata": {
    "collapsed": false
   },
   "id": "7e6d9de0ebc9f265"
  }
 ],
 "metadata": {
  "kernelspec": {
   "display_name": "Python 3",
   "language": "python",
   "name": "python3"
  },
  "language_info": {
   "codemirror_mode": {
    "name": "ipython",
    "version": 2
   },
   "file_extension": ".py",
   "mimetype": "text/x-python",
   "name": "python",
   "nbconvert_exporter": "python",
   "pygments_lexer": "ipython2",
   "version": "2.7.6"
  }
 },
 "nbformat": 4,
 "nbformat_minor": 5
}
