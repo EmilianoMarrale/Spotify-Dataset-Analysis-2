{
 "cells": [
  {
   "cell_type": "markdown",
   "metadata": {},
   "source": [
    "# Load TS"
   ]
  },
  {
   "cell_type": "code",
   "execution_count": null,
   "metadata": {},
   "outputs": [],
   "source": [
    "import numpy as np\n",
    "import os\n",
    "\n",
    "def loadnpy(filename):\n",
    "    return np.load(filename)\n",
    "\n",
    "\n",
    "dir_path = 'dataset/time_series/'\n",
    "# dir_path = 'dataset/cleaned_time_series/'\n",
    "len_threshold = 1280\n",
    "X, y, ids = [], [], []\n",
    "\n",
    "for file in os.listdir(dir_path):\n",
    "    if os.path.splitext(file)[1] != '.npy':\n",
    "        continue\n",
    "\n",
    "    split = file.split(\"_\")\n",
    "    ids.append(split[0])  # track_id\n",
    "    y.append(split[1][:-4])  # genre\n",
    "    ts = loadnpy(dir_path + file)\n",
    "\n",
    "    if len(ts) > len_threshold:\n",
    "        ts = ts[0:len_threshold]\n",
    "    else:\n",
    "        # pad = [np.mean(ts[:-5])] * (len_threshold-len(ts)) # fill by mean value of last n observations\n",
    "        pad = [ts[-1]] * (len_threshold - len(ts))  # fill with last observation\n",
    "        ts = np.append(ts, pad)\n",
    "\n",
    "    X.append([ts])\n",
    "\n",
    "X, y, ids = np.array(X), np.array(y), np.array(ids)\n"
   ]
  },
  {
   "cell_type": "markdown",
   "metadata": {},
   "source": [
    "# Offset translation and Amplitude scaling"
   ]
  },
  {
   "cell_type": "code",
   "execution_count": null,
   "metadata": {},
   "outputs": [],
   "source": [
    "for i in range(len(X)):\n",
    "    X[i] = X[i] - X[i].mean() #Offset translation\n",
    "for i in range(len(X)):\n",
    "    X[i] = (X[i] - X[i].mean()) / X[i].std() #Amplitue scaling"
   ]
  },
  {
   "cell_type": "markdown",
   "metadata": {},
   "source": [
    "# Trend removal"
   ]
  },
  {
   "cell_type": "code",
   "execution_count": null,
   "metadata": {},
   "outputs": [],
   "source": [
    "N = 5\n",
    "slope_threshold = 0.0017\n",
    "trending_series_indices = []\n",
    "\n",
    "def estimate_slope(y_values, x_values):\n",
    "        slope = np.polyfit(x_values, y_values, 1)[0]\n",
    "        return slope\n",
    "\n",
    "def calculate_moving_average(data, window_size):\n",
    "    return np.convolve(data, np.ones(window_size)/window_size, mode='valid')\n",
    "\n",
    "\n",
    "for i in range(len(X)):\n",
    "    moving_avg = calculate_moving_average(X[i,-1].T, N)\n",
    "\n",
    "    x_values = np.arange(N-1, N-1 + len(moving_avg))\n",
    "\n",
    "    slope = estimate_slope(moving_avg, x_values)\n",
    "    if slope > slope_threshold:\n",
    "        trending_series_indices.append(i)\n",
    "\n",
    "print(f\"Indices of trending time series: {trending_series_indices}\")\n",
    "print(f\"Number of trending time series: {len(trending_series_indices)}\")"
   ]
  },
  {
   "cell_type": "markdown",
   "metadata": {},
   "source": [
    "plot time series with trend detected"
   ]
  },
  {
   "cell_type": "code",
   "execution_count": null,
   "metadata": {},
   "outputs": [],
   "source": [
    "import matplotlib.pyplot as plt\n",
    "\n",
    "plt.figure(figsize=(30, 20))\n",
    "for index in trending_series_indices:\n",
    "    plt.plot(X[index][0])\n",
    "    \n",
    "plt.xlabel('Index')\n",
    "plt.ylabel('Time Series')\n",
    "plt.title('Trending Time Series')\n",
    "plt.legend(y[trending_series_indices])\n",
    "plt.show()\n"
   ]
  },
  {
   "cell_type": "markdown",
   "metadata": {},
   "source": [
    "Detrend"
   ]
  },
  {
   "cell_type": "code",
   "execution_count": null,
   "metadata": {},
   "outputs": [],
   "source": [
    "from sktime.transformations.series.detrend import Detrender\n",
    "\n",
    "# Creazione dell'istanza del detrender\n",
    "detrender = Detrender()\n",
    "\n",
    "# Adattamento del detrender ai dati\n",
    "detrender.fit(X[trending_series_indices])\n",
    "\n",
    "# Trasformazione dei dati utilizzando il detrender adattato\n",
    "X[trending_series_indices] = detrender.transform(X[trending_series_indices])"
   ]
  },
  {
   "cell_type": "markdown",
   "metadata": {},
   "source": [
    "Plot detrended time series"
   ]
  },
  {
   "cell_type": "code",
   "execution_count": null,
   "metadata": {},
   "outputs": [],
   "source": [
    "import matplotlib.pyplot as plt\n",
    "\n",
    "plt.figure(figsize=(30, 20))\n",
    "for index in trending_series_indices:\n",
    "    plt.plot(X[index][0])\n",
    "    \n",
    "plt.xlabel('Index')\n",
    "plt.ylabel('Time Series')\n",
    "plt.title('Trending Time Series')\n",
    "plt.legend(y[trending_series_indices])\n",
    "plt.show()\n"
   ]
  },
  {
   "cell_type": "markdown",
   "metadata": {},
   "source": [
    "# Save cleaned time series in new folder"
   ]
  },
  {
   "cell_type": "code",
   "execution_count": null,
   "metadata": {},
   "outputs": [],
   "source": [
    "import numpy as np\n",
    "import os\n",
    "\n",
    "# Directory di output per i file npy\n",
    "output_directory = \"./dataset/cleaned_time_series\"\n",
    "\n",
    "# Itera attraverso ciascuna serie temporale e salvala in un file npy\n",
    "for i, serie in enumerate(X):\n",
    "    # Trasponi la serie temporale prima di salvarla\n",
    "    serie_trasposta = serie.reshape(-1, 1)  # Rappresenta la serie temporale come una singola colonna\n",
    "    filename = f\"{ids[i]}_{y[i]}.npy\"\n",
    "    np.save(os.path.join(output_directory, filename), serie_trasposta)\n"
   ]
  }
 ],
 "metadata": {
  "kernelspec": {
   "display_name": "Python 3",
   "language": "python",
   "name": "python3"
  },
  "language_info": {
   "codemirror_mode": {
    "name": "ipython",
    "version": 3
   },
   "file_extension": ".py",
   "mimetype": "text/x-python",
   "name": "python",
   "nbconvert_exporter": "python",
   "pygments_lexer": "ipython3",
   "version": "3.9.19"
  }
 },
 "nbformat": 4,
 "nbformat_minor": 2
}
